{
 "cells": [
  {
   "cell_type": "markdown",
   "metadata": {},
   "source": [
    "# TouchPass Analysis"
   ]
  },
  {
   "cell_type": "markdown",
   "metadata": {},
   "source": [
    "The data for this analysis is from April 2021 and comes from the TouchPass API. This analysis will attempt to answer several questions (1) How many passengers reached their monthly fare cap limit? and (2) How long did those same passengers continue to ride once their monthly fare cap was reached?\n"
   ]
  },
  {
   "cell_type": "code",
   "execution_count": 1,
   "metadata": {},
   "outputs": [],
   "source": [
    "# Import libraries\n",
    "import os\n",
    "import json\n",
    "import requests\n",
    "import numpy as np\n",
    "import pandas as pd\n",
    "import datetime as dt\n",
    "import seaborn as sns\n",
    "import matplotlib.pyplot as plt\n",
    "\n",
    "from arcgis.gis import GIS\n",
    "\n",
    "pd.options.display.max_columns = 999"
   ]
  },
  {
   "cell_type": "markdown",
   "metadata": {},
   "source": [
    "We'll go ahead and sign into ArcGIS Online to take advantage of some plotting and mapping capabilities."
   ]
  },
  {
   "cell_type": "code",
   "execution_count": 2,
   "metadata": {},
   "outputs": [],
   "source": [
    "# sign into ArcGIS Online\n",
    "username = os.environ.get('ArcGIS Username')\n",
    "password = os.environ.get('AGOL Password')\n",
    "\n",
    "gis = GIS('https://www.arcgis.com', username, password)"
   ]
  },
  {
   "cell_type": "markdown",
   "metadata": {},
   "source": [
    "Next, we'll pass in the parameters to the TouchPass API and then make the call to the API."
   ]
  },
  {
   "cell_type": "code",
   "execution_count": 3,
   "metadata": {},
   "outputs": [],
   "source": [
    "# define parameters\n",
    "url = 'https://touchpass.com/ams/rest/v1/reporting/faretx/'\n",
    "api_key = os.environ.get('TOUCHPASS_API_KEY')\n",
    "\n",
    "start = '2021-04-01T10:00:00Z'\n",
    "end = '2021-05-01T04:00:00Z'\n",
    "\n",
    "headers = {\n",
    "    'accept': 'application/json',\n",
    "    'Api-Token': api_key,\n",
    "    'Agency-ID': '9K7A4H9JHRVQ'\n",
    "}"
   ]
  },
  {
   "cell_type": "code",
   "execution_count": 72,
   "metadata": {
    "scrolled": true
   },
   "outputs": [
    {
     "name": "stdout",
     "output_type": "stream",
     "text": [
      "Finished reading 8,837 transactions\n",
      "Wall time: 2.19 s\n"
     ]
    }
   ],
   "source": [
    "%%time\n",
    "\n",
    "# call api and save to variable\n",
    "response = requests.get(url + start + '/' + end, headers=headers).json()\n",
    "\n",
    "# write response to dataframe\n",
    "df = pd.DataFrame(response)\n",
    "\n",
    "print('Finished reading {:,} transactions'.format(len(df)))"
   ]
  },
  {
   "cell_type": "code",
   "execution_count": 70,
   "metadata": {},
   "outputs": [
    {
     "data": {
      "text/html": [
       "<div>\n",
       "<style scoped>\n",
       "    .dataframe tbody tr th:only-of-type {\n",
       "        vertical-align: middle;\n",
       "    }\n",
       "\n",
       "    .dataframe tbody tr th {\n",
       "        vertical-align: top;\n",
       "    }\n",
       "\n",
       "    .dataframe thead th {\n",
       "        text-align: right;\n",
       "    }\n",
       "</style>\n",
       "<table border=\"1\" class=\"dataframe\">\n",
       "  <thead>\n",
       "    <tr style=\"text-align: right;\">\n",
       "      <th></th>\n",
       "      <th>type</th>\n",
       "      <th>cardNumber</th>\n",
       "      <th>fareType</th>\n",
       "      <th>stopName</th>\n",
       "      <th>stopId</th>\n",
       "      <th>routeName</th>\n",
       "      <th>latitude</th>\n",
       "      <th>longitude</th>\n",
       "      <th>fare</th>\n",
       "      <th>passUsed</th>\n",
       "      <th>date</th>\n",
       "      <th>date_only</th>\n",
       "      <th>time_only</th>\n",
       "      <th>SHAPE</th>\n",
       "    </tr>\n",
       "  </thead>\n",
       "  <tbody>\n",
       "    <tr>\n",
       "      <th>0</th>\n",
       "      <td>STORED_VALUE</td>\n",
       "      <td>8002571016314305</td>\n",
       "      <td>Half Priced</td>\n",
       "      <td>North Asheboro Park &amp; Ride</td>\n",
       "      <td>169</td>\n",
       "      <td>10</td>\n",
       "      <td>35.746280</td>\n",
       "      <td>-79.807270</td>\n",
       "      <td>125</td>\n",
       "      <td>NaN</td>\n",
       "      <td>2021-04-01 06:08:15.149000-04:00</td>\n",
       "      <td>2021-04-01</td>\n",
       "      <td>06:08:15.149000</td>\n",
       "      <td>{\"spatialReference\": {\"wkid\": 4326}, \"x\": -79....</td>\n",
       "    </tr>\n",
       "    <tr>\n",
       "      <th>1</th>\n",
       "      <td>MONTHLY_CAP_REACHED</td>\n",
       "      <td>8053364541245139</td>\n",
       "      <td>Employee</td>\n",
       "      <td>Coble Transportation Center</td>\n",
       "      <td>100</td>\n",
       "      <td>20</td>\n",
       "      <td>36.093318</td>\n",
       "      <td>-79.959420</td>\n",
       "      <td>0</td>\n",
       "      <td>NaN</td>\n",
       "      <td>2021-04-01 06:09:42.115000-04:00</td>\n",
       "      <td>2021-04-01</td>\n",
       "      <td>06:09:42.115000</td>\n",
       "      <td>{\"spatialReference\": {\"wkid\": 4326}, \"x\": -79....</td>\n",
       "    </tr>\n",
       "    <tr>\n",
       "      <th>2</th>\n",
       "      <td>TRIP_PASS</td>\n",
       "      <td>8082440300373422</td>\n",
       "      <td>Half Priced</td>\n",
       "      <td>High Point Terminal (Outer Slip)</td>\n",
       "      <td>225</td>\n",
       "      <td>3</td>\n",
       "      <td>35.957388</td>\n",
       "      <td>-80.007166</td>\n",
       "      <td>0</td>\n",
       "      <td>Half Fare 10 Ride</td>\n",
       "      <td>2021-04-01 06:11:52.173000-04:00</td>\n",
       "      <td>2021-04-01</td>\n",
       "      <td>06:11:52.173000</td>\n",
       "      <td>{\"spatialReference\": {\"wkid\": 4326}, \"x\": -80....</td>\n",
       "    </tr>\n",
       "  </tbody>\n",
       "</table>\n",
       "</div>"
      ],
      "text/plain": [
       "                  type        cardNumber     fareType  \\\n",
       "0         STORED_VALUE  8002571016314305  Half Priced   \n",
       "1  MONTHLY_CAP_REACHED  8053364541245139     Employee   \n",
       "2            TRIP_PASS  8082440300373422  Half Priced   \n",
       "\n",
       "                           stopName stopId routeName   latitude  longitude  \\\n",
       "0        North Asheboro Park & Ride    169        10  35.746280 -79.807270   \n",
       "1       Coble Transportation Center    100        20  36.093318 -79.959420   \n",
       "2  High Point Terminal (Outer Slip)    225         3  35.957388 -80.007166   \n",
       "\n",
       "   fare           passUsed                             date   date_only  \\\n",
       "0   125                NaN 2021-04-01 06:08:15.149000-04:00  2021-04-01   \n",
       "1     0                NaN 2021-04-01 06:09:42.115000-04:00  2021-04-01   \n",
       "2     0  Half Fare 10 Ride 2021-04-01 06:11:52.173000-04:00  2021-04-01   \n",
       "\n",
       "         time_only                                              SHAPE  \n",
       "0  06:08:15.149000  {\"spatialReference\": {\"wkid\": 4326}, \"x\": -79....  \n",
       "1  06:09:42.115000  {\"spatialReference\": {\"wkid\": 4326}, \"x\": -79....  \n",
       "2  06:11:52.173000  {\"spatialReference\": {\"wkid\": 4326}, \"x\": -80....  "
      ]
     },
     "execution_count": 70,
     "metadata": {},
     "output_type": "execute_result"
    }
   ],
   "source": [
    "# preview data\n",
    "df.head(3)"
   ]
  },
  {
   "cell_type": "markdown",
   "metadata": {},
   "source": [
    "The dataframe above gives us a preview of what the data looks like. Let's take another look at it before we start to process it."
   ]
  },
  {
   "cell_type": "code",
   "execution_count": 5,
   "metadata": {},
   "outputs": [
    {
     "name": "stdout",
     "output_type": "stream",
     "text": [
      "<class 'pandas.core.frame.DataFrame'>\n",
      "RangeIndex: 8837 entries, 0 to 8836\n",
      "Data columns (total 18 columns):\n",
      " #   Column          Non-Null Count  Dtype  \n",
      "---  ------          --------------  -----  \n",
      " 0   txId            8837 non-null   int64  \n",
      " 1   ts              8837 non-null   object \n",
      " 2   type            8837 non-null   object \n",
      " 3   mediaUsed       8837 non-null   object \n",
      " 4   mediaType       8837 non-null   object \n",
      " 5   cardNumber      8837 non-null   object \n",
      " 6   fareType        8837 non-null   object \n",
      " 7   accountId       8837 non-null   int64  \n",
      " 8   stopName        7372 non-null   object \n",
      " 9   stopId          7372 non-null   object \n",
      " 10  routeName       8837 non-null   object \n",
      " 11  latitude        8837 non-null   float64\n",
      " 12  longitude       8837 non-null   float64\n",
      " 13  reader          8837 non-null   object \n",
      " 14  readerPosition  8837 non-null   int64  \n",
      " 15  fare            8837 non-null   int64  \n",
      " 16  passUsed        3418 non-null   object \n",
      " 17  vehicle         1177 non-null   object \n",
      "dtypes: float64(2), int64(4), object(12)\n",
      "memory usage: 1.2+ MB\n"
     ]
    }
   ],
   "source": [
    "df.info()"
   ]
  },
  {
   "cell_type": "markdown",
   "metadata": {},
   "source": [
    "We need to convert `ts` or timestamp to a datetime object. We'll also convert the time to Eastern Standard time and create a few attributes for date and time. Then we'll drop a few columns that are of no interest to the analysis."
   ]
  },
  {
   "cell_type": "code",
   "execution_count": 6,
   "metadata": {},
   "outputs": [],
   "source": [
    "# Convert ts to a datetime object\n",
    "df['ts'] = pd.to_datetime(df['ts'])\n",
    "# Create new Date field and convert ts from UTC to local time\n",
    "df['date'] = df['ts'].dt.tz_convert('US/Eastern')\n",
    "# Create date only field\n",
    "df['date_only'] = df['date'].dt.date\n",
    "df['time_only'] = [dt.datetime.time(d) for d in df['date']]"
   ]
  },
  {
   "cell_type": "code",
   "execution_count": 7,
   "metadata": {},
   "outputs": [],
   "source": [
    "cols_to_drop = ['txId', 'ts', 'mediaUsed', 'mediaType', 'accountId', 'reader', 'readerPosition', 'vehicle']"
   ]
  },
  {
   "cell_type": "code",
   "execution_count": 8,
   "metadata": {},
   "outputs": [],
   "source": [
    "df.drop(cols_to_drop, axis=1, inplace=True)"
   ]
  },
  {
   "cell_type": "markdown",
   "metadata": {},
   "source": [
    "Next, we'll convert our dataset to what Esri calls a spatially enabled dataframe. We can use the `longitude` and `latitude` attributes from the TouchPass data."
   ]
  },
  {
   "cell_type": "code",
   "execution_count": 9,
   "metadata": {},
   "outputs": [],
   "source": [
    "sdf = df.spatial.from_xy(df, 'longitude', 'latitude')"
   ]
  },
  {
   "cell_type": "markdown",
   "metadata": {},
   "source": [
    "With our data set converted, we will visualize any missing data."
   ]
  },
  {
   "cell_type": "code",
   "execution_count": 10,
   "metadata": {},
   "outputs": [
    {
     "data": {
      "image/png": "[encoded data removed]",
      "text/plain": [
       "<Figure size 1080x576 with 1 Axes>"
      ]
     },
     "metadata": {
      "needs_background": "light"
     },
     "output_type": "display_data"
    }
   ],
   "source": [
    "plt.figure(figsize=(15,8))\n",
    "ax = sns.heatmap(sdf.isnull(), cbar=False, cmap='magma')\n",
    "plt.yticks([])\n",
    "plt.title('Missing data by attribute', fontsize=15)\n",
    "plt.show()"
   ]
  },
  {
   "cell_type": "markdown",
   "metadata": {},
   "source": [
    "We can see that there are several missing values in the `stopName` and `stopId` attributes. There are even more missing values in the `passUsed` attributes.\n",
    "\n",
    "Let's learn a little more about which passes have been used."
   ]
  },
  {
   "cell_type": "code",
   "execution_count": 11,
   "metadata": {},
   "outputs": [
    {
     "data": {
      "text/html": [
       "<div>\n",
       "<style scoped>\n",
       "    .dataframe tbody tr th:only-of-type {\n",
       "        vertical-align: middle;\n",
       "    }\n",
       "\n",
       "    .dataframe tbody tr th {\n",
       "        vertical-align: top;\n",
       "    }\n",
       "\n",
       "    .dataframe thead th {\n",
       "        text-align: right;\n",
       "    }\n",
       "</style>\n",
       "<table border=\"1\" class=\"dataframe\">\n",
       "  <thead>\n",
       "    <tr style=\"text-align: right;\">\n",
       "      <th></th>\n",
       "      <th>passUsed</th>\n",
       "    </tr>\n",
       "  </thead>\n",
       "  <tbody>\n",
       "    <tr>\n",
       "      <th>Full Fare 10 Ride</th>\n",
       "      <td>1176</td>\n",
       "    </tr>\n",
       "    <tr>\n",
       "      <th>UNC XPass 2020-21</th>\n",
       "      <td>688</td>\n",
       "    </tr>\n",
       "    <tr>\n",
       "      <th>Half Fare 10 Ride</th>\n",
       "      <td>687</td>\n",
       "    </tr>\n",
       "    <tr>\n",
       "      <th>Half Fare 31 Day</th>\n",
       "      <td>220</td>\n",
       "    </tr>\n",
       "    <tr>\n",
       "      <th>Free One Way PT</th>\n",
       "      <td>114</td>\n",
       "    </tr>\n",
       "    <tr>\n",
       "      <th>One Way PT</th>\n",
       "      <td>107</td>\n",
       "    </tr>\n",
       "    <tr>\n",
       "      <th>Student 31 Day</th>\n",
       "      <td>105</td>\n",
       "    </tr>\n",
       "    <tr>\n",
       "      <th>Triad XPass 10 Ride</th>\n",
       "      <td>102</td>\n",
       "    </tr>\n",
       "    <tr>\n",
       "      <th>Student 10 Ride</th>\n",
       "      <td>79</td>\n",
       "    </tr>\n",
       "    <tr>\n",
       "      <th>Full Fare 31 Day</th>\n",
       "      <td>75</td>\n",
       "    </tr>\n",
       "    <tr>\n",
       "      <th>Free One Way Accom</th>\n",
       "      <td>19</td>\n",
       "    </tr>\n",
       "    <tr>\n",
       "      <th>10-Ride Accomm</th>\n",
       "      <td>14</td>\n",
       "    </tr>\n",
       "    <tr>\n",
       "      <th>XPass 31 Day</th>\n",
       "      <td>12</td>\n",
       "    </tr>\n",
       "    <tr>\n",
       "      <th>PTI Airport Connector</th>\n",
       "      <td>10</td>\n",
       "    </tr>\n",
       "    <tr>\n",
       "      <th>Free Round-Trip</th>\n",
       "      <td>9</td>\n",
       "    </tr>\n",
       "    <tr>\n",
       "      <th>Full Fare One Way</th>\n",
       "      <td>1</td>\n",
       "    </tr>\n",
       "  </tbody>\n",
       "</table>\n",
       "</div>"
      ],
      "text/plain": [
       "                       passUsed\n",
       "Full Fare 10 Ride          1176\n",
       "UNC XPass 2020-21           688\n",
       "Half Fare 10 Ride           687\n",
       "Half Fare 31 Day            220\n",
       "Free One Way PT             114\n",
       "One Way PT                  107\n",
       "Student 31 Day              105\n",
       "Triad XPass 10 Ride         102\n",
       "Student 10 Ride              79\n",
       "Full Fare 31 Day             75\n",
       "Free One Way Accom           19\n",
       "10-Ride Accomm               14\n",
       "XPass 31 Day                 12\n",
       "PTI Airport Connector        10\n",
       "Free Round-Trip               9\n",
       "Full Fare One Way             1"
      ]
     },
     "execution_count": 11,
     "metadata": {},
     "output_type": "execute_result"
    }
   ],
   "source": [
    "sdf['passUsed'].value_counts().to_frame()"
   ]
  },
  {
   "cell_type": "markdown",
   "metadata": {},
   "source": [
    "We can see that there are a variety of passes used on PART Express but the most common pass is the `Full Fare 10 Ride`. There also appears to be an equal number of `UNC XPass` and `Half Fare 10 Ride` passes used in the month of April. We also see that the `Triad XPass 10 Ride` is more popular than the `XPass 31 Day` pass? Are both of those part of the same program? The `XPass 31 Day` does not have the word 'Triad' in the name so they may not be related."
   ]
  },
  {
   "cell_type": "markdown",
   "metadata": {},
   "source": [
    "Let's see how many unique `cardNumber`s there are in the data set. We might assume this number represents the unique passengers in the system."
   ]
  },
  {
   "cell_type": "code",
   "execution_count": 12,
   "metadata": {},
   "outputs": [
    {
     "data": {
      "text/plain": [
       "835"
      ]
     },
     "execution_count": 12,
     "metadata": {},
     "output_type": "execute_result"
    }
   ],
   "source": [
    "# unique users in data set\n",
    "len(sdf['cardNumber'].unique())"
   ]
  },
  {
   "cell_type": "markdown",
   "metadata": {},
   "source": [
    "We can see that there are 835 unique card numbers in the data set. \n",
    "\n",
    "Let's look at the types of transactions..."
   ]
  },
  {
   "cell_type": "code",
   "execution_count": 13,
   "metadata": {},
   "outputs": [
    {
     "data": {
      "text/html": [
       "<div>\n",
       "<style scoped>\n",
       "    .dataframe tbody tr th:only-of-type {\n",
       "        vertical-align: middle;\n",
       "    }\n",
       "\n",
       "    .dataframe tbody tr th {\n",
       "        vertical-align: top;\n",
       "    }\n",
       "\n",
       "    .dataframe thead th {\n",
       "        text-align: right;\n",
       "    }\n",
       "</style>\n",
       "<table border=\"1\" class=\"dataframe\">\n",
       "  <thead>\n",
       "    <tr style=\"text-align: right;\">\n",
       "      <th></th>\n",
       "      <th>type</th>\n",
       "    </tr>\n",
       "  </thead>\n",
       "  <tbody>\n",
       "    <tr>\n",
       "      <th>TRANSFER</th>\n",
       "      <td>2549</td>\n",
       "    </tr>\n",
       "    <tr>\n",
       "      <th>TRIP_PASS</th>\n",
       "      <td>2299</td>\n",
       "    </tr>\n",
       "    <tr>\n",
       "      <th>STORED_VALUE</th>\n",
       "      <td>1304</td>\n",
       "    </tr>\n",
       "    <tr>\n",
       "      <th>DAILY_CAP_REACHED</th>\n",
       "      <td>952</td>\n",
       "    </tr>\n",
       "    <tr>\n",
       "      <th>CALENDAR_PASS</th>\n",
       "      <td>688</td>\n",
       "    </tr>\n",
       "    <tr>\n",
       "      <th>MONTHLY_CAP_REACHED</th>\n",
       "      <td>633</td>\n",
       "    </tr>\n",
       "    <tr>\n",
       "      <th>TIME_PASS</th>\n",
       "      <td>412</td>\n",
       "    </tr>\n",
       "  </tbody>\n",
       "</table>\n",
       "</div>"
      ],
      "text/plain": [
       "                     type\n",
       "TRANSFER             2549\n",
       "TRIP_PASS            2299\n",
       "STORED_VALUE         1304\n",
       "DAILY_CAP_REACHED     952\n",
       "CALENDAR_PASS         688\n",
       "MONTHLY_CAP_REACHED   633\n",
       "TIME_PASS             412"
      ]
     },
     "execution_count": 13,
     "metadata": {},
     "output_type": "execute_result"
    }
   ],
   "source": [
    "sdf['type'].value_counts().to_frame()"
   ]
  },
  {
   "cell_type": "code",
   "execution_count": 14,
   "metadata": {},
   "outputs": [
    {
     "data": {
      "text/html": [
       "<div>\n",
       "<style scoped>\n",
       "    .dataframe tbody tr th:only-of-type {\n",
       "        vertical-align: middle;\n",
       "    }\n",
       "\n",
       "    .dataframe tbody tr th {\n",
       "        vertical-align: top;\n",
       "    }\n",
       "\n",
       "    .dataframe thead th {\n",
       "        text-align: right;\n",
       "    }\n",
       "</style>\n",
       "<table border=\"1\" class=\"dataframe\">\n",
       "  <thead>\n",
       "    <tr style=\"text-align: right;\">\n",
       "      <th></th>\n",
       "      <th>type</th>\n",
       "    </tr>\n",
       "  </thead>\n",
       "  <tbody>\n",
       "    <tr>\n",
       "      <th>TRANSFER</th>\n",
       "      <td>28.844631</td>\n",
       "    </tr>\n",
       "    <tr>\n",
       "      <th>TRIP_PASS</th>\n",
       "      <td>26.015616</td>\n",
       "    </tr>\n",
       "    <tr>\n",
       "      <th>STORED_VALUE</th>\n",
       "      <td>14.756139</td>\n",
       "    </tr>\n",
       "    <tr>\n",
       "      <th>DAILY_CAP_REACHED</th>\n",
       "      <td>10.772887</td>\n",
       "    </tr>\n",
       "    <tr>\n",
       "      <th>CALENDAR_PASS</th>\n",
       "      <td>7.785448</td>\n",
       "    </tr>\n",
       "    <tr>\n",
       "      <th>MONTHLY_CAP_REACHED</th>\n",
       "      <td>7.163064</td>\n",
       "    </tr>\n",
       "    <tr>\n",
       "      <th>TIME_PASS</th>\n",
       "      <td>4.662216</td>\n",
       "    </tr>\n",
       "  </tbody>\n",
       "</table>\n",
       "</div>"
      ],
      "text/plain": [
       "                          type\n",
       "TRANSFER             28.844631\n",
       "TRIP_PASS            26.015616\n",
       "STORED_VALUE         14.756139\n",
       "DAILY_CAP_REACHED    10.772887\n",
       "CALENDAR_PASS         7.785448\n",
       "MONTHLY_CAP_REACHED   7.163064\n",
       "TIME_PASS             4.662216"
      ]
     },
     "execution_count": 14,
     "metadata": {},
     "output_type": "execute_result"
    }
   ],
   "source": [
    "sdf['type'].value_counts(normalize=True).to_frame()*100"
   ]
  },
  {
   "cell_type": "markdown",
   "metadata": {},
   "source": [
    "Looking at the types of transactions, we can see that `TRANSFER` is the most common. The second table shows that transfers account for nearly 29% of transactions in April in the TouchPass system. Only about 14% or 1,304 transactions used `STORED VALUE`."
   ]
  },
  {
   "cell_type": "code",
   "execution_count": 15,
   "metadata": {},
   "outputs": [],
   "source": [
    "# group by cardNumber and date\n",
    "all_cards_by_date = sdf.groupby(['cardNumber', 'date_only']).size().to_frame()\n",
    "\n",
    "# rename column\n",
    "all_cards_by_date.rename(columns={0: 'Count'}, inplace=True)"
   ]
  },
  {
   "cell_type": "code",
   "execution_count": 16,
   "metadata": {},
   "outputs": [
    {
     "data": {
      "text/html": [
       "<div>\n",
       "<style scoped>\n",
       "    .dataframe tbody tr th:only-of-type {\n",
       "        vertical-align: middle;\n",
       "    }\n",
       "\n",
       "    .dataframe tbody tr th {\n",
       "        vertical-align: top;\n",
       "    }\n",
       "\n",
       "    .dataframe thead th {\n",
       "        text-align: right;\n",
       "    }\n",
       "</style>\n",
       "<table border=\"1\" class=\"dataframe\">\n",
       "  <thead>\n",
       "    <tr style=\"text-align: right;\">\n",
       "      <th></th>\n",
       "      <th>Count</th>\n",
       "    </tr>\n",
       "    <tr>\n",
       "      <th>cardNumber</th>\n",
       "      <th></th>\n",
       "    </tr>\n",
       "  </thead>\n",
       "  <tbody>\n",
       "    <tr>\n",
       "      <th>8043099273812846</th>\n",
       "      <td>100</td>\n",
       "    </tr>\n",
       "    <tr>\n",
       "      <th>8031827137994085</th>\n",
       "      <td>98</td>\n",
       "    </tr>\n",
       "    <tr>\n",
       "      <th>8029698325799824</th>\n",
       "      <td>88</td>\n",
       "    </tr>\n",
       "    <tr>\n",
       "      <th>8078732924645276</th>\n",
       "      <td>85</td>\n",
       "    </tr>\n",
       "    <tr>\n",
       "      <th>8002762949719302</th>\n",
       "      <td>85</td>\n",
       "    </tr>\n",
       "  </tbody>\n",
       "</table>\n",
       "</div>"
      ],
      "text/plain": [
       "                  Count\n",
       "cardNumber             \n",
       "8043099273812846    100\n",
       "8031827137994085     98\n",
       "8029698325799824     88\n",
       "8078732924645276     85\n",
       "8002762949719302     85"
      ]
     },
     "execution_count": 16,
     "metadata": {},
     "output_type": "execute_result"
    }
   ],
   "source": [
    "all_cards_by_date.sum(level='cardNumber').sort_values(by='Count', ascending=False)[0:5]"
   ]
  },
  {
   "cell_type": "markdown",
   "metadata": {},
   "source": [
    "The table above shows the top 5 card numbers by number of transactions. We can see that one passenger had 100 transactions in the month of April. Let's take a look at the average number of transactions by card number."
   ]
  },
  {
   "cell_type": "code",
   "execution_count": 17,
   "metadata": {},
   "outputs": [
    {
     "data": {
      "text/html": [
       "<div>\n",
       "<style scoped>\n",
       "    .dataframe tbody tr th:only-of-type {\n",
       "        vertical-align: middle;\n",
       "    }\n",
       "\n",
       "    .dataframe tbody tr th {\n",
       "        vertical-align: top;\n",
       "    }\n",
       "\n",
       "    .dataframe thead th {\n",
       "        text-align: right;\n",
       "    }\n",
       "</style>\n",
       "<table border=\"1\" class=\"dataframe\">\n",
       "  <thead>\n",
       "    <tr style=\"text-align: right;\">\n",
       "      <th></th>\n",
       "      <th>Count</th>\n",
       "    </tr>\n",
       "    <tr>\n",
       "      <th>cardNumber</th>\n",
       "      <th></th>\n",
       "    </tr>\n",
       "  </thead>\n",
       "  <tbody>\n",
       "    <tr>\n",
       "      <th>8097183627485767</th>\n",
       "      <td>6.200000</td>\n",
       "    </tr>\n",
       "    <tr>\n",
       "      <th>8085476407283467</th>\n",
       "      <td>6.000000</td>\n",
       "    </tr>\n",
       "    <tr>\n",
       "      <th>7096424500002979</th>\n",
       "      <td>5.923077</td>\n",
       "    </tr>\n",
       "    <tr>\n",
       "      <th>8005074717035789</th>\n",
       "      <td>5.833333</td>\n",
       "    </tr>\n",
       "    <tr>\n",
       "      <th>7455472182477451</th>\n",
       "      <td>5.333333</td>\n",
       "    </tr>\n",
       "  </tbody>\n",
       "</table>\n",
       "</div>"
      ],
      "text/plain": [
       "                     Count\n",
       "cardNumber                \n",
       "8097183627485767  6.200000\n",
       "8085476407283467  6.000000\n",
       "7096424500002979  5.923077\n",
       "8005074717035789  5.833333\n",
       "7455472182477451  5.333333"
      ]
     },
     "execution_count": 17,
     "metadata": {},
     "output_type": "execute_result"
    }
   ],
   "source": [
    "all_cards_by_date.mean(level='cardNumber').sort_values(by='Count', ascending=False)[0:5]"
   ]
  },
  {
   "cell_type": "markdown",
   "metadata": {},
   "source": [
    "We can see that the highest daily average is 6.2 transactions. This indicates that this passenger took as many as 7 trips on PART Express in one day.\n",
    "\n",
    "Let's see how many stops passengers utilize."
   ]
  },
  {
   "cell_type": "code",
   "execution_count": 18,
   "metadata": {},
   "outputs": [],
   "source": [
    "all_cards_by_stop = sdf.groupby('cardNumber')['stopName'].nunique().sort_values(ascending=False)"
   ]
  },
  {
   "cell_type": "code",
   "execution_count": 19,
   "metadata": {},
   "outputs": [
    {
     "data": {
      "text/html": [
       "<div>\n",
       "<style scoped>\n",
       "    .dataframe tbody tr th:only-of-type {\n",
       "        vertical-align: middle;\n",
       "    }\n",
       "\n",
       "    .dataframe tbody tr th {\n",
       "        vertical-align: top;\n",
       "    }\n",
       "\n",
       "    .dataframe thead th {\n",
       "        text-align: right;\n",
       "    }\n",
       "</style>\n",
       "<table border=\"1\" class=\"dataframe\">\n",
       "  <thead>\n",
       "    <tr style=\"text-align: right;\">\n",
       "      <th></th>\n",
       "      <th>stopName</th>\n",
       "    </tr>\n",
       "    <tr>\n",
       "      <th>cardNumber</th>\n",
       "      <th></th>\n",
       "    </tr>\n",
       "  </thead>\n",
       "  <tbody>\n",
       "    <tr>\n",
       "      <th>8005074717035789</th>\n",
       "      <td>8</td>\n",
       "    </tr>\n",
       "    <tr>\n",
       "      <th>8052861689715139</th>\n",
       "      <td>7</td>\n",
       "    </tr>\n",
       "    <tr>\n",
       "      <th>7989535757264325</th>\n",
       "      <td>7</td>\n",
       "    </tr>\n",
       "    <tr>\n",
       "      <th>8097183627485767</th>\n",
       "      <td>6</td>\n",
       "    </tr>\n",
       "    <tr>\n",
       "      <th>7055926279924935</th>\n",
       "      <td>6</td>\n",
       "    </tr>\n",
       "  </tbody>\n",
       "</table>\n",
       "</div>"
      ],
      "text/plain": [
       "                  stopName\n",
       "cardNumber                \n",
       "8005074717035789         8\n",
       "8052861689715139         7\n",
       "7989535757264325         7\n",
       "8097183627485767         6\n",
       "7055926279924935         6"
      ]
     },
     "execution_count": 19,
     "metadata": {},
     "output_type": "execute_result"
    }
   ],
   "source": [
    "all_cards_by_stop.to_frame()[0:5]"
   ]
  },
  {
   "cell_type": "markdown",
   "metadata": {},
   "source": [
    "The table shows the top five card numbers with the most unique stop activity. We can see that one passenger has utilized as many as 8 stops while two passengers accessed the system from 7 different stops in the month of April."
   ]
  },
  {
   "cell_type": "markdown",
   "metadata": {},
   "source": [
    "Now that we've learned a little more about our data set, let's dive into the transactions where passengers reached their monthly fare cap limit."
   ]
  },
  {
   "cell_type": "code",
   "execution_count": 20,
   "metadata": {},
   "outputs": [
    {
     "data": {
      "text/plain": [
       "DAILY_CAP_REACHED      952\n",
       "MONTHLY_CAP_REACHED    633\n",
       "Name: type, dtype: int64"
      ]
     },
     "execution_count": 20,
     "metadata": {},
     "output_type": "execute_result"
    }
   ],
   "source": [
    "sdf['type'].value_counts()[['DAILY_CAP_REACHED', 'MONTHLY_CAP_REACHED']]"
   ]
  },
  {
   "cell_type": "markdown",
   "metadata": {},
   "source": [
    "It looks like there are 633 observations where a passengers monthly fare cap was reached. Looking at the table above, the transactions where the monthly fare cap was reached only represents 7% of the data. \n",
    "\n",
    "Let's grab the `cardNumber` for those observations and filter the entire data set so we are only looking at passengers who reached their monthly fare cap."
   ]
  },
  {
   "cell_type": "code",
   "execution_count": 21,
   "metadata": {},
   "outputs": [],
   "source": [
    "# Create data set of card numbers for users who have reached their monthly fare cap\n",
    "monthly_cap_cardNumbers = sdf.loc[\n",
    "    (sdf['type'] == 'MONTHLY_CAP_REACHED') & (sdf['fareType'] != 'Employee'),\n",
    "    'cardNumber'].unique()"
   ]
  },
  {
   "cell_type": "markdown",
   "metadata": {},
   "source": [
    "We also went ahead and removed those observations where the `fareType` was `Employee`. This was done because every transaction for an employee was recorded as having reached their monthly fare cap. Even if it was the first tap of the month."
   ]
  },
  {
   "cell_type": "code",
   "execution_count": 22,
   "metadata": {},
   "outputs": [],
   "source": [
    "# Create data set of trips of those users who have reached their monthly fare cap\n",
    "monthly_cap_user_trips = sdf[sdf['cardNumber'].isin(monthly_cap_cardNumbers)]"
   ]
  },
  {
   "cell_type": "code",
   "execution_count": 23,
   "metadata": {},
   "outputs": [
    {
     "data": {
      "text/html": [
       "<div>\n",
       "<style scoped>\n",
       "    .dataframe tbody tr th:only-of-type {\n",
       "        vertical-align: middle;\n",
       "    }\n",
       "\n",
       "    .dataframe tbody tr th {\n",
       "        vertical-align: top;\n",
       "    }\n",
       "\n",
       "    .dataframe thead th {\n",
       "        text-align: right;\n",
       "    }\n",
       "</style>\n",
       "<table border=\"1\" class=\"dataframe\">\n",
       "  <thead>\n",
       "    <tr style=\"text-align: right;\">\n",
       "      <th></th>\n",
       "      <th>type</th>\n",
       "      <th>cardNumber</th>\n",
       "      <th>fareType</th>\n",
       "      <th>stopName</th>\n",
       "      <th>stopId</th>\n",
       "      <th>routeName</th>\n",
       "      <th>latitude</th>\n",
       "      <th>longitude</th>\n",
       "      <th>fare</th>\n",
       "      <th>passUsed</th>\n",
       "      <th>date</th>\n",
       "      <th>date_only</th>\n",
       "      <th>time_only</th>\n",
       "      <th>SHAPE</th>\n",
       "    </tr>\n",
       "  </thead>\n",
       "  <tbody>\n",
       "    <tr>\n",
       "      <th>9</th>\n",
       "      <td>STORED_VALUE</td>\n",
       "      <td>8040448200289326</td>\n",
       "      <td>Half Priced</td>\n",
       "      <td>Greensboro Depot</td>\n",
       "      <td>142</td>\n",
       "      <td>2</td>\n",
       "      <td>36.069193</td>\n",
       "      <td>-79.787014</td>\n",
       "      <td>125</td>\n",
       "      <td>NaN</td>\n",
       "      <td>2021-04-01 06:12:21.135000-04:00</td>\n",
       "      <td>2021-04-01</td>\n",
       "      <td>06:12:21.135000</td>\n",
       "      <td>{\"spatialReference\": {\"wkid\": 4326}, \"x\": -79....</td>\n",
       "    </tr>\n",
       "    <tr>\n",
       "      <th>42</th>\n",
       "      <td>TRANSFER</td>\n",
       "      <td>8040448200289326</td>\n",
       "      <td>Half Priced</td>\n",
       "      <td>Coble Transportation Center</td>\n",
       "      <td>100</td>\n",
       "      <td>3</td>\n",
       "      <td>36.094024</td>\n",
       "      <td>-79.959068</td>\n",
       "      <td>0</td>\n",
       "      <td>NaN</td>\n",
       "      <td>2021-04-01 06:42:16.567000-04:00</td>\n",
       "      <td>2021-04-01</td>\n",
       "      <td>06:42:16.567000</td>\n",
       "      <td>{\"spatialReference\": {\"wkid\": 4326}, \"x\": -79....</td>\n",
       "    </tr>\n",
       "    <tr>\n",
       "      <th>97</th>\n",
       "      <td>STORED_VALUE</td>\n",
       "      <td>8078732924645276</td>\n",
       "      <td>Full Fare</td>\n",
       "      <td>High Point Terminal (Outer Slip)</td>\n",
       "      <td>225</td>\n",
       "      <td>3</td>\n",
       "      <td>35.957300</td>\n",
       "      <td>-80.007398</td>\n",
       "      <td>250</td>\n",
       "      <td>NaN</td>\n",
       "      <td>2021-04-01 07:41:54.949000-04:00</td>\n",
       "      <td>2021-04-01</td>\n",
       "      <td>07:41:54.949000</td>\n",
       "      <td>{\"spatialReference\": {\"wkid\": 4326}, \"x\": -80....</td>\n",
       "    </tr>\n",
       "    <tr>\n",
       "      <th>108</th>\n",
       "      <td>STORED_VALUE</td>\n",
       "      <td>7836721698662976</td>\n",
       "      <td>Half Priced</td>\n",
       "      <td>Winston-Salem Transportation Center (L-1)</td>\n",
       "      <td>198</td>\n",
       "      <td>1</td>\n",
       "      <td>36.099578</td>\n",
       "      <td>-80.245128</td>\n",
       "      <td>125</td>\n",
       "      <td>NaN</td>\n",
       "      <td>2021-04-01 08:09:22.070000-04:00</td>\n",
       "      <td>2021-04-01</td>\n",
       "      <td>08:09:22.070000</td>\n",
       "      <td>{\"spatialReference\": {\"wkid\": 4326}, \"x\": -80....</td>\n",
       "    </tr>\n",
       "    <tr>\n",
       "      <th>109</th>\n",
       "      <td>TRANSFER</td>\n",
       "      <td>8078732924645276</td>\n",
       "      <td>Full Fare</td>\n",
       "      <td>Coble Transportation Center</td>\n",
       "      <td>100</td>\n",
       "      <td>23</td>\n",
       "      <td>36.093892</td>\n",
       "      <td>-79.958941</td>\n",
       "      <td>0</td>\n",
       "      <td>NaN</td>\n",
       "      <td>2021-04-01 08:09:57.353000-04:00</td>\n",
       "      <td>2021-04-01</td>\n",
       "      <td>08:09:57.353000</td>\n",
       "      <td>{\"spatialReference\": {\"wkid\": 4326}, \"x\": -79....</td>\n",
       "    </tr>\n",
       "  </tbody>\n",
       "</table>\n",
       "</div>"
      ],
      "text/plain": [
       "             type        cardNumber     fareType  \\\n",
       "9    STORED_VALUE  8040448200289326  Half Priced   \n",
       "42       TRANSFER  8040448200289326  Half Priced   \n",
       "97   STORED_VALUE  8078732924645276    Full Fare   \n",
       "108  STORED_VALUE  7836721698662976  Half Priced   \n",
       "109      TRANSFER  8078732924645276    Full Fare   \n",
       "\n",
       "                                      stopName stopId routeName   latitude  \\\n",
       "9                             Greensboro Depot    142         2  36.069193   \n",
       "42                 Coble Transportation Center    100         3  36.094024   \n",
       "97            High Point Terminal (Outer Slip)    225         3  35.957300   \n",
       "108  Winston-Salem Transportation Center (L-1)    198         1  36.099578   \n",
       "109                Coble Transportation Center    100        23  36.093892   \n",
       "\n",
       "     longitude  fare passUsed                             date   date_only  \\\n",
       "9   -79.787014   125      NaN 2021-04-01 06:12:21.135000-04:00  2021-04-01   \n",
       "42  -79.959068     0      NaN 2021-04-01 06:42:16.567000-04:00  2021-04-01   \n",
       "97  -80.007398   250      NaN 2021-04-01 07:41:54.949000-04:00  2021-04-01   \n",
       "108 -80.245128   125      NaN 2021-04-01 08:09:22.070000-04:00  2021-04-01   \n",
       "109 -79.958941     0      NaN 2021-04-01 08:09:57.353000-04:00  2021-04-01   \n",
       "\n",
       "           time_only                                              SHAPE  \n",
       "9    06:12:21.135000  {\"spatialReference\": {\"wkid\": 4326}, \"x\": -79....  \n",
       "42   06:42:16.567000  {\"spatialReference\": {\"wkid\": 4326}, \"x\": -79....  \n",
       "97   07:41:54.949000  {\"spatialReference\": {\"wkid\": 4326}, \"x\": -80....  \n",
       "108  08:09:22.070000  {\"spatialReference\": {\"wkid\": 4326}, \"x\": -80....  \n",
       "109  08:09:57.353000  {\"spatialReference\": {\"wkid\": 4326}, \"x\": -79....  "
      ]
     },
     "execution_count": 23,
     "metadata": {},
     "output_type": "execute_result"
    }
   ],
   "source": [
    "monthly_cap_user_trips.head()"
   ]
  },
  {
   "cell_type": "code",
   "execution_count": 24,
   "metadata": {},
   "outputs": [
    {
     "name": "stdout",
     "output_type": "stream",
     "text": [
      "<class 'pandas.core.frame.DataFrame'>\n",
      "Int64Index: 314 entries, 9 to 8800\n",
      "Data columns (total 14 columns):\n",
      " #   Column      Non-Null Count  Dtype                     \n",
      "---  ------      --------------  -----                     \n",
      " 0   type        314 non-null    object                    \n",
      " 1   cardNumber  314 non-null    object                    \n",
      " 2   fareType    314 non-null    object                    \n",
      " 3   stopName    283 non-null    object                    \n",
      " 4   stopId      283 non-null    object                    \n",
      " 5   routeName   314 non-null    object                    \n",
      " 6   latitude    314 non-null    float64                   \n",
      " 7   longitude   314 non-null    float64                   \n",
      " 8   fare        314 non-null    int64                     \n",
      " 9   passUsed    11 non-null     object                    \n",
      " 10  date        314 non-null    datetime64[ns, US/Eastern]\n",
      " 11  date_only   314 non-null    object                    \n",
      " 12  time_only   314 non-null    object                    \n",
      " 13  SHAPE       314 non-null    geometry                  \n",
      "dtypes: datetime64[ns, US/Eastern](1), float64(2), geometry(1), int64(1), object(9)\n",
      "memory usage: 36.8+ KB\n"
     ]
    }
   ],
   "source": [
    "monthly_cap_user_trips.info()"
   ]
  },
  {
   "cell_type": "markdown",
   "metadata": {},
   "source": [
    "So now we have a data set with only those transactions from users who reached their monthly fare cap AND are not employees. When do they reach their monthly fare cap and how often do they ride afterwards?"
   ]
  },
  {
   "cell_type": "code",
   "execution_count": 25,
   "metadata": {},
   "outputs": [
    {
     "data": {
      "text/plain": [
       "62"
      ]
     },
     "execution_count": 25,
     "metadata": {},
     "output_type": "execute_result"
    }
   ],
   "source": [
    "len(monthly_cap_user_trips[monthly_cap_user_trips['type'] == 'MONTHLY_CAP_REACHED'])"
   ]
  },
  {
   "cell_type": "code",
   "execution_count": 26,
   "metadata": {},
   "outputs": [
    {
     "data": {
      "text/plain": [
       "4"
      ]
     },
     "execution_count": 26,
     "metadata": {},
     "output_type": "execute_result"
    }
   ],
   "source": [
    "len(monthly_cap_user_trips['cardNumber'].unique())"
   ]
  },
  {
   "cell_type": "markdown",
   "metadata": {},
   "source": [
    "We can see that there are 62 trips taken once the monthly fare cap has been reached and this activity is from only 4 users.\n",
    "\n",
    "Let's find out when those passengers reached their monthly fare cap."
   ]
  },
  {
   "cell_type": "code",
   "execution_count": 27,
   "metadata": {},
   "outputs": [
    {
     "data": {
      "text/html": [
       "<div>\n",
       "<style scoped>\n",
       "    .dataframe tbody tr th:only-of-type {\n",
       "        vertical-align: middle;\n",
       "    }\n",
       "\n",
       "    .dataframe tbody tr th {\n",
       "        vertical-align: top;\n",
       "    }\n",
       "\n",
       "    .dataframe thead th {\n",
       "        text-align: right;\n",
       "    }\n",
       "</style>\n",
       "<table border=\"1\" class=\"dataframe\">\n",
       "  <thead>\n",
       "    <tr style=\"text-align: right;\">\n",
       "      <th></th>\n",
       "      <th>date_only</th>\n",
       "    </tr>\n",
       "    <tr>\n",
       "      <th>cardNumber</th>\n",
       "      <th></th>\n",
       "    </tr>\n",
       "  </thead>\n",
       "  <tbody>\n",
       "    <tr>\n",
       "      <th>8078732924645276</th>\n",
       "      <td>2021-04-24</td>\n",
       "    </tr>\n",
       "    <tr>\n",
       "      <th>8040448200289326</th>\n",
       "      <td>2021-04-26</td>\n",
       "    </tr>\n",
       "    <tr>\n",
       "      <th>7836721698662976</th>\n",
       "      <td>2021-04-27</td>\n",
       "    </tr>\n",
       "    <tr>\n",
       "      <th>8092683798229972</th>\n",
       "      <td>2021-04-28</td>\n",
       "    </tr>\n",
       "  </tbody>\n",
       "</table>\n",
       "</div>"
      ],
      "text/plain": [
       "                   date_only\n",
       "cardNumber                  \n",
       "8078732924645276  2021-04-24\n",
       "8040448200289326  2021-04-26\n",
       "7836721698662976  2021-04-27\n",
       "8092683798229972  2021-04-28"
      ]
     },
     "execution_count": 27,
     "metadata": {},
     "output_type": "execute_result"
    }
   ],
   "source": [
    "monthly_cap_user_trips.loc[\n",
    "    monthly_cap_user_trips['type'] == 'MONTHLY_CAP_REACHED'\n",
    "].groupby('cardNumber')['date_only'].min().to_frame().sort_values(by='date_only')"
   ]
  },
  {
   "cell_type": "markdown",
   "metadata": {},
   "source": [
    "The table above shows when the four passengers reached their monthly fare cap level. We can see that the first passenger reached the limit on April 24 while the last passenger did not reach the limit until the second to last day of the month.\n",
    "\n",
    "Let's take a look at their usage of the system throughout the entire month of April."
   ]
  },
  {
   "cell_type": "code",
   "execution_count": 28,
   "metadata": {},
   "outputs": [],
   "source": [
    "# create dataframe grouping users and dates\n",
    "monthly_cap_user_trips_by_date = monthly_cap_user_trips.groupby(['cardNumber', 'date_only']).size().to_frame()\n",
    "\n",
    "# rename column\n",
    "monthly_cap_user_trips_by_date.rename(columns={0: 'Count'}, inplace=True)"
   ]
  },
  {
   "cell_type": "code",
   "execution_count": 29,
   "metadata": {},
   "outputs": [],
   "source": [
    "# create a datetime index for the month of April\n",
    "april_days = pd.date_range(start='2021-04-01', end='2021-04-30')"
   ]
  },
  {
   "cell_type": "code",
   "execution_count": 30,
   "metadata": {},
   "outputs": [],
   "source": [
    "# replicate cardNumber to match length of datetime index\n",
    "idx_1 = monthly_cap_user_trips_by_date.index.levels[0].repeat(len(april_days))"
   ]
  },
  {
   "cell_type": "code",
   "execution_count": 31,
   "metadata": {},
   "outputs": [],
   "source": [
    "# replicate datetime index to match length of cardNumber\n",
    "num_unique_cardNumber = len(monthly_cap_user_trips_by_date.index.levels[0])\n",
    "idx_time = np.array([april_days.values] * num_unique_cardNumber).flatten()"
   ]
  },
  {
   "cell_type": "code",
   "execution_count": 32,
   "metadata": {},
   "outputs": [],
   "source": [
    "# merge cardNumber index with datetime index\n",
    "idx = list(zip(idx_1, idx_time))"
   ]
  },
  {
   "cell_type": "code",
   "execution_count": 33,
   "metadata": {},
   "outputs": [],
   "source": [
    "# create a new dataframe with new cardNumber and datetime index\n",
    "monthly_cap_user_trips_by_date_udpated = monthly_cap_user_trips_by_date.reindex(idx)"
   ]
  },
  {
   "cell_type": "code",
   "execution_count": 34,
   "metadata": {},
   "outputs": [
    {
     "data": {
      "image/png": "[encoded data removed]",
      "text/plain": [
       "<Figure size 936x720 with 1 Axes>"
      ]
     },
     "metadata": {
      "needs_background": "light"
     },
     "output_type": "display_data"
    }
   ],
   "source": [
    "# create heatmap of passenger activity for the month of April\n",
    "plt.figure(figsize=(13,10))\n",
    "ax = sns.heatmap(\n",
    "    monthly_cap_user_trips_by_date_udpated.unstack()['Count'], cmap='YlGnBu', annot=True, linewidths=0.2, cbar=False\n",
    ")\n",
    "plt.title('April Activity for Monthly Fare Cap Passengers', fontsize=15)\n",
    "plt.xlabel('')\n",
    "plt.ylabel('')\n",
    "plt.xticks(fontsize=12)\n",
    "plt.yticks(rotation=0, fontsize=12)\n",
    "plt.show()"
   ]
  },
  {
   "cell_type": "markdown",
   "metadata": {},
   "source": [
    "Looking at the heatmap above, it seems that once the passengers reached their monthly fare cap, their behavior did not change much. The first passenger, `7836721698662976` reached their monthly fare cap on April 27. Their usage is consistent throughout the month of April. \n",
    "\n",
    "The first passenger in the heatmap, `8078732924645276`, was the first to reach their monthly fare cap. This occurred on April 24. While this passenger's trips were more sporadic than the first passenger, once they reached their fare cap limit, their usage did not change much."
   ]
  },
  {
   "cell_type": "markdown",
   "metadata": {},
   "source": [
    "Let's take a look at each of the four passenger's overall usage of the system."
   ]
  },
  {
   "cell_type": "code",
   "execution_count": 35,
   "metadata": {
    "scrolled": true
   },
   "outputs": [
    {
     "data": {
      "text/html": [
       "<div>\n",
       "<style scoped>\n",
       "    .dataframe tbody tr th:only-of-type {\n",
       "        vertical-align: middle;\n",
       "    }\n",
       "\n",
       "    .dataframe tbody tr th {\n",
       "        vertical-align: top;\n",
       "    }\n",
       "\n",
       "    .dataframe thead th {\n",
       "        text-align: right;\n",
       "    }\n",
       "</style>\n",
       "<table border=\"1\" class=\"dataframe\">\n",
       "  <thead>\n",
       "    <tr style=\"text-align: right;\">\n",
       "      <th></th>\n",
       "      <th>Count</th>\n",
       "    </tr>\n",
       "    <tr>\n",
       "      <th>cardNumber</th>\n",
       "      <th></th>\n",
       "    </tr>\n",
       "  </thead>\n",
       "  <tbody>\n",
       "    <tr>\n",
       "      <th>8078732924645276</th>\n",
       "      <td>85</td>\n",
       "    </tr>\n",
       "    <tr>\n",
       "      <th>8040448200289326</th>\n",
       "      <td>82</td>\n",
       "    </tr>\n",
       "    <tr>\n",
       "      <th>7836721698662976</th>\n",
       "      <td>78</td>\n",
       "    </tr>\n",
       "    <tr>\n",
       "      <th>8092683798229972</th>\n",
       "      <td>69</td>\n",
       "    </tr>\n",
       "  </tbody>\n",
       "</table>\n",
       "</div>"
      ],
      "text/plain": [
       "                  Count\n",
       "cardNumber             \n",
       "8078732924645276     85\n",
       "8040448200289326     82\n",
       "7836721698662976     78\n",
       "8092683798229972     69"
      ]
     },
     "execution_count": 35,
     "metadata": {},
     "output_type": "execute_result"
    }
   ],
   "source": [
    "monthly_cap_user_trips_by_date.sum(level='cardNumber').sort_values(by='Count', ascending=False)"
   ]
  },
  {
   "cell_type": "markdown",
   "metadata": {},
   "source": [
    "We can see that `8078732924645276` used their TouchPass account the most in the month of April with 85 transactions. Let us recall that this passenger was the first to reach their monthly fare cap limit on April 24. Passenger `8092683798229972\t` had the fewest transactions and was also the last to reach their monthly fare cap which occurred on April 28. \n",
    "\n",
    "Let's look at their average daily transactions."
   ]
  },
  {
   "cell_type": "code",
   "execution_count": 36,
   "metadata": {},
   "outputs": [
    {
     "data": {
      "text/html": [
       "<div>\n",
       "<style scoped>\n",
       "    .dataframe tbody tr th:only-of-type {\n",
       "        vertical-align: middle;\n",
       "    }\n",
       "\n",
       "    .dataframe tbody tr th {\n",
       "        vertical-align: top;\n",
       "    }\n",
       "\n",
       "    .dataframe thead th {\n",
       "        text-align: right;\n",
       "    }\n",
       "</style>\n",
       "<table border=\"1\" class=\"dataframe\">\n",
       "  <thead>\n",
       "    <tr style=\"text-align: right;\">\n",
       "      <th></th>\n",
       "      <th>Count</th>\n",
       "    </tr>\n",
       "    <tr>\n",
       "      <th>cardNumber</th>\n",
       "      <th></th>\n",
       "    </tr>\n",
       "  </thead>\n",
       "  <tbody>\n",
       "    <tr>\n",
       "      <th>8040448200289326</th>\n",
       "      <td>3.904762</td>\n",
       "    </tr>\n",
       "    <tr>\n",
       "      <th>7836721698662976</th>\n",
       "      <td>3.900000</td>\n",
       "    </tr>\n",
       "    <tr>\n",
       "      <th>8078732924645276</th>\n",
       "      <td>3.695652</td>\n",
       "    </tr>\n",
       "    <tr>\n",
       "      <th>8092683798229972</th>\n",
       "      <td>3.285714</td>\n",
       "    </tr>\n",
       "  </tbody>\n",
       "</table>\n",
       "</div>"
      ],
      "text/plain": [
       "                     Count\n",
       "cardNumber                \n",
       "8040448200289326  3.904762\n",
       "7836721698662976  3.900000\n",
       "8078732924645276  3.695652\n",
       "8092683798229972  3.285714"
      ]
     },
     "execution_count": 36,
     "metadata": {},
     "output_type": "execute_result"
    }
   ],
   "source": [
    "monthly_cap_user_trips_by_date.mean(level='cardNumber').sort_values(by='Count', ascending=False)"
   ]
  },
  {
   "cell_type": "markdown",
   "metadata": {},
   "source": [
    "The table above shows the average number of transactions by passenger. We can see that passenger `8040448200289326` has the highest daily average. Looking at the heatmap above, we can see this passenger is consistently making four transactions a day except for three days when they made 2 transactions, 3 transactions, and five transactions. Passenger `8078732924645276` may have the most transactions, they have the second lowest daily average transaction count. Looking at the heatmap above, we can see five days where this passenger made only two transactions and two days where they made six transactions. Passenger `8092683798229972` has the lowest daily average and looking at the heatmap, we can see a less consistent rider. Some days there is only one transaction while other days there are as many as five. And there is one week where this passenger recorded four transactions every day.\n",
    "\n",
    "Let's dig into some of these trips so we can better understand how these passengers are using the system."
   ]
  },
  {
   "cell_type": "code",
   "execution_count": 37,
   "metadata": {},
   "outputs": [
    {
     "data": {
      "text/html": [
       "<div>\n",
       "<style scoped>\n",
       "    .dataframe tbody tr th:only-of-type {\n",
       "        vertical-align: middle;\n",
       "    }\n",
       "\n",
       "    .dataframe tbody tr th {\n",
       "        vertical-align: top;\n",
       "    }\n",
       "\n",
       "    .dataframe thead th {\n",
       "        text-align: right;\n",
       "    }\n",
       "</style>\n",
       "<table border=\"1\" class=\"dataframe\">\n",
       "  <thead>\n",
       "    <tr style=\"text-align: right;\">\n",
       "      <th></th>\n",
       "      <th>type</th>\n",
       "      <th>cardNumber</th>\n",
       "      <th>fareType</th>\n",
       "      <th>stopName</th>\n",
       "      <th>stopId</th>\n",
       "      <th>routeName</th>\n",
       "      <th>latitude</th>\n",
       "      <th>longitude</th>\n",
       "      <th>fare</th>\n",
       "      <th>passUsed</th>\n",
       "      <th>date</th>\n",
       "      <th>date_only</th>\n",
       "      <th>time_only</th>\n",
       "      <th>SHAPE</th>\n",
       "    </tr>\n",
       "  </thead>\n",
       "  <tbody>\n",
       "    <tr>\n",
       "      <th>9</th>\n",
       "      <td>STORED_VALUE</td>\n",
       "      <td>8040448200289326</td>\n",
       "      <td>Half Priced</td>\n",
       "      <td>Greensboro Depot</td>\n",
       "      <td>142</td>\n",
       "      <td>2</td>\n",
       "      <td>36.069193</td>\n",
       "      <td>-79.787014</td>\n",
       "      <td>125</td>\n",
       "      <td>NaN</td>\n",
       "      <td>2021-04-01 06:12:21.135000-04:00</td>\n",
       "      <td>2021-04-01</td>\n",
       "      <td>06:12:21.135000</td>\n",
       "      <td>{\"spatialReference\": {\"wkid\": 4326}, \"x\": -79....</td>\n",
       "    </tr>\n",
       "    <tr>\n",
       "      <th>42</th>\n",
       "      <td>TRANSFER</td>\n",
       "      <td>8040448200289326</td>\n",
       "      <td>Half Priced</td>\n",
       "      <td>Coble Transportation Center</td>\n",
       "      <td>100</td>\n",
       "      <td>3</td>\n",
       "      <td>36.094024</td>\n",
       "      <td>-79.959068</td>\n",
       "      <td>0</td>\n",
       "      <td>NaN</td>\n",
       "      <td>2021-04-01 06:42:16.567000-04:00</td>\n",
       "      <td>2021-04-01</td>\n",
       "      <td>06:42:16.567000</td>\n",
       "      <td>{\"spatialReference\": {\"wkid\": 4326}, \"x\": -79....</td>\n",
       "    </tr>\n",
       "  </tbody>\n",
       "</table>\n",
       "</div>"
      ],
      "text/plain": [
       "            type        cardNumber     fareType                     stopName  \\\n",
       "9   STORED_VALUE  8040448200289326  Half Priced             Greensboro Depot   \n",
       "42      TRANSFER  8040448200289326  Half Priced  Coble Transportation Center   \n",
       "\n",
       "   stopId routeName   latitude  longitude  fare passUsed  \\\n",
       "9     142         2  36.069193 -79.787014   125      NaN   \n",
       "42    100         3  36.094024 -79.959068     0      NaN   \n",
       "\n",
       "                               date   date_only        time_only  \\\n",
       "9  2021-04-01 06:12:21.135000-04:00  2021-04-01  06:12:21.135000   \n",
       "42 2021-04-01 06:42:16.567000-04:00  2021-04-01  06:42:16.567000   \n",
       "\n",
       "                                                SHAPE  \n",
       "9   {\"spatialReference\": {\"wkid\": 4326}, \"x\": -79....  \n",
       "42  {\"spatialReference\": {\"wkid\": 4326}, \"x\": -79....  "
      ]
     },
     "execution_count": 37,
     "metadata": {},
     "output_type": "execute_result"
    }
   ],
   "source": [
    "monthly_cap_user_trips.head(2)"
   ]
  },
  {
   "cell_type": "markdown",
   "metadata": {},
   "source": [
    "Let's take a look at Passenger `8092683798229972` first because they had the fewest trips and the most sporadic usage."
   ]
  },
  {
   "cell_type": "code",
   "execution_count": 38,
   "metadata": {},
   "outputs": [
    {
     "data": {
      "text/html": [
       "<div>\n",
       "<style scoped>\n",
       "    .dataframe tbody tr th:only-of-type {\n",
       "        vertical-align: middle;\n",
       "    }\n",
       "\n",
       "    .dataframe tbody tr th {\n",
       "        vertical-align: top;\n",
       "    }\n",
       "\n",
       "    .dataframe thead th {\n",
       "        text-align: right;\n",
       "    }\n",
       "</style>\n",
       "<table border=\"1\" class=\"dataframe\">\n",
       "  <thead>\n",
       "    <tr style=\"text-align: right;\">\n",
       "      <th></th>\n",
       "      <th>type</th>\n",
       "      <th>cardNumber</th>\n",
       "      <th>fareType</th>\n",
       "      <th>stopName</th>\n",
       "      <th>stopId</th>\n",
       "      <th>routeName</th>\n",
       "      <th>latitude</th>\n",
       "      <th>longitude</th>\n",
       "      <th>fare</th>\n",
       "      <th>passUsed</th>\n",
       "      <th>date</th>\n",
       "      <th>date_only</th>\n",
       "      <th>time_only</th>\n",
       "      <th>SHAPE</th>\n",
       "    </tr>\n",
       "  </thead>\n",
       "  <tbody>\n",
       "    <tr>\n",
       "      <th>548</th>\n",
       "      <td>TRIP_PASS</td>\n",
       "      <td>8092683798229972</td>\n",
       "      <td>Full Fare</td>\n",
       "      <td>Coble Transportation Center</td>\n",
       "      <td>100</td>\n",
       "      <td>2</td>\n",
       "      <td>36.093591</td>\n",
       "      <td>-79.959406</td>\n",
       "      <td>0</td>\n",
       "      <td>Free One Way Accom</td>\n",
       "      <td>2021-04-05 06:45:21.132000-04:00</td>\n",
       "      <td>2021-04-05</td>\n",
       "      <td>06:45:21.132000</td>\n",
       "      <td>{\"spatialReference\": {\"wkid\": 4326}, \"x\": -79....</td>\n",
       "    </tr>\n",
       "    <tr>\n",
       "      <th>717</th>\n",
       "      <td>STORED_VALUE</td>\n",
       "      <td>8092683798229972</td>\n",
       "      <td>Full Fare</td>\n",
       "      <td>NaN</td>\n",
       "      <td>NaN</td>\n",
       "      <td>22/23</td>\n",
       "      <td>36.075288</td>\n",
       "      <td>-79.958217</td>\n",
       "      <td>250</td>\n",
       "      <td>NaN</td>\n",
       "      <td>2021-04-05 14:38:17.847000-04:00</td>\n",
       "      <td>2021-04-05</td>\n",
       "      <td>14:38:17.847000</td>\n",
       "      <td>{\"spatialReference\": {\"wkid\": 4326}, \"x\": -79....</td>\n",
       "    </tr>\n",
       "  </tbody>\n",
       "</table>\n",
       "</div>"
      ],
      "text/plain": [
       "             type        cardNumber   fareType                     stopName  \\\n",
       "548     TRIP_PASS  8092683798229972  Full Fare  Coble Transportation Center   \n",
       "717  STORED_VALUE  8092683798229972  Full Fare                          NaN   \n",
       "\n",
       "    stopId routeName   latitude  longitude  fare            passUsed  \\\n",
       "548    100         2  36.093591 -79.959406     0  Free One Way Accom   \n",
       "717    NaN     22/23  36.075288 -79.958217   250                 NaN   \n",
       "\n",
       "                                date   date_only        time_only  \\\n",
       "548 2021-04-05 06:45:21.132000-04:00  2021-04-05  06:45:21.132000   \n",
       "717 2021-04-05 14:38:17.847000-04:00  2021-04-05  14:38:17.847000   \n",
       "\n",
       "                                                 SHAPE  \n",
       "548  {\"spatialReference\": {\"wkid\": 4326}, \"x\": -79....  \n",
       "717  {\"spatialReference\": {\"wkid\": 4326}, \"x\": -79....  "
      ]
     },
     "execution_count": 38,
     "metadata": {},
     "output_type": "execute_result"
    }
   ],
   "source": [
    "pass_with_least_trips = monthly_cap_user_trips[monthly_cap_user_trips['cardNumber'] == '8092683798229972']\n",
    "pass_with_least_trips.head(2)"
   ]
  },
  {
   "cell_type": "code",
   "execution_count": 39,
   "metadata": {},
   "outputs": [
    {
     "data": {
      "image/png": "[encoded data removed]",
      "text/plain": [
       "<Figure size 576x360 with 1 Axes>"
      ]
     },
     "metadata": {
      "needs_background": "light"
     },
     "output_type": "display_data"
    }
   ],
   "source": [
    "plt.figure(figsize=(8, 5))\n",
    "ax = pass_with_least_trips.groupby('stopName').size().sort_values(ascending=False).plot(kind='bar')\n",
    "plt.title('Passenger 8092683798229972 Stop Utilization', fontsize=15)\n",
    "plt.xlabel('')\n",
    "plt.ylabel('Count')\n",
    "plt.xticks(rotation=45, rotation_mode='anchor', horizontalalignment='right', fontsize=12)\n",
    "plt.yticks(rotation=0, fontsize=12)\n",
    "sns.despine()\n",
    "plt.show()"
   ]
  },
  {
   "cell_type": "markdown",
   "metadata": {},
   "source": [
    "We can see that this passenger utilizes the CTC the most frequently and perhaps they work at FedEx Ground. What is interesting is we see boardings at FedEx Ground in both directions. The westbound boardings are somewhat puzzling as there is no activity at any stop in Kernersville or Winston-Salem which is where the westbound bus is heading after leaving FedEx Ground. There is activity at the Greensboro Depot and at Four Seasons Mall so we might assume this passenger lives in Greensboro and catches Route 2 at either the Greensboro Depot or Four Seasons Mall to make it to work at FedEx Ground. There is also activity at Motel 6. There are a few locations to grab a bite of food around that stop so perhaps this passenger utilizes the service on their break to get some lunch or a snack."
   ]
  },
  {
   "cell_type": "markdown",
   "metadata": {},
   "source": [
    "Let's take a look at this passengers activity on two separate days. We'll look at the 8th where they had five transactions and the 24th, where they had only one transaction. We'll isolate the 8th and create a new sequence attribute so we can track the movements throughout the day."
   ]
  },
  {
   "cell_type": "code",
   "execution_count": 40,
   "metadata": {},
   "outputs": [
    {
     "data": {
      "text/html": [
       "<div>\n",
       "<style scoped>\n",
       "    .dataframe tbody tr th:only-of-type {\n",
       "        vertical-align: middle;\n",
       "    }\n",
       "\n",
       "    .dataframe tbody tr th {\n",
       "        vertical-align: top;\n",
       "    }\n",
       "\n",
       "    .dataframe thead th {\n",
       "        text-align: right;\n",
       "    }\n",
       "</style>\n",
       "<table border=\"1\" class=\"dataframe\">\n",
       "  <thead>\n",
       "    <tr style=\"text-align: right;\">\n",
       "      <th></th>\n",
       "      <th>type</th>\n",
       "      <th>cardNumber</th>\n",
       "      <th>fareType</th>\n",
       "      <th>stopName</th>\n",
       "      <th>stopId</th>\n",
       "      <th>routeName</th>\n",
       "      <th>latitude</th>\n",
       "      <th>longitude</th>\n",
       "      <th>fare</th>\n",
       "      <th>passUsed</th>\n",
       "      <th>date</th>\n",
       "      <th>date_only</th>\n",
       "      <th>time_only</th>\n",
       "      <th>SHAPE</th>\n",
       "    </tr>\n",
       "  </thead>\n",
       "  <tbody>\n",
       "    <tr>\n",
       "      <th>1968</th>\n",
       "      <td>STORED_VALUE</td>\n",
       "      <td>8092683798229972</td>\n",
       "      <td>Full Fare</td>\n",
       "      <td>Four Seasons Mall</td>\n",
       "      <td>153</td>\n",
       "      <td>2</td>\n",
       "      <td>36.040440</td>\n",
       "      <td>-79.841540</td>\n",
       "      <td>250</td>\n",
       "      <td>NaN</td>\n",
       "      <td>2021-04-08 11:01:45.377000-04:00</td>\n",
       "      <td>2021-04-08</td>\n",
       "      <td>11:01:45.377000</td>\n",
       "      <td>{\"spatialReference\": {\"wkid\": 4326}, \"x\": -79....</td>\n",
       "    </tr>\n",
       "    <tr>\n",
       "      <th>1970</th>\n",
       "      <td>TRANSFER</td>\n",
       "      <td>8092683798229972</td>\n",
       "      <td>Full Fare</td>\n",
       "      <td>Greensboro Depot</td>\n",
       "      <td>142</td>\n",
       "      <td>2</td>\n",
       "      <td>36.069249</td>\n",
       "      <td>-79.787050</td>\n",
       "      <td>0</td>\n",
       "      <td>NaN</td>\n",
       "      <td>2021-04-08 11:15:17.625000-04:00</td>\n",
       "      <td>2021-04-08</td>\n",
       "      <td>11:15:17.625000</td>\n",
       "      <td>{\"spatialReference\": {\"wkid\": 4326}, \"x\": -79....</td>\n",
       "    </tr>\n",
       "    <tr>\n",
       "      <th>1992</th>\n",
       "      <td>TRANSFER</td>\n",
       "      <td>8092683798229972</td>\n",
       "      <td>Full Fare</td>\n",
       "      <td>FedEx Ground (WB)</td>\n",
       "      <td>285</td>\n",
       "      <td>17</td>\n",
       "      <td>36.110016</td>\n",
       "      <td>-80.034146</td>\n",
       "      <td>0</td>\n",
       "      <td>NaN</td>\n",
       "      <td>2021-04-08 12:31:43.164000-04:00</td>\n",
       "      <td>2021-04-08</td>\n",
       "      <td>12:31:43.164000</td>\n",
       "      <td>{\"spatialReference\": {\"wkid\": 4326}, \"x\": -80....</td>\n",
       "    </tr>\n",
       "    <tr>\n",
       "      <th>2168</th>\n",
       "      <td>DAILY_CAP_REACHED</td>\n",
       "      <td>8092683798229972</td>\n",
       "      <td>Full Fare</td>\n",
       "      <td>FedEx Ground (EB)</td>\n",
       "      <td>286</td>\n",
       "      <td>17</td>\n",
       "      <td>36.109801</td>\n",
       "      <td>-80.034406</td>\n",
       "      <td>250</td>\n",
       "      <td>NaN</td>\n",
       "      <td>2021-04-08 18:02:23.248000-04:00</td>\n",
       "      <td>2021-04-08</td>\n",
       "      <td>18:02:23.248000</td>\n",
       "      <td>{\"spatialReference\": {\"wkid\": 4326}, \"x\": -80....</td>\n",
       "    </tr>\n",
       "    <tr>\n",
       "      <th>2180</th>\n",
       "      <td>DAILY_CAP_REACHED</td>\n",
       "      <td>8092683798229972</td>\n",
       "      <td>Full Fare</td>\n",
       "      <td>Coble Transportation Center</td>\n",
       "      <td>100</td>\n",
       "      <td>2</td>\n",
       "      <td>36.093182</td>\n",
       "      <td>-79.959294</td>\n",
       "      <td>0</td>\n",
       "      <td>NaN</td>\n",
       "      <td>2021-04-08 18:14:45.017000-04:00</td>\n",
       "      <td>2021-04-08</td>\n",
       "      <td>18:14:45.017000</td>\n",
       "      <td>{\"spatialReference\": {\"wkid\": 4326}, \"x\": -79....</td>\n",
       "    </tr>\n",
       "  </tbody>\n",
       "</table>\n",
       "</div>"
      ],
      "text/plain": [
       "                   type        cardNumber   fareType  \\\n",
       "1968       STORED_VALUE  8092683798229972  Full Fare   \n",
       "1970           TRANSFER  8092683798229972  Full Fare   \n",
       "1992           TRANSFER  8092683798229972  Full Fare   \n",
       "2168  DAILY_CAP_REACHED  8092683798229972  Full Fare   \n",
       "2180  DAILY_CAP_REACHED  8092683798229972  Full Fare   \n",
       "\n",
       "                         stopName stopId routeName   latitude  longitude  \\\n",
       "1968            Four Seasons Mall    153         2  36.040440 -79.841540   \n",
       "1970             Greensboro Depot    142         2  36.069249 -79.787050   \n",
       "1992            FedEx Ground (WB)    285        17  36.110016 -80.034146   \n",
       "2168            FedEx Ground (EB)    286        17  36.109801 -80.034406   \n",
       "2180  Coble Transportation Center    100         2  36.093182 -79.959294   \n",
       "\n",
       "      fare passUsed                             date   date_only  \\\n",
       "1968   250      NaN 2021-04-08 11:01:45.377000-04:00  2021-04-08   \n",
       "1970     0      NaN 2021-04-08 11:15:17.625000-04:00  2021-04-08   \n",
       "1992     0      NaN 2021-04-08 12:31:43.164000-04:00  2021-04-08   \n",
       "2168   250      NaN 2021-04-08 18:02:23.248000-04:00  2021-04-08   \n",
       "2180     0      NaN 2021-04-08 18:14:45.017000-04:00  2021-04-08   \n",
       "\n",
       "            time_only                                              SHAPE  \n",
       "1968  11:01:45.377000  {\"spatialReference\": {\"wkid\": 4326}, \"x\": -79....  \n",
       "1970  11:15:17.625000  {\"spatialReference\": {\"wkid\": 4326}, \"x\": -79....  \n",
       "1992  12:31:43.164000  {\"spatialReference\": {\"wkid\": 4326}, \"x\": -80....  \n",
       "2168  18:02:23.248000  {\"spatialReference\": {\"wkid\": 4326}, \"x\": -80....  \n",
       "2180  18:14:45.017000  {\"spatialReference\": {\"wkid\": 4326}, \"x\": -79....  "
      ]
     },
     "execution_count": 40,
     "metadata": {},
     "output_type": "execute_result"
    }
   ],
   "source": [
    "pass_with_least_trips[\n",
    "    pd.to_datetime(pass_with_least_trips['date_only'], format='%Y-%m-%d') == pd.to_datetime('2021-04-08', format='%Y-%m-%d')\n",
    "].sort_values(by='time_only')"
   ]
  },
  {
   "cell_type": "markdown",
   "metadata": {},
   "source": [
    "There is some interesting and I might argue unexplainable activity occurring with this passenger. The table above shows activity for April 8, 2021. The passenger boards Route 2 at Four Seasons Mall at 11:01 AM. They then use their TouchPass account for a free transfer at the Greensboro Depot on Route 2 at 11:15 AM. The next transactions is at the FedEx Ground (WB) stop on Route 17. How did they get to the FedEx location. There is no transaction in the data where this passenger boards Route 17 at the Coble Transportation Center. Perhaps the boarded Route 2 in Greensboro heading to the CTC. Once they arrived at the CTC, they utilized an Uber or Lyft to get to FedEx in time for their shift. If they took Route 2 from the Depot to the CTC at the 11:15 AM trip, they would have arrived at the CTC at 11:45 AM. The next Route 17 leaving the CTC heading west is not until 12:20 PM. However, at 12:31 PM, we see this passenger board Route 17 on the westbound trip. Did they ride into downtown Kernersville for lunch and then Uber back to finish their shift? This seems odd given that they would have just arrived to FedEx perhaps 30 minutes earlier. Then at 6:02 PM, the passenger boards Route 17 heading back to the CTC before transfering to Route 2 at 6:15 PM. This passengers morning trip has left us with more questions than answers and their evening trip appears to be straight forward.\n",
    "\n",
    "Let's take a look at the 24th, where the passenger only has one transaction."
   ]
  },
  {
   "cell_type": "code",
   "execution_count": 41,
   "metadata": {},
   "outputs": [
    {
     "data": {
      "text/html": [
       "<div>\n",
       "<style scoped>\n",
       "    .dataframe tbody tr th:only-of-type {\n",
       "        vertical-align: middle;\n",
       "    }\n",
       "\n",
       "    .dataframe tbody tr th {\n",
       "        vertical-align: top;\n",
       "    }\n",
       "\n",
       "    .dataframe thead th {\n",
       "        text-align: right;\n",
       "    }\n",
       "</style>\n",
       "<table border=\"1\" class=\"dataframe\">\n",
       "  <thead>\n",
       "    <tr style=\"text-align: right;\">\n",
       "      <th></th>\n",
       "      <th>type</th>\n",
       "      <th>cardNumber</th>\n",
       "      <th>fareType</th>\n",
       "      <th>stopName</th>\n",
       "      <th>stopId</th>\n",
       "      <th>routeName</th>\n",
       "      <th>latitude</th>\n",
       "      <th>longitude</th>\n",
       "      <th>fare</th>\n",
       "      <th>passUsed</th>\n",
       "      <th>date</th>\n",
       "      <th>date_only</th>\n",
       "      <th>time_only</th>\n",
       "      <th>SHAPE</th>\n",
       "    </tr>\n",
       "  </thead>\n",
       "  <tbody>\n",
       "    <tr>\n",
       "      <th>6831</th>\n",
       "      <td>STORED_VALUE</td>\n",
       "      <td>8092683798229972</td>\n",
       "      <td>Full Fare</td>\n",
       "      <td>Coble Transportation Center</td>\n",
       "      <td>100</td>\n",
       "      <td>2</td>\n",
       "      <td>36.093309</td>\n",
       "      <td>-79.959376</td>\n",
       "      <td>250</td>\n",
       "      <td>NaN</td>\n",
       "      <td>2021-04-24 18:27:43.454000-04:00</td>\n",
       "      <td>2021-04-24</td>\n",
       "      <td>18:27:43.454000</td>\n",
       "      <td>{\"spatialReference\": {\"wkid\": 4326}, \"x\": -79....</td>\n",
       "    </tr>\n",
       "  </tbody>\n",
       "</table>\n",
       "</div>"
      ],
      "text/plain": [
       "              type        cardNumber   fareType                     stopName  \\\n",
       "6831  STORED_VALUE  8092683798229972  Full Fare  Coble Transportation Center   \n",
       "\n",
       "     stopId routeName   latitude  longitude  fare passUsed  \\\n",
       "6831    100         2  36.093309 -79.959376   250      NaN   \n",
       "\n",
       "                                 date   date_only        time_only  \\\n",
       "6831 2021-04-24 18:27:43.454000-04:00  2021-04-24  18:27:43.454000   \n",
       "\n",
       "                                                  SHAPE  \n",
       "6831  {\"spatialReference\": {\"wkid\": 4326}, \"x\": -79....  "
      ]
     },
     "execution_count": 41,
     "metadata": {},
     "output_type": "execute_result"
    }
   ],
   "source": [
    "pass_with_least_trips[\n",
    "    pd.to_datetime(pass_with_least_trips['date_only'], format='%Y-%m-%d') == pd.to_datetime('2021-04-24', format='%Y-%m-%d')\n",
    "].sort_values(by='time_only')"
   ]
  },
  {
   "cell_type": "markdown",
   "metadata": {},
   "source": [
    "The only transaction for April 24, occurred at the CTC at 6:28 PM. April 24th is a Saturday which means Route 17 was not running. This passenger had to utilize some other mode of transportation to get from possibly FedEx Ground to the CTC where they boarded Route 2 heading to Greensboro.\n",
    "\n",
    "Let's look at one more trip. This time, we'll look at one where the passenger boarded at the Motel 6 stop."
   ]
  },
  {
   "cell_type": "code",
   "execution_count": 42,
   "metadata": {},
   "outputs": [
    {
     "data": {
      "text/plain": [
       "2755    2021-04-12\n",
       "4810    2021-04-19\n",
       "5276    2021-04-20\n",
       "Name: date_only, dtype: object"
      ]
     },
     "execution_count": 42,
     "metadata": {},
     "output_type": "execute_result"
    }
   ],
   "source": [
    "pass_with_least_trips[pass_with_least_trips['stopName'] == 'Motel 6']['date_only']"
   ]
  },
  {
   "cell_type": "markdown",
   "metadata": {},
   "source": [
    "The table above shows that the passenger utilized the Motel 6 stop on three days. We will examine one of those days."
   ]
  },
  {
   "cell_type": "code",
   "execution_count": 43,
   "metadata": {},
   "outputs": [
    {
     "data": {
      "text/html": [
       "<div>\n",
       "<style scoped>\n",
       "    .dataframe tbody tr th:only-of-type {\n",
       "        vertical-align: middle;\n",
       "    }\n",
       "\n",
       "    .dataframe tbody tr th {\n",
       "        vertical-align: top;\n",
       "    }\n",
       "\n",
       "    .dataframe thead th {\n",
       "        text-align: right;\n",
       "    }\n",
       "</style>\n",
       "<table border=\"1\" class=\"dataframe\">\n",
       "  <thead>\n",
       "    <tr style=\"text-align: right;\">\n",
       "      <th></th>\n",
       "      <th>type</th>\n",
       "      <th>cardNumber</th>\n",
       "      <th>fareType</th>\n",
       "      <th>stopName</th>\n",
       "      <th>stopId</th>\n",
       "      <th>routeName</th>\n",
       "      <th>latitude</th>\n",
       "      <th>longitude</th>\n",
       "      <th>fare</th>\n",
       "      <th>passUsed</th>\n",
       "      <th>date</th>\n",
       "      <th>date_only</th>\n",
       "      <th>time_only</th>\n",
       "      <th>SHAPE</th>\n",
       "    </tr>\n",
       "  </thead>\n",
       "  <tbody>\n",
       "    <tr>\n",
       "      <th>5276</th>\n",
       "      <td>STORED_VALUE</td>\n",
       "      <td>8092683798229972</td>\n",
       "      <td>Full Fare</td>\n",
       "      <td>Motel 6</td>\n",
       "      <td>101</td>\n",
       "      <td>22</td>\n",
       "      <td>36.076781</td>\n",
       "      <td>-79.958032</td>\n",
       "      <td>250</td>\n",
       "      <td>NaN</td>\n",
       "      <td>2021-04-20 08:06:02.818000-04:00</td>\n",
       "      <td>2021-04-20</td>\n",
       "      <td>08:06:02.818000</td>\n",
       "      <td>{\"spatialReference\": {\"wkid\": 4326}, \"x\": -79....</td>\n",
       "    </tr>\n",
       "    <tr>\n",
       "      <th>5279</th>\n",
       "      <td>TRANSFER</td>\n",
       "      <td>8092683798229972</td>\n",
       "      <td>Full Fare</td>\n",
       "      <td>Coble Transportation Center</td>\n",
       "      <td>100</td>\n",
       "      <td>2</td>\n",
       "      <td>36.093537</td>\n",
       "      <td>-79.959364</td>\n",
       "      <td>0</td>\n",
       "      <td>NaN</td>\n",
       "      <td>2021-04-20 08:13:13.996000-04:00</td>\n",
       "      <td>2021-04-20</td>\n",
       "      <td>08:13:13.996000</td>\n",
       "      <td>{\"spatialReference\": {\"wkid\": 4326}, \"x\": -79....</td>\n",
       "    </tr>\n",
       "    <tr>\n",
       "      <th>5332</th>\n",
       "      <td>DAILY_CAP_REACHED</td>\n",
       "      <td>8092683798229972</td>\n",
       "      <td>Full Fare</td>\n",
       "      <td>Greensboro Depot</td>\n",
       "      <td>142</td>\n",
       "      <td>2</td>\n",
       "      <td>36.069180</td>\n",
       "      <td>-79.787065</td>\n",
       "      <td>250</td>\n",
       "      <td>NaN</td>\n",
       "      <td>2021-04-20 12:09:23.675000-04:00</td>\n",
       "      <td>2021-04-20</td>\n",
       "      <td>12:09:23.675000</td>\n",
       "      <td>{\"spatialReference\": {\"wkid\": 4326}, \"x\": -79....</td>\n",
       "    </tr>\n",
       "    <tr>\n",
       "      <th>5382</th>\n",
       "      <td>DAILY_CAP_REACHED</td>\n",
       "      <td>8092683798229972</td>\n",
       "      <td>Full Fare</td>\n",
       "      <td>FedEx Ground (EB)</td>\n",
       "      <td>286</td>\n",
       "      <td>17</td>\n",
       "      <td>36.109676</td>\n",
       "      <td>-80.034830</td>\n",
       "      <td>0</td>\n",
       "      <td>NaN</td>\n",
       "      <td>2021-04-20 15:29:59.174000-04:00</td>\n",
       "      <td>2021-04-20</td>\n",
       "      <td>15:29:59.174000</td>\n",
       "      <td>{\"spatialReference\": {\"wkid\": 4326}, \"x\": -80....</td>\n",
       "    </tr>\n",
       "    <tr>\n",
       "      <th>5394</th>\n",
       "      <td>DAILY_CAP_REACHED</td>\n",
       "      <td>8092683798229972</td>\n",
       "      <td>Full Fare</td>\n",
       "      <td>Coble Transportation Center</td>\n",
       "      <td>100</td>\n",
       "      <td>2</td>\n",
       "      <td>36.093418</td>\n",
       "      <td>-79.959420</td>\n",
       "      <td>0</td>\n",
       "      <td>NaN</td>\n",
       "      <td>2021-04-20 15:44:37.544000-04:00</td>\n",
       "      <td>2021-04-20</td>\n",
       "      <td>15:44:37.544000</td>\n",
       "      <td>{\"spatialReference\": {\"wkid\": 4326}, \"x\": -79....</td>\n",
       "    </tr>\n",
       "  </tbody>\n",
       "</table>\n",
       "</div>"
      ],
      "text/plain": [
       "                   type        cardNumber   fareType  \\\n",
       "5276       STORED_VALUE  8092683798229972  Full Fare   \n",
       "5279           TRANSFER  8092683798229972  Full Fare   \n",
       "5332  DAILY_CAP_REACHED  8092683798229972  Full Fare   \n",
       "5382  DAILY_CAP_REACHED  8092683798229972  Full Fare   \n",
       "5394  DAILY_CAP_REACHED  8092683798229972  Full Fare   \n",
       "\n",
       "                         stopName stopId routeName   latitude  longitude  \\\n",
       "5276                      Motel 6    101        22  36.076781 -79.958032   \n",
       "5279  Coble Transportation Center    100         2  36.093537 -79.959364   \n",
       "5332             Greensboro Depot    142         2  36.069180 -79.787065   \n",
       "5382            FedEx Ground (EB)    286        17  36.109676 -80.034830   \n",
       "5394  Coble Transportation Center    100         2  36.093418 -79.959420   \n",
       "\n",
       "      fare passUsed                             date   date_only  \\\n",
       "5276   250      NaN 2021-04-20 08:06:02.818000-04:00  2021-04-20   \n",
       "5279     0      NaN 2021-04-20 08:13:13.996000-04:00  2021-04-20   \n",
       "5332   250      NaN 2021-04-20 12:09:23.675000-04:00  2021-04-20   \n",
       "5382     0      NaN 2021-04-20 15:29:59.174000-04:00  2021-04-20   \n",
       "5394     0      NaN 2021-04-20 15:44:37.544000-04:00  2021-04-20   \n",
       "\n",
       "            time_only                                              SHAPE  \n",
       "5276  08:06:02.818000  {\"spatialReference\": {\"wkid\": 4326}, \"x\": -79....  \n",
       "5279  08:13:13.996000  {\"spatialReference\": {\"wkid\": 4326}, \"x\": -79....  \n",
       "5332  12:09:23.675000  {\"spatialReference\": {\"wkid\": 4326}, \"x\": -79....  \n",
       "5382  15:29:59.174000  {\"spatialReference\": {\"wkid\": 4326}, \"x\": -80....  \n",
       "5394  15:44:37.544000  {\"spatialReference\": {\"wkid\": 4326}, \"x\": -79....  "
      ]
     },
     "execution_count": 43,
     "metadata": {},
     "output_type": "execute_result"
    }
   ],
   "source": [
    "pass_with_least_trips[\n",
    "    pd.to_datetime(pass_with_least_trips['date_only'], format='%Y-%m-%d') == pd.to_datetime('2021-04-20', format='%Y-%m-%d')\n",
    "].sort_values(by='time_only')"
   ]
  },
  {
   "cell_type": "markdown",
   "metadata": {},
   "source": [
    "Again, there are some very interesting patterns. The passenger boards Route 22 at the Motel 6 stop at 8:06 AM and then transfers onto Route 2 at the CTC heading to Greensboro. Four hours later, we see the passenger board Route 2 at the Greensboro Depot heading to the CTC. This trip would have the passenger arriving at the CTC at 12:45 PM. The next transaction is at FedEx Ground (EB) at 3:30 PM. The passenger then boards Route 2 at the CTC heading to Greensboro at 3:44 PM. There is not much else around the FedEx Ground facility and I believe the times are not long enough for this person to be working. If they are, these are some very short shifts.  "
   ]
  },
  {
   "cell_type": "markdown",
   "metadata": {},
   "source": [
    "We knew this passenger had some unusual trips when we looked at the heatmap above. Let's take a look at Passenger `7836721698662976` who had more consistent utilization of the service."
   ]
  },
  {
   "cell_type": "code",
   "execution_count": 44,
   "metadata": {},
   "outputs": [
    {
     "data": {
      "text/html": [
       "<div>\n",
       "<style scoped>\n",
       "    .dataframe tbody tr th:only-of-type {\n",
       "        vertical-align: middle;\n",
       "    }\n",
       "\n",
       "    .dataframe tbody tr th {\n",
       "        vertical-align: top;\n",
       "    }\n",
       "\n",
       "    .dataframe thead th {\n",
       "        text-align: right;\n",
       "    }\n",
       "</style>\n",
       "<table border=\"1\" class=\"dataframe\">\n",
       "  <thead>\n",
       "    <tr style=\"text-align: right;\">\n",
       "      <th></th>\n",
       "      <th>type</th>\n",
       "      <th>cardNumber</th>\n",
       "      <th>fareType</th>\n",
       "      <th>stopName</th>\n",
       "      <th>stopId</th>\n",
       "      <th>routeName</th>\n",
       "      <th>latitude</th>\n",
       "      <th>longitude</th>\n",
       "      <th>fare</th>\n",
       "      <th>passUsed</th>\n",
       "      <th>date</th>\n",
       "      <th>date_only</th>\n",
       "      <th>time_only</th>\n",
       "      <th>SHAPE</th>\n",
       "    </tr>\n",
       "  </thead>\n",
       "  <tbody>\n",
       "    <tr>\n",
       "      <th>108</th>\n",
       "      <td>STORED_VALUE</td>\n",
       "      <td>7836721698662976</td>\n",
       "      <td>Half Priced</td>\n",
       "      <td>Winston-Salem Transportation Center (L-1)</td>\n",
       "      <td>198</td>\n",
       "      <td>1</td>\n",
       "      <td>36.099578</td>\n",
       "      <td>-80.245128</td>\n",
       "      <td>125</td>\n",
       "      <td>NaN</td>\n",
       "      <td>2021-04-01 08:09:22.070000-04:00</td>\n",
       "      <td>2021-04-01</td>\n",
       "      <td>08:09:22.070000</td>\n",
       "      <td>{\"spatialReference\": {\"wkid\": 4326}, \"x\": -80....</td>\n",
       "    </tr>\n",
       "    <tr>\n",
       "      <th>122</th>\n",
       "      <td>TRANSFER</td>\n",
       "      <td>7836721698662976</td>\n",
       "      <td>Half Priced</td>\n",
       "      <td>Coble Transportation Center</td>\n",
       "      <td>100</td>\n",
       "      <td>2</td>\n",
       "      <td>36.093659</td>\n",
       "      <td>-79.959388</td>\n",
       "      <td>0</td>\n",
       "      <td>NaN</td>\n",
       "      <td>2021-04-01 08:42:37.329000-04:00</td>\n",
       "      <td>2021-04-01</td>\n",
       "      <td>08:42:37.329000</td>\n",
       "      <td>{\"spatialReference\": {\"wkid\": 4326}, \"x\": -79....</td>\n",
       "    </tr>\n",
       "  </tbody>\n",
       "</table>\n",
       "</div>"
      ],
      "text/plain": [
       "             type        cardNumber     fareType  \\\n",
       "108  STORED_VALUE  7836721698662976  Half Priced   \n",
       "122      TRANSFER  7836721698662976  Half Priced   \n",
       "\n",
       "                                      stopName stopId routeName   latitude  \\\n",
       "108  Winston-Salem Transportation Center (L-1)    198         1  36.099578   \n",
       "122                Coble Transportation Center    100         2  36.093659   \n",
       "\n",
       "     longitude  fare passUsed                             date   date_only  \\\n",
       "108 -80.245128   125      NaN 2021-04-01 08:09:22.070000-04:00  2021-04-01   \n",
       "122 -79.959388     0      NaN 2021-04-01 08:42:37.329000-04:00  2021-04-01   \n",
       "\n",
       "           time_only                                              SHAPE  \n",
       "108  08:09:22.070000  {\"spatialReference\": {\"wkid\": 4326}, \"x\": -80....  \n",
       "122  08:42:37.329000  {\"spatialReference\": {\"wkid\": 4326}, \"x\": -79....  "
      ]
     },
     "execution_count": 44,
     "metadata": {},
     "output_type": "execute_result"
    }
   ],
   "source": [
    "pass_with_2least_trips = monthly_cap_user_trips[monthly_cap_user_trips['cardNumber'] == '7836721698662976']\n",
    "pass_with_2least_trips.head(2)"
   ]
  },
  {
   "cell_type": "code",
   "execution_count": 45,
   "metadata": {},
   "outputs": [
    {
     "data": {
      "image/png": "[encoded data removed]",
      "text/plain": [
       "<Figure size 576x360 with 1 Axes>"
      ]
     },
     "metadata": {
      "needs_background": "light"
     },
     "output_type": "display_data"
    }
   ],
   "source": [
    "plt.figure(figsize=(8, 5))\n",
    "ax = pass_with_2least_trips.groupby('stopName').size().sort_values(ascending=False).plot(kind='bar')\n",
    "plt.title('Passenger 7836721698662976 Stop Utilization', fontsize=15)\n",
    "plt.xlabel('')\n",
    "plt.ylabel('Count')\n",
    "plt.xticks(rotation=45, rotation_mode='anchor', horizontalalignment='right', fontsize=12)\n",
    "plt.yticks(rotation=0, fontsize=12)\n",
    "sns.despine()\n",
    "plt.show()"
   ]
  },
  {
   "cell_type": "markdown",
   "metadata": {},
   "source": [
    "The passenger utilized only four stops in the month of April and it appears that they travel between Winston-Salem and Greensboro regularly. We will dig into their trips. Looking at the heatmap, this passenger has four transactions most days. We'll check a few days to see if their trips are the same."
   ]
  },
  {
   "cell_type": "code",
   "execution_count": 46,
   "metadata": {},
   "outputs": [
    {
     "data": {
      "text/html": [
       "<div>\n",
       "<style scoped>\n",
       "    .dataframe tbody tr th:only-of-type {\n",
       "        vertical-align: middle;\n",
       "    }\n",
       "\n",
       "    .dataframe tbody tr th {\n",
       "        vertical-align: top;\n",
       "    }\n",
       "\n",
       "    .dataframe thead th {\n",
       "        text-align: right;\n",
       "    }\n",
       "</style>\n",
       "<table border=\"1\" class=\"dataframe\">\n",
       "  <thead>\n",
       "    <tr style=\"text-align: right;\">\n",
       "      <th></th>\n",
       "      <th>type</th>\n",
       "      <th>cardNumber</th>\n",
       "      <th>fareType</th>\n",
       "      <th>stopName</th>\n",
       "      <th>stopId</th>\n",
       "      <th>routeName</th>\n",
       "      <th>latitude</th>\n",
       "      <th>longitude</th>\n",
       "      <th>fare</th>\n",
       "      <th>passUsed</th>\n",
       "      <th>date</th>\n",
       "      <th>date_only</th>\n",
       "      <th>time_only</th>\n",
       "      <th>SHAPE</th>\n",
       "    </tr>\n",
       "  </thead>\n",
       "  <tbody>\n",
       "    <tr>\n",
       "      <th>2330</th>\n",
       "      <td>STORED_VALUE</td>\n",
       "      <td>7836721698662976</td>\n",
       "      <td>Half Priced</td>\n",
       "      <td>Winston-Salem Transportation Center (L-1)</td>\n",
       "      <td>198</td>\n",
       "      <td>1</td>\n",
       "      <td>36.099325</td>\n",
       "      <td>-80.245093</td>\n",
       "      <td>125</td>\n",
       "      <td>NaN</td>\n",
       "      <td>2021-04-09 08:12:04.388000-04:00</td>\n",
       "      <td>2021-04-09</td>\n",
       "      <td>08:12:04.388000</td>\n",
       "      <td>{\"spatialReference\": {\"wkid\": 4326}, \"x\": -80....</td>\n",
       "    </tr>\n",
       "    <tr>\n",
       "      <th>2338</th>\n",
       "      <td>TRANSFER</td>\n",
       "      <td>7836721698662976</td>\n",
       "      <td>Half Priced</td>\n",
       "      <td>Coble Transportation Center</td>\n",
       "      <td>100</td>\n",
       "      <td>2</td>\n",
       "      <td>36.093635</td>\n",
       "      <td>-79.959352</td>\n",
       "      <td>0</td>\n",
       "      <td>NaN</td>\n",
       "      <td>2021-04-09 08:42:26.324000-04:00</td>\n",
       "      <td>2021-04-09</td>\n",
       "      <td>08:42:26.324000</td>\n",
       "      <td>{\"spatialReference\": {\"wkid\": 4326}, \"x\": -79....</td>\n",
       "    </tr>\n",
       "    <tr>\n",
       "      <th>2433</th>\n",
       "      <td>DAILY_CAP_REACHED</td>\n",
       "      <td>7836721698662976</td>\n",
       "      <td>Half Priced</td>\n",
       "      <td>Greensboro Depot</td>\n",
       "      <td>142</td>\n",
       "      <td>2</td>\n",
       "      <td>36.069180</td>\n",
       "      <td>-79.787368</td>\n",
       "      <td>125</td>\n",
       "      <td>NaN</td>\n",
       "      <td>2021-04-09 15:46:02.639000-04:00</td>\n",
       "      <td>2021-04-09</td>\n",
       "      <td>15:46:02.639000</td>\n",
       "      <td>{\"spatialReference\": {\"wkid\": 4326}, \"x\": -79....</td>\n",
       "    </tr>\n",
       "    <tr>\n",
       "      <th>2447</th>\n",
       "      <td>DAILY_CAP_REACHED</td>\n",
       "      <td>7836721698662976</td>\n",
       "      <td>Half Priced</td>\n",
       "      <td>Coble Transportation Center</td>\n",
       "      <td>100</td>\n",
       "      <td>1</td>\n",
       "      <td>36.093445</td>\n",
       "      <td>-79.959181</td>\n",
       "      <td>0</td>\n",
       "      <td>NaN</td>\n",
       "      <td>2021-04-09 16:16:16.423000-04:00</td>\n",
       "      <td>2021-04-09</td>\n",
       "      <td>16:16:16.423000</td>\n",
       "      <td>{\"spatialReference\": {\"wkid\": 4326}, \"x\": -79....</td>\n",
       "    </tr>\n",
       "  </tbody>\n",
       "</table>\n",
       "</div>"
      ],
      "text/plain": [
       "                   type        cardNumber     fareType  \\\n",
       "2330       STORED_VALUE  7836721698662976  Half Priced   \n",
       "2338           TRANSFER  7836721698662976  Half Priced   \n",
       "2433  DAILY_CAP_REACHED  7836721698662976  Half Priced   \n",
       "2447  DAILY_CAP_REACHED  7836721698662976  Half Priced   \n",
       "\n",
       "                                       stopName stopId routeName   latitude  \\\n",
       "2330  Winston-Salem Transportation Center (L-1)    198         1  36.099325   \n",
       "2338                Coble Transportation Center    100         2  36.093635   \n",
       "2433                           Greensboro Depot    142         2  36.069180   \n",
       "2447                Coble Transportation Center    100         1  36.093445   \n",
       "\n",
       "      longitude  fare passUsed                             date   date_only  \\\n",
       "2330 -80.245093   125      NaN 2021-04-09 08:12:04.388000-04:00  2021-04-09   \n",
       "2338 -79.959352     0      NaN 2021-04-09 08:42:26.324000-04:00  2021-04-09   \n",
       "2433 -79.787368   125      NaN 2021-04-09 15:46:02.639000-04:00  2021-04-09   \n",
       "2447 -79.959181     0      NaN 2021-04-09 16:16:16.423000-04:00  2021-04-09   \n",
       "\n",
       "            time_only                                              SHAPE  \n",
       "2330  08:12:04.388000  {\"spatialReference\": {\"wkid\": 4326}, \"x\": -80....  \n",
       "2338  08:42:26.324000  {\"spatialReference\": {\"wkid\": 4326}, \"x\": -79....  \n",
       "2433  15:46:02.639000  {\"spatialReference\": {\"wkid\": 4326}, \"x\": -79....  \n",
       "2447  16:16:16.423000  {\"spatialReference\": {\"wkid\": 4326}, \"x\": -79....  "
      ]
     },
     "execution_count": 46,
     "metadata": {},
     "output_type": "execute_result"
    }
   ],
   "source": [
    "pass_with_2least_trips[\n",
    "    pd.to_datetime(pass_with_2least_trips['date_only'], format='%Y-%m-%d') == pd.to_datetime('2021-04-09', format='%Y-%m-%d')\n",
    "].sort_values(by='time_only')"
   ]
  },
  {
   "cell_type": "markdown",
   "metadata": {},
   "source": [
    "Looking at their activity on April 9th, we can see this passenger boarded the 8:15 AM bus out of Winston-Salem and transfered to Route 2 at the CTC heading to Greensboro. Then the passenger boards the 3:45 PM bus out of Greensboro and transfers to Route 1 at the CTC that is heading back to Winston-Salem. This passenger also utilizes a half-priced fare. \n",
    "\n",
    "Let's take a look at a second day and see if their trip is the same."
   ]
  },
  {
   "cell_type": "code",
   "execution_count": 47,
   "metadata": {},
   "outputs": [
    {
     "data": {
      "text/html": [
       "<div>\n",
       "<style scoped>\n",
       "    .dataframe tbody tr th:only-of-type {\n",
       "        vertical-align: middle;\n",
       "    }\n",
       "\n",
       "    .dataframe tbody tr th {\n",
       "        vertical-align: top;\n",
       "    }\n",
       "\n",
       "    .dataframe thead th {\n",
       "        text-align: right;\n",
       "    }\n",
       "</style>\n",
       "<table border=\"1\" class=\"dataframe\">\n",
       "  <thead>\n",
       "    <tr style=\"text-align: right;\">\n",
       "      <th></th>\n",
       "      <th>type</th>\n",
       "      <th>cardNumber</th>\n",
       "      <th>fareType</th>\n",
       "      <th>stopName</th>\n",
       "      <th>stopId</th>\n",
       "      <th>routeName</th>\n",
       "      <th>latitude</th>\n",
       "      <th>longitude</th>\n",
       "      <th>fare</th>\n",
       "      <th>passUsed</th>\n",
       "      <th>date</th>\n",
       "      <th>date_only</th>\n",
       "      <th>time_only</th>\n",
       "      <th>SHAPE</th>\n",
       "    </tr>\n",
       "  </thead>\n",
       "  <tbody>\n",
       "    <tr>\n",
       "      <th>7396</th>\n",
       "      <td>MONTHLY_CAP_REACHED</td>\n",
       "      <td>7836721698662976</td>\n",
       "      <td>Half Priced</td>\n",
       "      <td>Winston-Salem Transportation Center (L-1)</td>\n",
       "      <td>198</td>\n",
       "      <td>1</td>\n",
       "      <td>36.099691</td>\n",
       "      <td>-80.245190</td>\n",
       "      <td>125</td>\n",
       "      <td>NaN</td>\n",
       "      <td>2021-04-27 08:11:19.088000-04:00</td>\n",
       "      <td>2021-04-27</td>\n",
       "      <td>08:11:19.088000</td>\n",
       "      <td>{\"spatialReference\": {\"wkid\": 4326}, \"x\": -80....</td>\n",
       "    </tr>\n",
       "    <tr>\n",
       "      <th>7409</th>\n",
       "      <td>MONTHLY_CAP_REACHED</td>\n",
       "      <td>7836721698662976</td>\n",
       "      <td>Half Priced</td>\n",
       "      <td>NaN</td>\n",
       "      <td>NaN</td>\n",
       "      <td>DEFAULT</td>\n",
       "      <td>36.093728</td>\n",
       "      <td>-79.959526</td>\n",
       "      <td>0</td>\n",
       "      <td>NaN</td>\n",
       "      <td>2021-04-27 08:45:08.442000-04:00</td>\n",
       "      <td>2021-04-27</td>\n",
       "      <td>08:45:08.442000</td>\n",
       "      <td>{\"spatialReference\": {\"wkid\": 4326}, \"x\": -79....</td>\n",
       "    </tr>\n",
       "    <tr>\n",
       "      <th>7604</th>\n",
       "      <td>MONTHLY_CAP_REACHED</td>\n",
       "      <td>7836721698662976</td>\n",
       "      <td>Half Priced</td>\n",
       "      <td>Greensboro Depot</td>\n",
       "      <td>142</td>\n",
       "      <td>2</td>\n",
       "      <td>36.069202</td>\n",
       "      <td>-79.786938</td>\n",
       "      <td>0</td>\n",
       "      <td>NaN</td>\n",
       "      <td>2021-04-27 17:14:51.005000-04:00</td>\n",
       "      <td>2021-04-27</td>\n",
       "      <td>17:14:51.005000</td>\n",
       "      <td>{\"spatialReference\": {\"wkid\": 4326}, \"x\": -79....</td>\n",
       "    </tr>\n",
       "    <tr>\n",
       "      <th>7628</th>\n",
       "      <td>MONTHLY_CAP_REACHED</td>\n",
       "      <td>7836721698662976</td>\n",
       "      <td>Half Priced</td>\n",
       "      <td>Coble Transportation Center</td>\n",
       "      <td>100</td>\n",
       "      <td>1</td>\n",
       "      <td>36.093151</td>\n",
       "      <td>-79.959389</td>\n",
       "      <td>0</td>\n",
       "      <td>NaN</td>\n",
       "      <td>2021-04-27 17:47:00.767000-04:00</td>\n",
       "      <td>2021-04-27</td>\n",
       "      <td>17:47:00.767000</td>\n",
       "      <td>{\"spatialReference\": {\"wkid\": 4326}, \"x\": -79....</td>\n",
       "    </tr>\n",
       "  </tbody>\n",
       "</table>\n",
       "</div>"
      ],
      "text/plain": [
       "                     type        cardNumber     fareType  \\\n",
       "7396  MONTHLY_CAP_REACHED  7836721698662976  Half Priced   \n",
       "7409  MONTHLY_CAP_REACHED  7836721698662976  Half Priced   \n",
       "7604  MONTHLY_CAP_REACHED  7836721698662976  Half Priced   \n",
       "7628  MONTHLY_CAP_REACHED  7836721698662976  Half Priced   \n",
       "\n",
       "                                       stopName stopId routeName   latitude  \\\n",
       "7396  Winston-Salem Transportation Center (L-1)    198         1  36.099691   \n",
       "7409                                        NaN    NaN   DEFAULT  36.093728   \n",
       "7604                           Greensboro Depot    142         2  36.069202   \n",
       "7628                Coble Transportation Center    100         1  36.093151   \n",
       "\n",
       "      longitude  fare passUsed                             date   date_only  \\\n",
       "7396 -80.245190   125      NaN 2021-04-27 08:11:19.088000-04:00  2021-04-27   \n",
       "7409 -79.959526     0      NaN 2021-04-27 08:45:08.442000-04:00  2021-04-27   \n",
       "7604 -79.786938     0      NaN 2021-04-27 17:14:51.005000-04:00  2021-04-27   \n",
       "7628 -79.959389     0      NaN 2021-04-27 17:47:00.767000-04:00  2021-04-27   \n",
       "\n",
       "            time_only                                              SHAPE  \n",
       "7396  08:11:19.088000  {\"spatialReference\": {\"wkid\": 4326}, \"x\": -80....  \n",
       "7409  08:45:08.442000  {\"spatialReference\": {\"wkid\": 4326}, \"x\": -79....  \n",
       "7604  17:14:51.005000  {\"spatialReference\": {\"wkid\": 4326}, \"x\": -79....  \n",
       "7628  17:47:00.767000  {\"spatialReference\": {\"wkid\": 4326}, \"x\": -79....  "
      ]
     },
     "execution_count": 47,
     "metadata": {},
     "output_type": "execute_result"
    }
   ],
   "source": [
    "pass_with_2least_trips[\n",
    "    pd.to_datetime(pass_with_2least_trips['date_only'], format='%Y-%m-%d') == pd.to_datetime('2021-04-27', format='%Y-%m-%d')\n",
    "].sort_values(by='time_only')"
   ]
  },
  {
   "cell_type": "markdown",
   "metadata": {},
   "source": [
    "The table above shows the trips taken on April 27th. They are similar to the trips the passenger took on April 9th. However, their trip in the afternoon began a few hours later at 5:15 PM. We can also see that the second trip in the morning is missing the stop name but there are valid coordinates. We can plot those on a map to confirm that this transfer took place at the CTC just as it had on April 9th."
   ]
  },
  {
   "cell_type": "code",
   "execution_count": 48,
   "metadata": {
    "scrolled": false
   },
   "outputs": [
    {
     "name": "stderr",
     "output_type": "stream",
     "text": [
      "C:\\Users\\miguelf.PARTNC\\Anaconda3\\envs\\touchpass_v2\\lib\\site-packages\\pandas\\core\\series.py:4463: SettingWithCopyWarning: \n",
      "A value is trying to be set on a copy of a slice from a DataFrame\n",
      "\n",
      "See the caveats in the documentation: https://pandas.pydata.org/pandas-docs/stable/user_guide/indexing.html#returning-a-view-versus-a-copy\n",
      "  return super().fillna(\n",
      "C:\\Users\\miguelf.PARTNC\\Anaconda3\\envs\\touchpass_v2\\lib\\site-packages\\arcgis\\features\\geo\\_accessor.py:2569: SettingWithCopyWarning: \n",
      "A value is trying to be set on a copy of a slice from a DataFrame.\n",
      "Try using .loc[row_indexer,col_indexer] = value instead\n",
      "\n",
      "See the caveats in the documentation: https://pandas.pydata.org/pandas-docs/stable/user_guide/indexing.html#returning-a-view-versus-a-copy\n",
      "  self._data['OBJECTID'] = list(range(1, self._data.shape[0] + 1))\n"
     ]
    },
    {
     "data": {
      "application/vnd.jupyter.widget-view+json": {
       "model_id": "5ed077ce64d54e1b88c2c38f5205b0c4",
       "version_major": 2,
       "version_minor": 0
      },
      "text/plain": [
       "MapView(layout=Layout(height='400px', width='100%'))"
      ]
     },
     "metadata": {},
     "output_type": "display_data"
    },
    {
     "data": {
      "text/html": [
       "<div class=\"map-static-img-preview-8c1a7932-6b83-4eb6-9df5-3053a4aa6980\"><img src=\"\"></img></div>"
      ],
      "text/plain": [
       "<IPython.core.display.HTML object>"
      ]
     },
     "metadata": {},
     "output_type": "display_data"
    },
    {
     "data": {
      "text/html": [
       "<div class=\"map-html-embed-preview-8c1a7932-6b83-4eb6-9df5-3053a4aa6980\"></div>"
      ],
      "text/plain": [
       "<IPython.core.display.HTML object>"
      ]
     },
     "metadata": {},
     "output_type": "display_data"
    }
   ],
   "source": [
    "m1 = GIS().map(zoomlevel=16)\n",
    "m1.center = [36.093182, -79.959294]\n",
    "m1.basemap = 'osm'\n",
    "\n",
    "pass_with_2least_trips[\n",
    "    (pd.to_datetime(pass_with_2least_trips['date_only'], format='%Y-%m-%d') == pd.to_datetime('2021-04-27', format='%Y-%m-%d')) &\n",
    "    (pass_with_2least_trips['routeName'] == 'DEFAULT')\n",
    "].spatial.plot(\n",
    "    map_widget=m1,\n",
    "    marker_size=10\n",
    ")\n",
    "\n",
    "# show map\n",
    "m1"
   ]
  },
  {
   "cell_type": "markdown",
   "metadata": {},
   "source": [
    "The map above confirms that the transaction with the missing stop name did occur at the CTC.\n",
    "\n",
    "We can see that this passenger appears to have more consistent trips between Winston-Salem and Greensboro while the times may vary."
   ]
  },
  {
   "cell_type": "markdown",
   "metadata": {},
   "source": [
    "Now we'll take a look at another passenger's activity, `8078732924645276`. This passenger had the most transactions in the month of April. Let's see where they are going."
   ]
  },
  {
   "cell_type": "code",
   "execution_count": 49,
   "metadata": {},
   "outputs": [
    {
     "data": {
      "text/html": [
       "<div>\n",
       "<style scoped>\n",
       "    .dataframe tbody tr th:only-of-type {\n",
       "        vertical-align: middle;\n",
       "    }\n",
       "\n",
       "    .dataframe tbody tr th {\n",
       "        vertical-align: top;\n",
       "    }\n",
       "\n",
       "    .dataframe thead th {\n",
       "        text-align: right;\n",
       "    }\n",
       "</style>\n",
       "<table border=\"1\" class=\"dataframe\">\n",
       "  <thead>\n",
       "    <tr style=\"text-align: right;\">\n",
       "      <th></th>\n",
       "      <th>type</th>\n",
       "      <th>cardNumber</th>\n",
       "      <th>fareType</th>\n",
       "      <th>stopName</th>\n",
       "      <th>stopId</th>\n",
       "      <th>routeName</th>\n",
       "      <th>latitude</th>\n",
       "      <th>longitude</th>\n",
       "      <th>fare</th>\n",
       "      <th>passUsed</th>\n",
       "      <th>date</th>\n",
       "      <th>date_only</th>\n",
       "      <th>time_only</th>\n",
       "      <th>SHAPE</th>\n",
       "    </tr>\n",
       "  </thead>\n",
       "  <tbody>\n",
       "    <tr>\n",
       "      <th>97</th>\n",
       "      <td>STORED_VALUE</td>\n",
       "      <td>8078732924645276</td>\n",
       "      <td>Full Fare</td>\n",
       "      <td>High Point Terminal (Outer Slip)</td>\n",
       "      <td>225</td>\n",
       "      <td>3</td>\n",
       "      <td>35.957300</td>\n",
       "      <td>-80.007398</td>\n",
       "      <td>250</td>\n",
       "      <td>NaN</td>\n",
       "      <td>2021-04-01 07:41:54.949000-04:00</td>\n",
       "      <td>2021-04-01</td>\n",
       "      <td>07:41:54.949000</td>\n",
       "      <td>{\"spatialReference\": {\"wkid\": 4326}, \"x\": -80....</td>\n",
       "    </tr>\n",
       "    <tr>\n",
       "      <th>109</th>\n",
       "      <td>TRANSFER</td>\n",
       "      <td>8078732924645276</td>\n",
       "      <td>Full Fare</td>\n",
       "      <td>Coble Transportation Center</td>\n",
       "      <td>100</td>\n",
       "      <td>23</td>\n",
       "      <td>36.093892</td>\n",
       "      <td>-79.958941</td>\n",
       "      <td>0</td>\n",
       "      <td>NaN</td>\n",
       "      <td>2021-04-01 08:09:57.353000-04:00</td>\n",
       "      <td>2021-04-01</td>\n",
       "      <td>08:09:57.353000</td>\n",
       "      <td>{\"spatialReference\": {\"wkid\": 4326}, \"x\": -79....</td>\n",
       "    </tr>\n",
       "  </tbody>\n",
       "</table>\n",
       "</div>"
      ],
      "text/plain": [
       "             type        cardNumber   fareType  \\\n",
       "97   STORED_VALUE  8078732924645276  Full Fare   \n",
       "109      TRANSFER  8078732924645276  Full Fare   \n",
       "\n",
       "                             stopName stopId routeName   latitude  longitude  \\\n",
       "97   High Point Terminal (Outer Slip)    225         3  35.957300 -80.007398   \n",
       "109       Coble Transportation Center    100        23  36.093892 -79.958941   \n",
       "\n",
       "     fare passUsed                             date   date_only  \\\n",
       "97    250      NaN 2021-04-01 07:41:54.949000-04:00  2021-04-01   \n",
       "109     0      NaN 2021-04-01 08:09:57.353000-04:00  2021-04-01   \n",
       "\n",
       "           time_only                                              SHAPE  \n",
       "97   07:41:54.949000  {\"spatialReference\": {\"wkid\": 4326}, \"x\": -80....  \n",
       "109  08:09:57.353000  {\"spatialReference\": {\"wkid\": 4326}, \"x\": -79....  "
      ]
     },
     "execution_count": 49,
     "metadata": {},
     "output_type": "execute_result"
    }
   ],
   "source": [
    "pass_with_most_trips = monthly_cap_user_trips[monthly_cap_user_trips['cardNumber'] == '8078732924645276']\n",
    "pass_with_most_trips.head(2)"
   ]
  },
  {
   "cell_type": "code",
   "execution_count": 50,
   "metadata": {},
   "outputs": [
    {
     "data": {
      "image/png": "[encoded data removed]",
      "text/plain": [
       "<Figure size 576x360 with 1 Axes>"
      ]
     },
     "metadata": {
      "needs_background": "light"
     },
     "output_type": "display_data"
    }
   ],
   "source": [
    "plt.figure(figsize=(8, 5))\n",
    "ax = pass_with_most_trips.groupby('stopName').size().sort_values(ascending=False).plot(kind='bar')\n",
    "plt.title('Passenger 8078732924645276 Stop Utilization', fontsize=15)\n",
    "plt.xlabel('')\n",
    "plt.ylabel('Count')\n",
    "plt.xticks(rotation=45, rotation_mode='anchor', horizontalalignment='right', fontsize=12)\n",
    "plt.yticks(rotation=0, fontsize=12)\n",
    "sns.despine()\n",
    "plt.show()"
   ]
  },
  {
   "cell_type": "markdown",
   "metadata": {},
   "source": [
    "This activity is fairly interesting. We can see nearly 40 transactions at the CTC and about 20 transactions at the High Point Terminal. There are also about five transactions at the Greensboro Depot and some activity at stops that are along Route 22. Let's take a look at a few days."
   ]
  },
  {
   "cell_type": "code",
   "execution_count": 51,
   "metadata": {},
   "outputs": [
    {
     "data": {
      "text/html": [
       "<div>\n",
       "<style scoped>\n",
       "    .dataframe tbody tr th:only-of-type {\n",
       "        vertical-align: middle;\n",
       "    }\n",
       "\n",
       "    .dataframe tbody tr th {\n",
       "        vertical-align: top;\n",
       "    }\n",
       "\n",
       "    .dataframe thead th {\n",
       "        text-align: right;\n",
       "    }\n",
       "</style>\n",
       "<table border=\"1\" class=\"dataframe\">\n",
       "  <thead>\n",
       "    <tr style=\"text-align: right;\">\n",
       "      <th></th>\n",
       "      <th>type</th>\n",
       "      <th>cardNumber</th>\n",
       "      <th>fareType</th>\n",
       "      <th>stopName</th>\n",
       "      <th>stopId</th>\n",
       "      <th>routeName</th>\n",
       "      <th>latitude</th>\n",
       "      <th>longitude</th>\n",
       "      <th>fare</th>\n",
       "      <th>passUsed</th>\n",
       "      <th>date</th>\n",
       "      <th>date_only</th>\n",
       "      <th>time_only</th>\n",
       "      <th>SHAPE</th>\n",
       "    </tr>\n",
       "  </thead>\n",
       "  <tbody>\n",
       "    <tr>\n",
       "      <th>97</th>\n",
       "      <td>STORED_VALUE</td>\n",
       "      <td>8078732924645276</td>\n",
       "      <td>Full Fare</td>\n",
       "      <td>High Point Terminal (Outer Slip)</td>\n",
       "      <td>225</td>\n",
       "      <td>3</td>\n",
       "      <td>35.957300</td>\n",
       "      <td>-80.007398</td>\n",
       "      <td>250</td>\n",
       "      <td>NaN</td>\n",
       "      <td>2021-04-01 07:41:54.949000-04:00</td>\n",
       "      <td>2021-04-01</td>\n",
       "      <td>07:41:54.949000</td>\n",
       "      <td>{\"spatialReference\": {\"wkid\": 4326}, \"x\": -80....</td>\n",
       "    </tr>\n",
       "    <tr>\n",
       "      <th>109</th>\n",
       "      <td>TRANSFER</td>\n",
       "      <td>8078732924645276</td>\n",
       "      <td>Full Fare</td>\n",
       "      <td>Coble Transportation Center</td>\n",
       "      <td>100</td>\n",
       "      <td>23</td>\n",
       "      <td>36.093892</td>\n",
       "      <td>-79.958941</td>\n",
       "      <td>0</td>\n",
       "      <td>NaN</td>\n",
       "      <td>2021-04-01 08:09:57.353000-04:00</td>\n",
       "      <td>2021-04-01</td>\n",
       "      <td>08:09:57.353000</td>\n",
       "      <td>{\"spatialReference\": {\"wkid\": 4326}, \"x\": -79....</td>\n",
       "    </tr>\n",
       "    <tr>\n",
       "      <th>158</th>\n",
       "      <td>DAILY_CAP_REACHED</td>\n",
       "      <td>8078732924645276</td>\n",
       "      <td>Full Fare</td>\n",
       "      <td>NaN</td>\n",
       "      <td>NaN</td>\n",
       "      <td>22/23</td>\n",
       "      <td>36.047479</td>\n",
       "      <td>-79.954570</td>\n",
       "      <td>250</td>\n",
       "      <td>NaN</td>\n",
       "      <td>2021-04-01 11:27:34.522000-04:00</td>\n",
       "      <td>2021-04-01</td>\n",
       "      <td>11:27:34.522000</td>\n",
       "      <td>{\"spatialReference\": {\"wkid\": 4326}, \"x\": -79....</td>\n",
       "    </tr>\n",
       "    <tr>\n",
       "      <th>163</th>\n",
       "      <td>DAILY_CAP_REACHED</td>\n",
       "      <td>8078732924645276</td>\n",
       "      <td>Full Fare</td>\n",
       "      <td>Coble Transportation Center</td>\n",
       "      <td>100</td>\n",
       "      <td>2</td>\n",
       "      <td>36.093243</td>\n",
       "      <td>-79.959852</td>\n",
       "      <td>0</td>\n",
       "      <td>NaN</td>\n",
       "      <td>2021-04-01 11:43:30.417000-04:00</td>\n",
       "      <td>2021-04-01</td>\n",
       "      <td>11:43:30.417000</td>\n",
       "      <td>{\"spatialReference\": {\"wkid\": 4326}, \"x\": -79....</td>\n",
       "    </tr>\n",
       "    <tr>\n",
       "      <th>201</th>\n",
       "      <td>DAILY_CAP_REACHED</td>\n",
       "      <td>8078732924645276</td>\n",
       "      <td>Full Fare</td>\n",
       "      <td>Greensboro Depot</td>\n",
       "      <td>142</td>\n",
       "      <td>2</td>\n",
       "      <td>36.069214</td>\n",
       "      <td>-79.787195</td>\n",
       "      <td>0</td>\n",
       "      <td>NaN</td>\n",
       "      <td>2021-04-01 14:13:14.333000-04:00</td>\n",
       "      <td>2021-04-01</td>\n",
       "      <td>14:13:14.333000</td>\n",
       "      <td>{\"spatialReference\": {\"wkid\": 4326}, \"x\": -79....</td>\n",
       "    </tr>\n",
       "    <tr>\n",
       "      <th>379</th>\n",
       "      <td>DAILY_CAP_REACHED</td>\n",
       "      <td>8078732924645276</td>\n",
       "      <td>Full Fare</td>\n",
       "      <td>Greensboro Depot</td>\n",
       "      <td>142</td>\n",
       "      <td>2</td>\n",
       "      <td>36.069308</td>\n",
       "      <td>-79.786807</td>\n",
       "      <td>0</td>\n",
       "      <td>NaN</td>\n",
       "      <td>2021-04-01 20:44:07.959000-04:00</td>\n",
       "      <td>2021-04-01</td>\n",
       "      <td>20:44:07.959000</td>\n",
       "      <td>{\"spatialReference\": {\"wkid\": 4326}, \"x\": -79....</td>\n",
       "    </tr>\n",
       "  </tbody>\n",
       "</table>\n",
       "</div>"
      ],
      "text/plain": [
       "                  type        cardNumber   fareType  \\\n",
       "97        STORED_VALUE  8078732924645276  Full Fare   \n",
       "109           TRANSFER  8078732924645276  Full Fare   \n",
       "158  DAILY_CAP_REACHED  8078732924645276  Full Fare   \n",
       "163  DAILY_CAP_REACHED  8078732924645276  Full Fare   \n",
       "201  DAILY_CAP_REACHED  8078732924645276  Full Fare   \n",
       "379  DAILY_CAP_REACHED  8078732924645276  Full Fare   \n",
       "\n",
       "                             stopName stopId routeName   latitude  longitude  \\\n",
       "97   High Point Terminal (Outer Slip)    225         3  35.957300 -80.007398   \n",
       "109       Coble Transportation Center    100        23  36.093892 -79.958941   \n",
       "158                               NaN    NaN     22/23  36.047479 -79.954570   \n",
       "163       Coble Transportation Center    100         2  36.093243 -79.959852   \n",
       "201                  Greensboro Depot    142         2  36.069214 -79.787195   \n",
       "379                  Greensboro Depot    142         2  36.069308 -79.786807   \n",
       "\n",
       "     fare passUsed                             date   date_only  \\\n",
       "97    250      NaN 2021-04-01 07:41:54.949000-04:00  2021-04-01   \n",
       "109     0      NaN 2021-04-01 08:09:57.353000-04:00  2021-04-01   \n",
       "158   250      NaN 2021-04-01 11:27:34.522000-04:00  2021-04-01   \n",
       "163     0      NaN 2021-04-01 11:43:30.417000-04:00  2021-04-01   \n",
       "201     0      NaN 2021-04-01 14:13:14.333000-04:00  2021-04-01   \n",
       "379     0      NaN 2021-04-01 20:44:07.959000-04:00  2021-04-01   \n",
       "\n",
       "           time_only                                              SHAPE  \n",
       "97   07:41:54.949000  {\"spatialReference\": {\"wkid\": 4326}, \"x\": -80....  \n",
       "109  08:09:57.353000  {\"spatialReference\": {\"wkid\": 4326}, \"x\": -79....  \n",
       "158  11:27:34.522000  {\"spatialReference\": {\"wkid\": 4326}, \"x\": -79....  \n",
       "163  11:43:30.417000  {\"spatialReference\": {\"wkid\": 4326}, \"x\": -79....  \n",
       "201  14:13:14.333000  {\"spatialReference\": {\"wkid\": 4326}, \"x\": -79....  \n",
       "379  20:44:07.959000  {\"spatialReference\": {\"wkid\": 4326}, \"x\": -79....  "
      ]
     },
     "execution_count": 51,
     "metadata": {},
     "output_type": "execute_result"
    }
   ],
   "source": [
    "pass_with_most_trips[\n",
    "    pd.to_datetime(pass_with_most_trips['date_only'], format='%Y-%m-%d') == pd.to_datetime('2021-04-01', format='%Y-%m-%d')\n",
    "].sort_values(by='time_only')"
   ]
  },
  {
   "cell_type": "markdown",
   "metadata": {},
   "source": [
    "Looking at the passenger's activity on April 1st, we can see six transactions. They board Route 3 at 7:45 AM in High Point and then transfer to Route 23 at the CTC for the 8:15 AM trip. Then we see them board at an unknown stop at 11:27 AM and then they transfer onto Route 2 at the CTC at 11:43 AM heading to Greensboro. About two and a half hours later, we see them board Route 2 at the Greensboro Depot at 2:13 PM. Then there is no activity until 8:45 PM where they board Route 2 again at the Greensboro Depot. What is happening between 2:00 PM and 8:45 PM? Also, where are they boarding at 11:27 AM? Because there are valid coordinates, we can plot this transaction, just as we did above."
   ]
  },
  {
   "cell_type": "code",
   "execution_count": 52,
   "metadata": {},
   "outputs": [
    {
     "name": "stderr",
     "output_type": "stream",
     "text": [
      "C:\\Users\\miguelf.PARTNC\\Anaconda3\\envs\\touchpass_v2\\lib\\site-packages\\pandas\\core\\series.py:4463: SettingWithCopyWarning: \n",
      "A value is trying to be set on a copy of a slice from a DataFrame\n",
      "\n",
      "See the caveats in the documentation: https://pandas.pydata.org/pandas-docs/stable/user_guide/indexing.html#returning-a-view-versus-a-copy\n",
      "  return super().fillna(\n",
      "C:\\Users\\miguelf.PARTNC\\Anaconda3\\envs\\touchpass_v2\\lib\\site-packages\\arcgis\\features\\geo\\_accessor.py:2569: SettingWithCopyWarning: \n",
      "A value is trying to be set on a copy of a slice from a DataFrame.\n",
      "Try using .loc[row_indexer,col_indexer] = value instead\n",
      "\n",
      "See the caveats in the documentation: https://pandas.pydata.org/pandas-docs/stable/user_guide/indexing.html#returning-a-view-versus-a-copy\n",
      "  self._data['OBJECTID'] = list(range(1, self._data.shape[0] + 1))\n"
     ]
    },
    {
     "data": {
      "application/vnd.jupyter.widget-view+json": {
       "model_id": "a6fe3c8c7c8549c590831cbcc2558de8",
       "version_major": 2,
       "version_minor": 0
      },
      "text/plain": [
       "MapView(layout=Layout(height='400px', width='100%'))"
      ]
     },
     "metadata": {},
     "output_type": "display_data"
    },
    {
     "data": {
      "text/html": [
       "<div class=\"map-static-img-preview-0736b6ee-6722-46ce-812c-ed7a96f2470d\"><img src=\"\"></img></div>"
      ],
      "text/plain": [
       "<IPython.core.display.HTML object>"
      ]
     },
     "metadata": {},
     "output_type": "display_data"
    },
    {
     "data": {
      "text/html": [
       "<div class=\"map-html-embed-preview-0736b6ee-6722-46ce-812c-ed7a96f2470d\"></div>"
      ],
      "text/plain": [
       "<IPython.core.display.HTML object>"
      ]
     },
     "metadata": {},
     "output_type": "display_data"
    }
   ],
   "source": [
    "m2 = GIS().map(zoomlevel=16)\n",
    "m2.center = [36.047847, -79.954559]\n",
    "m2.basemap = 'osm'\n",
    "\n",
    "pass_with_most_trips[\n",
    "    (pd.to_datetime(pass_with_most_trips['date_only'], format='%Y-%m-%d') == pd.to_datetime('2021-04-01', format='%Y-%m-%d')) &\n",
    "    (pass_with_most_trips['routeName'] == '22/23')\n",
    "].spatial.plot(\n",
    "    map_widget=m2,\n",
    "    marker_size=10\n",
    ")\n",
    "\n",
    "# show map\n",
    "m2"
   ]
  },
  {
   "cell_type": "markdown",
   "metadata": {},
   "source": [
    "This transaction occurs at High Point Clinical Trials, a stop that is frequently used by this passenger. April 1st was an unusual day for this passenger with 6 transactions. Typically they have four transactions and sometimes as few as 2. Let's take a look at another day."
   ]
  },
  {
   "cell_type": "code",
   "execution_count": 53,
   "metadata": {},
   "outputs": [
    {
     "data": {
      "text/html": [
       "<div>\n",
       "<style scoped>\n",
       "    .dataframe tbody tr th:only-of-type {\n",
       "        vertical-align: middle;\n",
       "    }\n",
       "\n",
       "    .dataframe tbody tr th {\n",
       "        vertical-align: top;\n",
       "    }\n",
       "\n",
       "    .dataframe thead th {\n",
       "        text-align: right;\n",
       "    }\n",
       "</style>\n",
       "<table border=\"1\" class=\"dataframe\">\n",
       "  <thead>\n",
       "    <tr style=\"text-align: right;\">\n",
       "      <th></th>\n",
       "      <th>type</th>\n",
       "      <th>cardNumber</th>\n",
       "      <th>fareType</th>\n",
       "      <th>stopName</th>\n",
       "      <th>stopId</th>\n",
       "      <th>routeName</th>\n",
       "      <th>latitude</th>\n",
       "      <th>longitude</th>\n",
       "      <th>fare</th>\n",
       "      <th>passUsed</th>\n",
       "      <th>date</th>\n",
       "      <th>date_only</th>\n",
       "      <th>time_only</th>\n",
       "      <th>SHAPE</th>\n",
       "    </tr>\n",
       "  </thead>\n",
       "  <tbody>\n",
       "    <tr>\n",
       "      <th>3108</th>\n",
       "      <td>STORED_VALUE</td>\n",
       "      <td>8078732924645276</td>\n",
       "      <td>Full Fare</td>\n",
       "      <td>High Point Terminal (Outer Slip)</td>\n",
       "      <td>225</td>\n",
       "      <td>3</td>\n",
       "      <td>35.957301</td>\n",
       "      <td>-80.007373</td>\n",
       "      <td>250</td>\n",
       "      <td>NaN</td>\n",
       "      <td>2021-04-13 06:40:09.385000-04:00</td>\n",
       "      <td>2021-04-13</td>\n",
       "      <td>06:40:09.385000</td>\n",
       "      <td>{\"spatialReference\": {\"wkid\": 4326}, \"x\": -80....</td>\n",
       "    </tr>\n",
       "    <tr>\n",
       "      <th>3161</th>\n",
       "      <td>TRANSFER</td>\n",
       "      <td>8078732924645276</td>\n",
       "      <td>Full Fare</td>\n",
       "      <td>Coble Transportation Center</td>\n",
       "      <td>100</td>\n",
       "      <td>23</td>\n",
       "      <td>36.093636</td>\n",
       "      <td>-79.959078</td>\n",
       "      <td>0</td>\n",
       "      <td>NaN</td>\n",
       "      <td>2021-04-13 07:16:31.832000-04:00</td>\n",
       "      <td>2021-04-13</td>\n",
       "      <td>07:16:31.832000</td>\n",
       "      <td>{\"spatialReference\": {\"wkid\": 4326}, \"x\": -79....</td>\n",
       "    </tr>\n",
       "    <tr>\n",
       "      <th>3396</th>\n",
       "      <td>DAILY_CAP_REACHED</td>\n",
       "      <td>8078732924645276</td>\n",
       "      <td>Full Fare</td>\n",
       "      <td>High Point Clinical Trials</td>\n",
       "      <td>146</td>\n",
       "      <td>23</td>\n",
       "      <td>36.047446</td>\n",
       "      <td>-79.954618</td>\n",
       "      <td>250</td>\n",
       "      <td>NaN</td>\n",
       "      <td>2021-04-13 17:00:10.468000-04:00</td>\n",
       "      <td>2021-04-13</td>\n",
       "      <td>17:00:10.468000</td>\n",
       "      <td>{\"spatialReference\": {\"wkid\": 4326}, \"x\": -79....</td>\n",
       "    </tr>\n",
       "    <tr>\n",
       "      <th>3442</th>\n",
       "      <td>DAILY_CAP_REACHED</td>\n",
       "      <td>8078732924645276</td>\n",
       "      <td>Full Fare</td>\n",
       "      <td>NaN</td>\n",
       "      <td>NaN</td>\n",
       "      <td>DEFAULT</td>\n",
       "      <td>36.093830</td>\n",
       "      <td>-79.959126</td>\n",
       "      <td>0</td>\n",
       "      <td>NaN</td>\n",
       "      <td>2021-04-13 17:45:55.829000-04:00</td>\n",
       "      <td>2021-04-13</td>\n",
       "      <td>17:45:55.829000</td>\n",
       "      <td>{\"spatialReference\": {\"wkid\": 4326}, \"x\": -79....</td>\n",
       "    </tr>\n",
       "  </tbody>\n",
       "</table>\n",
       "</div>"
      ],
      "text/plain": [
       "                   type        cardNumber   fareType  \\\n",
       "3108       STORED_VALUE  8078732924645276  Full Fare   \n",
       "3161           TRANSFER  8078732924645276  Full Fare   \n",
       "3396  DAILY_CAP_REACHED  8078732924645276  Full Fare   \n",
       "3442  DAILY_CAP_REACHED  8078732924645276  Full Fare   \n",
       "\n",
       "                              stopName stopId routeName   latitude  longitude  \\\n",
       "3108  High Point Terminal (Outer Slip)    225         3  35.957301 -80.007373   \n",
       "3161       Coble Transportation Center    100        23  36.093636 -79.959078   \n",
       "3396        High Point Clinical Trials    146        23  36.047446 -79.954618   \n",
       "3442                               NaN    NaN   DEFAULT  36.093830 -79.959126   \n",
       "\n",
       "      fare passUsed                             date   date_only  \\\n",
       "3108   250      NaN 2021-04-13 06:40:09.385000-04:00  2021-04-13   \n",
       "3161     0      NaN 2021-04-13 07:16:31.832000-04:00  2021-04-13   \n",
       "3396   250      NaN 2021-04-13 17:00:10.468000-04:00  2021-04-13   \n",
       "3442     0      NaN 2021-04-13 17:45:55.829000-04:00  2021-04-13   \n",
       "\n",
       "            time_only                                              SHAPE  \n",
       "3108  06:40:09.385000  {\"spatialReference\": {\"wkid\": 4326}, \"x\": -80....  \n",
       "3161  07:16:31.832000  {\"spatialReference\": {\"wkid\": 4326}, \"x\": -79....  \n",
       "3396  17:00:10.468000  {\"spatialReference\": {\"wkid\": 4326}, \"x\": -79....  \n",
       "3442  17:45:55.829000  {\"spatialReference\": {\"wkid\": 4326}, \"x\": -79....  "
      ]
     },
     "execution_count": 53,
     "metadata": {},
     "output_type": "execute_result"
    }
   ],
   "source": [
    "pass_with_most_trips[\n",
    "    pd.to_datetime(pass_with_most_trips['date_only'], format='%Y-%m-%d') == pd.to_datetime('2021-04-13', format='%Y-%m-%d')\n",
    "].sort_values(by='time_only')"
   ]
  },
  {
   "cell_type": "markdown",
   "metadata": {},
   "source": [
    "Here we can see a similar pattern. The passenger catches Route 3 out of High Point at 6:45 AM and transfers to Route 23 at 7:15 AM at the CTC. In the afternoon, they board Route 23 at High Point Clinical Trials and we can assume they transfer onto Route 3 at the CTC at 5:45 PM.\n",
    "\n",
    "Let's take a look at the fourth and final passenger who reached their monthly fare cap."
   ]
  },
  {
   "cell_type": "code",
   "execution_count": 54,
   "metadata": {},
   "outputs": [
    {
     "data": {
      "text/html": [
       "<div>\n",
       "<style scoped>\n",
       "    .dataframe tbody tr th:only-of-type {\n",
       "        vertical-align: middle;\n",
       "    }\n",
       "\n",
       "    .dataframe tbody tr th {\n",
       "        vertical-align: top;\n",
       "    }\n",
       "\n",
       "    .dataframe thead th {\n",
       "        text-align: right;\n",
       "    }\n",
       "</style>\n",
       "<table border=\"1\" class=\"dataframe\">\n",
       "  <thead>\n",
       "    <tr style=\"text-align: right;\">\n",
       "      <th></th>\n",
       "      <th>type</th>\n",
       "      <th>cardNumber</th>\n",
       "      <th>fareType</th>\n",
       "      <th>stopName</th>\n",
       "      <th>stopId</th>\n",
       "      <th>routeName</th>\n",
       "      <th>latitude</th>\n",
       "      <th>longitude</th>\n",
       "      <th>fare</th>\n",
       "      <th>passUsed</th>\n",
       "      <th>date</th>\n",
       "      <th>date_only</th>\n",
       "      <th>time_only</th>\n",
       "      <th>SHAPE</th>\n",
       "    </tr>\n",
       "  </thead>\n",
       "  <tbody>\n",
       "    <tr>\n",
       "      <th>9</th>\n",
       "      <td>STORED_VALUE</td>\n",
       "      <td>8040448200289326</td>\n",
       "      <td>Half Priced</td>\n",
       "      <td>Greensboro Depot</td>\n",
       "      <td>142</td>\n",
       "      <td>2</td>\n",
       "      <td>36.069193</td>\n",
       "      <td>-79.787014</td>\n",
       "      <td>125</td>\n",
       "      <td>NaN</td>\n",
       "      <td>2021-04-01 06:12:21.135000-04:00</td>\n",
       "      <td>2021-04-01</td>\n",
       "      <td>06:12:21.135000</td>\n",
       "      <td>{\"spatialReference\": {\"wkid\": 4326}, \"x\": -79....</td>\n",
       "    </tr>\n",
       "    <tr>\n",
       "      <th>42</th>\n",
       "      <td>TRANSFER</td>\n",
       "      <td>8040448200289326</td>\n",
       "      <td>Half Priced</td>\n",
       "      <td>Coble Transportation Center</td>\n",
       "      <td>100</td>\n",
       "      <td>3</td>\n",
       "      <td>36.094024</td>\n",
       "      <td>-79.959068</td>\n",
       "      <td>0</td>\n",
       "      <td>NaN</td>\n",
       "      <td>2021-04-01 06:42:16.567000-04:00</td>\n",
       "      <td>2021-04-01</td>\n",
       "      <td>06:42:16.567000</td>\n",
       "      <td>{\"spatialReference\": {\"wkid\": 4326}, \"x\": -79....</td>\n",
       "    </tr>\n",
       "  </tbody>\n",
       "</table>\n",
       "</div>"
      ],
      "text/plain": [
       "            type        cardNumber     fareType                     stopName  \\\n",
       "9   STORED_VALUE  8040448200289326  Half Priced             Greensboro Depot   \n",
       "42      TRANSFER  8040448200289326  Half Priced  Coble Transportation Center   \n",
       "\n",
       "   stopId routeName   latitude  longitude  fare passUsed  \\\n",
       "9     142         2  36.069193 -79.787014   125      NaN   \n",
       "42    100         3  36.094024 -79.959068     0      NaN   \n",
       "\n",
       "                               date   date_only        time_only  \\\n",
       "9  2021-04-01 06:12:21.135000-04:00  2021-04-01  06:12:21.135000   \n",
       "42 2021-04-01 06:42:16.567000-04:00  2021-04-01  06:42:16.567000   \n",
       "\n",
       "                                                SHAPE  \n",
       "9   {\"spatialReference\": {\"wkid\": 4326}, \"x\": -79....  \n",
       "42  {\"spatialReference\": {\"wkid\": 4326}, \"x\": -79....  "
      ]
     },
     "execution_count": 54,
     "metadata": {},
     "output_type": "execute_result"
    }
   ],
   "source": [
    "pass_with_2most_trips = monthly_cap_user_trips[monthly_cap_user_trips['cardNumber'] == '8040448200289326']\n",
    "pass_with_2most_trips.head(2)"
   ]
  },
  {
   "cell_type": "code",
   "execution_count": 55,
   "metadata": {},
   "outputs": [
    {
     "data": {
      "image/png": "[encoded data removed]",
      "text/plain": [
       "<Figure size 576x360 with 1 Axes>"
      ]
     },
     "metadata": {
      "needs_background": "light"
     },
     "output_type": "display_data"
    }
   ],
   "source": [
    "plt.figure(figsize=(8, 5))\n",
    "ax = pass_with_2most_trips.groupby('stopName').size().sort_values(ascending=False).plot(kind='bar')\n",
    "plt.title('Passenger 8040448200289326 Stop Utilization', fontsize=15)\n",
    "plt.xlabel('')\n",
    "plt.ylabel('Count')\n",
    "plt.xticks(rotation=45, rotation_mode='anchor', horizontalalignment='right', fontsize=12)\n",
    "plt.yticks(rotation=0, fontsize=12)\n",
    "sns.despine()\n",
    "plt.show()"
   ]
  },
  {
   "cell_type": "markdown",
   "metadata": {},
   "source": [
    "This passenger appears to be a Triad traveler with transactions in High Point, Greensboro, and Winston-Salem. There appears to be only one or two transactions in Winston-Salem but we can examine that in a moment. Let's pick a day and see what their trip looks like."
   ]
  },
  {
   "cell_type": "code",
   "execution_count": 56,
   "metadata": {},
   "outputs": [
    {
     "data": {
      "text/html": [
       "<div>\n",
       "<style scoped>\n",
       "    .dataframe tbody tr th:only-of-type {\n",
       "        vertical-align: middle;\n",
       "    }\n",
       "\n",
       "    .dataframe tbody tr th {\n",
       "        vertical-align: top;\n",
       "    }\n",
       "\n",
       "    .dataframe thead th {\n",
       "        text-align: right;\n",
       "    }\n",
       "</style>\n",
       "<table border=\"1\" class=\"dataframe\">\n",
       "  <thead>\n",
       "    <tr style=\"text-align: right;\">\n",
       "      <th></th>\n",
       "      <th>type</th>\n",
       "      <th>cardNumber</th>\n",
       "      <th>fareType</th>\n",
       "      <th>stopName</th>\n",
       "      <th>stopId</th>\n",
       "      <th>routeName</th>\n",
       "      <th>latitude</th>\n",
       "      <th>longitude</th>\n",
       "      <th>fare</th>\n",
       "      <th>passUsed</th>\n",
       "      <th>date</th>\n",
       "      <th>date_only</th>\n",
       "      <th>time_only</th>\n",
       "      <th>SHAPE</th>\n",
       "    </tr>\n",
       "  </thead>\n",
       "  <tbody>\n",
       "    <tr>\n",
       "      <th>509</th>\n",
       "      <td>STORED_VALUE</td>\n",
       "      <td>8040448200289326</td>\n",
       "      <td>Half Priced</td>\n",
       "      <td>Greensboro Depot</td>\n",
       "      <td>142</td>\n",
       "      <td>2</td>\n",
       "      <td>36.069202</td>\n",
       "      <td>-79.787166</td>\n",
       "      <td>125</td>\n",
       "      <td>NaN</td>\n",
       "      <td>2021-04-05 06:13:47.850000-04:00</td>\n",
       "      <td>2021-04-05</td>\n",
       "      <td>06:13:47.850000</td>\n",
       "      <td>{\"spatialReference\": {\"wkid\": 4326}, \"x\": -79....</td>\n",
       "    </tr>\n",
       "    <tr>\n",
       "      <th>537</th>\n",
       "      <td>TRANSFER</td>\n",
       "      <td>8040448200289326</td>\n",
       "      <td>Half Priced</td>\n",
       "      <td>NaN</td>\n",
       "      <td>NaN</td>\n",
       "      <td>DEFAULT</td>\n",
       "      <td>36.094121</td>\n",
       "      <td>-79.959170</td>\n",
       "      <td>0</td>\n",
       "      <td>NaN</td>\n",
       "      <td>2021-04-05 06:42:54.982000-04:00</td>\n",
       "      <td>2021-04-05</td>\n",
       "      <td>06:42:54.982000</td>\n",
       "      <td>{\"spatialReference\": {\"wkid\": 4326}, \"x\": -79....</td>\n",
       "    </tr>\n",
       "    <tr>\n",
       "      <th>846</th>\n",
       "      <td>DAILY_CAP_REACHED</td>\n",
       "      <td>8040448200289326</td>\n",
       "      <td>Half Priced</td>\n",
       "      <td>High Point Terminal (Outer Slip)</td>\n",
       "      <td>225</td>\n",
       "      <td>3</td>\n",
       "      <td>35.957198</td>\n",
       "      <td>-80.007535</td>\n",
       "      <td>125</td>\n",
       "      <td>NaN</td>\n",
       "      <td>2021-04-05 17:46:27.615000-04:00</td>\n",
       "      <td>2021-04-05</td>\n",
       "      <td>17:46:27.615000</td>\n",
       "      <td>{\"spatialReference\": {\"wkid\": 4326}, \"x\": -80....</td>\n",
       "    </tr>\n",
       "    <tr>\n",
       "      <th>866</th>\n",
       "      <td>DAILY_CAP_REACHED</td>\n",
       "      <td>8040448200289326</td>\n",
       "      <td>Half Priced</td>\n",
       "      <td>Coble Transportation Center</td>\n",
       "      <td>100</td>\n",
       "      <td>2</td>\n",
       "      <td>36.093245</td>\n",
       "      <td>-79.959325</td>\n",
       "      <td>0</td>\n",
       "      <td>NaN</td>\n",
       "      <td>2021-04-05 18:15:21.821000-04:00</td>\n",
       "      <td>2021-04-05</td>\n",
       "      <td>18:15:21.821000</td>\n",
       "      <td>{\"spatialReference\": {\"wkid\": 4326}, \"x\": -79....</td>\n",
       "    </tr>\n",
       "  </tbody>\n",
       "</table>\n",
       "</div>"
      ],
      "text/plain": [
       "                  type        cardNumber     fareType  \\\n",
       "509       STORED_VALUE  8040448200289326  Half Priced   \n",
       "537           TRANSFER  8040448200289326  Half Priced   \n",
       "846  DAILY_CAP_REACHED  8040448200289326  Half Priced   \n",
       "866  DAILY_CAP_REACHED  8040448200289326  Half Priced   \n",
       "\n",
       "                             stopName stopId routeName   latitude  longitude  \\\n",
       "509                  Greensboro Depot    142         2  36.069202 -79.787166   \n",
       "537                               NaN    NaN   DEFAULT  36.094121 -79.959170   \n",
       "846  High Point Terminal (Outer Slip)    225         3  35.957198 -80.007535   \n",
       "866       Coble Transportation Center    100         2  36.093245 -79.959325   \n",
       "\n",
       "     fare passUsed                             date   date_only  \\\n",
       "509   125      NaN 2021-04-05 06:13:47.850000-04:00  2021-04-05   \n",
       "537     0      NaN 2021-04-05 06:42:54.982000-04:00  2021-04-05   \n",
       "846   125      NaN 2021-04-05 17:46:27.615000-04:00  2021-04-05   \n",
       "866     0      NaN 2021-04-05 18:15:21.821000-04:00  2021-04-05   \n",
       "\n",
       "           time_only                                              SHAPE  \n",
       "509  06:13:47.850000  {\"spatialReference\": {\"wkid\": 4326}, \"x\": -79....  \n",
       "537  06:42:54.982000  {\"spatialReference\": {\"wkid\": 4326}, \"x\": -79....  \n",
       "846  17:46:27.615000  {\"spatialReference\": {\"wkid\": 4326}, \"x\": -80....  \n",
       "866  18:15:21.821000  {\"spatialReference\": {\"wkid\": 4326}, \"x\": -79....  "
      ]
     },
     "execution_count": 56,
     "metadata": {},
     "output_type": "execute_result"
    }
   ],
   "source": [
    "pass_with_2most_trips[\n",
    "    pd.to_datetime(pass_with_2most_trips['date_only'], format='%Y-%m-%d') == pd.to_datetime('2021-04-05', format='%Y-%m-%d')\n",
    "].sort_values(by='time_only')"
   ]
  },
  {
   "cell_type": "markdown",
   "metadata": {},
   "source": [
    "We can see that this passenger boards Route 2 at the Greensboro Depot at 6:13 AM heading to the CTC. We can assume that they made it to the CTC because the next transaction is 30 minutes at 6:42 AM. Then in the afternoon, they board Route 3 at the High Point Terminal at 5:45 PM and transfer to Route 2 at the CTC heading to Greensboro.\n",
    "\n",
    "We'll look at one more day."
   ]
  },
  {
   "cell_type": "code",
   "execution_count": 57,
   "metadata": {
    "scrolled": true
   },
   "outputs": [
    {
     "data": {
      "text/html": [
       "<div>\n",
       "<style scoped>\n",
       "    .dataframe tbody tr th:only-of-type {\n",
       "        vertical-align: middle;\n",
       "    }\n",
       "\n",
       "    .dataframe tbody tr th {\n",
       "        vertical-align: top;\n",
       "    }\n",
       "\n",
       "    .dataframe thead th {\n",
       "        text-align: right;\n",
       "    }\n",
       "</style>\n",
       "<table border=\"1\" class=\"dataframe\">\n",
       "  <thead>\n",
       "    <tr style=\"text-align: right;\">\n",
       "      <th></th>\n",
       "      <th>type</th>\n",
       "      <th>cardNumber</th>\n",
       "      <th>fareType</th>\n",
       "      <th>stopName</th>\n",
       "      <th>stopId</th>\n",
       "      <th>routeName</th>\n",
       "      <th>latitude</th>\n",
       "      <th>longitude</th>\n",
       "      <th>fare</th>\n",
       "      <th>passUsed</th>\n",
       "      <th>date</th>\n",
       "      <th>date_only</th>\n",
       "      <th>time_only</th>\n",
       "      <th>SHAPE</th>\n",
       "    </tr>\n",
       "  </thead>\n",
       "  <tbody>\n",
       "    <tr>\n",
       "      <th>8143</th>\n",
       "      <td>MONTHLY_CAP_REACHED</td>\n",
       "      <td>8040448200289326</td>\n",
       "      <td>Half Priced</td>\n",
       "      <td>Four Seasons Mall</td>\n",
       "      <td>153</td>\n",
       "      <td>2</td>\n",
       "      <td>36.040497</td>\n",
       "      <td>-79.841255</td>\n",
       "      <td>0</td>\n",
       "      <td>NaN</td>\n",
       "      <td>2021-04-29 06:28:52.411000-04:00</td>\n",
       "      <td>2021-04-29</td>\n",
       "      <td>06:28:52.411000</td>\n",
       "      <td>{\"spatialReference\": {\"wkid\": 4326}, \"x\": -79....</td>\n",
       "    </tr>\n",
       "    <tr>\n",
       "      <th>8164</th>\n",
       "      <td>MONTHLY_CAP_REACHED</td>\n",
       "      <td>8040448200289326</td>\n",
       "      <td>Half Priced</td>\n",
       "      <td>Coble Transportation Center</td>\n",
       "      <td>100</td>\n",
       "      <td>3</td>\n",
       "      <td>36.094172</td>\n",
       "      <td>-79.959280</td>\n",
       "      <td>0</td>\n",
       "      <td>NaN</td>\n",
       "      <td>2021-04-29 06:44:02.818000-04:00</td>\n",
       "      <td>2021-04-29</td>\n",
       "      <td>06:44:02.818000</td>\n",
       "      <td>{\"spatialReference\": {\"wkid\": 4326}, \"x\": -79....</td>\n",
       "    </tr>\n",
       "    <tr>\n",
       "      <th>8454</th>\n",
       "      <td>MONTHLY_CAP_REACHED</td>\n",
       "      <td>8040448200289326</td>\n",
       "      <td>Half Priced</td>\n",
       "      <td>High Point Terminal (Outer Slip)</td>\n",
       "      <td>225</td>\n",
       "      <td>3</td>\n",
       "      <td>35.957396</td>\n",
       "      <td>-80.007175</td>\n",
       "      <td>0</td>\n",
       "      <td>NaN</td>\n",
       "      <td>2021-04-29 18:05:45.254000-04:00</td>\n",
       "      <td>2021-04-29</td>\n",
       "      <td>18:05:45.254000</td>\n",
       "      <td>{\"spatialReference\": {\"wkid\": 4326}, \"x\": -80....</td>\n",
       "    </tr>\n",
       "    <tr>\n",
       "      <th>8467</th>\n",
       "      <td>MONTHLY_CAP_REACHED</td>\n",
       "      <td>8040448200289326</td>\n",
       "      <td>Half Priced</td>\n",
       "      <td>Coble Transportation Center</td>\n",
       "      <td>100</td>\n",
       "      <td>2</td>\n",
       "      <td>36.093479</td>\n",
       "      <td>-79.959418</td>\n",
       "      <td>0</td>\n",
       "      <td>NaN</td>\n",
       "      <td>2021-04-29 18:52:30.532000-04:00</td>\n",
       "      <td>2021-04-29</td>\n",
       "      <td>18:52:30.532000</td>\n",
       "      <td>{\"spatialReference\": {\"wkid\": 4326}, \"x\": -79....</td>\n",
       "    </tr>\n",
       "  </tbody>\n",
       "</table>\n",
       "</div>"
      ],
      "text/plain": [
       "                     type        cardNumber     fareType  \\\n",
       "8143  MONTHLY_CAP_REACHED  8040448200289326  Half Priced   \n",
       "8164  MONTHLY_CAP_REACHED  8040448200289326  Half Priced   \n",
       "8454  MONTHLY_CAP_REACHED  8040448200289326  Half Priced   \n",
       "8467  MONTHLY_CAP_REACHED  8040448200289326  Half Priced   \n",
       "\n",
       "                              stopName stopId routeName   latitude  longitude  \\\n",
       "8143                 Four Seasons Mall    153         2  36.040497 -79.841255   \n",
       "8164       Coble Transportation Center    100         3  36.094172 -79.959280   \n",
       "8454  High Point Terminal (Outer Slip)    225         3  35.957396 -80.007175   \n",
       "8467       Coble Transportation Center    100         2  36.093479 -79.959418   \n",
       "\n",
       "      fare passUsed                             date   date_only  \\\n",
       "8143     0      NaN 2021-04-29 06:28:52.411000-04:00  2021-04-29   \n",
       "8164     0      NaN 2021-04-29 06:44:02.818000-04:00  2021-04-29   \n",
       "8454     0      NaN 2021-04-29 18:05:45.254000-04:00  2021-04-29   \n",
       "8467     0      NaN 2021-04-29 18:52:30.532000-04:00  2021-04-29   \n",
       "\n",
       "            time_only                                              SHAPE  \n",
       "8143  06:28:52.411000  {\"spatialReference\": {\"wkid\": 4326}, \"x\": -79....  \n",
       "8164  06:44:02.818000  {\"spatialReference\": {\"wkid\": 4326}, \"x\": -79....  \n",
       "8454  18:05:45.254000  {\"spatialReference\": {\"wkid\": 4326}, \"x\": -80....  \n",
       "8467  18:52:30.532000  {\"spatialReference\": {\"wkid\": 4326}, \"x\": -79....  "
      ]
     },
     "execution_count": 57,
     "metadata": {},
     "output_type": "execute_result"
    }
   ],
   "source": [
    "pass_with_2most_trips[\n",
    "    pd.to_datetime(pass_with_2most_trips['date_only'], format='%Y-%m-%d') == pd.to_datetime('2021-04-29', format='%Y-%m-%d')\n",
    "].sort_values(by='time_only')"
   ]
  },
  {
   "cell_type": "markdown",
   "metadata": {},
   "source": [
    "Looking at April 29th, we can see a similar pattern to that of April 5th. However, instead of boarding at the Greensboro Depot, we can see this passenger utilized the Four Seasons Mall stop."
   ]
  },
  {
   "cell_type": "markdown",
   "metadata": {},
   "source": [
    " "
   ]
  },
  {
   "cell_type": "markdown",
   "metadata": {},
   "source": [
    "We've seen that these four passengers are consistent PART riders. Let's take a look at which routes they have used and how often they have used them."
   ]
  },
  {
   "cell_type": "code",
   "execution_count": 69,
   "metadata": {},
   "outputs": [
    {
     "data": {
      "text/html": [
       "<div>\n",
       "<style scoped>\n",
       "    .dataframe tbody tr th:only-of-type {\n",
       "        vertical-align: middle;\n",
       "    }\n",
       "\n",
       "    .dataframe tbody tr th {\n",
       "        vertical-align: top;\n",
       "    }\n",
       "\n",
       "    .dataframe thead th {\n",
       "        text-align: right;\n",
       "    }\n",
       "</style>\n",
       "<table border=\"1\" class=\"dataframe\">\n",
       "  <thead>\n",
       "    <tr style=\"text-align: right;\">\n",
       "      <th></th>\n",
       "      <th>routeName</th>\n",
       "    </tr>\n",
       "    <tr>\n",
       "      <th>cardNumber</th>\n",
       "      <th></th>\n",
       "    </tr>\n",
       "  </thead>\n",
       "  <tbody>\n",
       "    <tr>\n",
       "      <th>8078732924645276</th>\n",
       "      <td>8</td>\n",
       "    </tr>\n",
       "    <tr>\n",
       "      <th>8092683798229972</th>\n",
       "      <td>7</td>\n",
       "    </tr>\n",
       "    <tr>\n",
       "      <th>8040448200289326</th>\n",
       "      <td>5</td>\n",
       "    </tr>\n",
       "    <tr>\n",
       "      <th>7836721698662976</th>\n",
       "      <td>3</td>\n",
       "    </tr>\n",
       "  </tbody>\n",
       "</table>\n",
       "</div>"
      ],
      "text/plain": [
       "                  routeName\n",
       "cardNumber                 \n",
       "8078732924645276          8\n",
       "8092683798229972          7\n",
       "8040448200289326          5\n",
       "7836721698662976          3"
      ]
     },
     "execution_count": 69,
     "metadata": {},
     "output_type": "execute_result"
    }
   ],
   "source": [
    "monthly_cap_user_trips.groupby('cardNumber')['routeName'].nunique().sort_values(ascending=False).to_frame()"
   ]
  },
  {
   "cell_type": "markdown",
   "metadata": {},
   "source": [
    "The table above displays how many routes each of the four monthly fare cap passengers rode in the month of April. We can see that one passenger rode as many as 8 unique routes and another passenger rode as few as 3."
   ]
  },
  {
   "cell_type": "code",
   "execution_count": 65,
   "metadata": {
    "scrolled": true
   },
   "outputs": [],
   "source": [
    "# create dataframe by route\n",
    "monthly_cap_by_route = monthly_cap_user_trips.groupby(['cardNumber', 'routeName']).size().to_frame()\n",
    "\n",
    "# rename column\n",
    "monthly_cap_by_route.rename(columns={0: 'Count'}, inplace=True)"
   ]
  },
  {
   "cell_type": "code",
   "execution_count": 75,
   "metadata": {},
   "outputs": [
    {
     "data": {
      "image/png": "[encoded data removed]",
      "text/plain": [
       "<Figure size 936x720 with 1 Axes>"
      ]
     },
     "metadata": {
      "needs_background": "light"
     },
     "output_type": "display_data"
    }
   ],
   "source": [
    "# create heatmap of passenger activity for the month of April\n",
    "plt.figure(figsize=(13,10))\n",
    "ax = sns.heatmap(\n",
    "    monthly_cap_by_route.unstack()['Count'], cmap='Blues', annot=True, linewidths=0.2, cbar=False\n",
    ")\n",
    "plt.title('April Route Activity for Monthly Fare Cap Passengers', fontsize=15)\n",
    "plt.xlabel('')\n",
    "plt.ylabel('')\n",
    "plt.xticks(fontsize=12)\n",
    "plt.yticks(rotation=0, fontsize=12)\n",
    "plt.show()"
   ]
  },
  {
   "cell_type": "markdown",
   "metadata": {},
   "source": [
    "The heatmap above shows us that these four passengers ride two routes very often while other routes are not utilized as much. We might assume that these other routes represent trips other than commuting but further analysis should be conducted to confirm such a claim. "
   ]
  },
  {
   "cell_type": "markdown",
   "metadata": {},
   "source": [
    "\n",
    "\n",
    "\n",
    "\n",
    "\n",
    "Let's wrap up what we've learned from the data set. "
   ]
  },
  {
   "cell_type": "markdown",
   "metadata": {},
   "source": [
    "Out of 835 unique card numbers in the month of April, only 4 reached their monthly fare cap. Those four passengers reached their fare cap in the last few days of the month. On average, these passengers completed 4 transactions a day. We saw examples of passengers coming from Winston-Salem, Greensboro, and High Point. We also saw some pretty unusual and unique travel behavior that is difficult to understand without knowing where the passengers got off the bus. "
   ]
  }
 ],
 "metadata": {
  "kernelspec": {
   "display_name": "Python 3",
   "language": "python",
   "name": "python3"
  },
  "language_info": {
   "codemirror_mode": {
    "name": "ipython",
    "version": 3
   },
   "file_extension": ".py",
   "mimetype": "text/x-python",
   "name": "python",
   "nbconvert_exporter": "python",
   "pygments_lexer": "ipython3",
   "version": "3.8.10"
  }
 },
 "nbformat": 4,
 "nbformat_minor": 5
}
