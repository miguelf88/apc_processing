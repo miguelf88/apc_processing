{
 "cells": [
  {
   "cell_type": "markdown",
   "id": "0b632206",
   "metadata": {},
   "source": [
    "# TouchPass Analysis"
   ]
  },
  {
   "cell_type": "markdown",
   "id": "72adc6ec",
   "metadata": {},
   "source": [
    "This analysis contains TouchPass transactions from September 8, 2020 through February 28, 2021."
   ]
  },
  {
   "cell_type": "code",
   "execution_count": 35,
   "id": "8457e32c",
   "metadata": {},
   "outputs": [],
   "source": [
    "# Import libraries\n",
    "import os\n",
    "import json\n",
    "import requests\n",
    "import numpy as np\n",
    "import pandas as pd\n",
    "import geopandas as gpd\n",
    "import datetime as dt\n",
    "import timeit\n",
    "import seaborn as sns\n",
    "import calplot\n",
    "import matplotlib.pyplot as plt\n",
    "import ipyleaflet\n",
    "\n",
    "%matplotlib inline\n",
    "pd.options.display.max_columns = 999"
   ]
  },
  {
   "cell_type": "code",
   "execution_count": 2,
   "id": "3ee30ab7",
   "metadata": {},
   "outputs": [],
   "source": [
    "# create timer\n",
    "def get_time(timer):\n",
    "    minutes, seconds = int(np.floor(timer)), round(np.ndarray.item(timer % 1) * 60)\n",
    "    return [minutes, seconds]"
   ]
  },
  {
   "cell_type": "code",
   "execution_count": 3,
   "id": "8ad163eb",
   "metadata": {},
   "outputs": [],
   "source": [
    "# define parameters\n",
    "url = 'https://touchpass.com/ams/rest/v1/reporting/faretx/'\n",
    "api_key = os.environ.get('TOUCHPASS_API_KEY')\n",
    "start_date = '2020-09-08T10:00:00Z'\n",
    "end_date = '2021-02-28T04:00:00Z'\n",
    "\n",
    "headers = {\n",
    "    'accept': 'application/json',\n",
    "    'Api-Token': api_key,\n",
    "    'Agency-ID': '9K7A4H9JHRVQ'\n",
    "}"
   ]
  },
  {
   "cell_type": "code",
   "execution_count": 4,
   "id": "17f6ccc4",
   "metadata": {},
   "outputs": [
    {
     "name": "stdout",
     "output_type": "stream",
     "text": [
      "Data successfully fetched.... \n",
      "Total time: 0 minutes 7 seconds\n"
     ]
    }
   ],
   "source": [
    "# start timer\n",
    "start = timeit.default_timer()\n",
    "\n",
    "# call api and save to variable\n",
    "response = requests.get(url + start_date + '/' + end_date, headers=headers).json()\n",
    "\n",
    "# stop timer\n",
    "stop = timeit.default_timer()\n",
    "\n",
    "# calculate time\n",
    "timer = np.array([(stop-start) / 60])\n",
    "min_sec = get_time(timer)\n",
    "minutes, seconds = min_sec[0], min_sec[1]\n",
    "\n",
    "print('Data successfully fetched.... \\nTotal time:', minutes, 'minutes', seconds, 'seconds')"
   ]
  },
  {
   "cell_type": "code",
   "execution_count": 5,
   "id": "f7e62a56",
   "metadata": {},
   "outputs": [
    {
     "data": {
      "text/html": [
       "<div>\n",
       "<style scoped>\n",
       "    .dataframe tbody tr th:only-of-type {\n",
       "        vertical-align: middle;\n",
       "    }\n",
       "\n",
       "    .dataframe tbody tr th {\n",
       "        vertical-align: top;\n",
       "    }\n",
       "\n",
       "    .dataframe thead th {\n",
       "        text-align: right;\n",
       "    }\n",
       "</style>\n",
       "<table border=\"1\" class=\"dataframe\">\n",
       "  <thead>\n",
       "    <tr style=\"text-align: right;\">\n",
       "      <th></th>\n",
       "      <th>txId</th>\n",
       "      <th>ts</th>\n",
       "      <th>type</th>\n",
       "      <th>mediaUsed</th>\n",
       "      <th>mediaType</th>\n",
       "      <th>cardNumber</th>\n",
       "      <th>fareType</th>\n",
       "      <th>accountId</th>\n",
       "      <th>stopName</th>\n",
       "      <th>stopId</th>\n",
       "      <th>routeName</th>\n",
       "      <th>latitude</th>\n",
       "      <th>longitude</th>\n",
       "      <th>reader</th>\n",
       "      <th>vehicle</th>\n",
       "      <th>passUsed</th>\n",
       "      <th>readerPosition</th>\n",
       "      <th>fare</th>\n",
       "    </tr>\n",
       "  </thead>\n",
       "  <tbody>\n",
       "    <tr>\n",
       "      <th>0</th>\n",
       "      <td>5030000000004008</td>\n",
       "      <td>2020-09-08T10:00:14.653Z</td>\n",
       "      <td>TRIP_PASS</td>\n",
       "      <td>HOUSE</td>\n",
       "      <td>HOUSE_CARD</td>\n",
       "      <td>8029085186424157</td>\n",
       "      <td>Full Fare</td>\n",
       "      <td>2713645.0</td>\n",
       "      <td>Freeman Mill &amp; Coliseum (West)</td>\n",
       "      <td>139</td>\n",
       "      <td>2</td>\n",
       "      <td>36.043839</td>\n",
       "      <td>-79.815046</td>\n",
       "      <td>H2R257</td>\n",
       "      <td>TransLoc Vehicle: 5929 (4011471)</td>\n",
       "      <td>Full Fare 10 Ride</td>\n",
       "      <td>0</td>\n",
       "      <td>0</td>\n",
       "    </tr>\n",
       "    <tr>\n",
       "      <th>1</th>\n",
       "      <td>5330000000001867</td>\n",
       "      <td>2020-09-08T10:04:24.979Z</td>\n",
       "      <td>STORED_VALUE</td>\n",
       "      <td>HOUSE</td>\n",
       "      <td>HOUSE_CARD</td>\n",
       "      <td>8042289049935002</td>\n",
       "      <td>TriadX</td>\n",
       "      <td>2509447.0</td>\n",
       "      <td>Mount Airy Park &amp; Ride</td>\n",
       "      <td>168</td>\n",
       "      <td>6</td>\n",
       "      <td>36.480591</td>\n",
       "      <td>-80.605441</td>\n",
       "      <td>H2R248</td>\n",
       "      <td>TransLoc Vehicle: 5931 (4011479)</td>\n",
       "      <td>NaN</td>\n",
       "      <td>0</td>\n",
       "      <td>250</td>\n",
       "    </tr>\n",
       "    <tr>\n",
       "      <th>2</th>\n",
       "      <td>5030000000004009</td>\n",
       "      <td>2020-09-08T10:04:46.046Z</td>\n",
       "      <td>TRIP_PASS</td>\n",
       "      <td>HOUSE</td>\n",
       "      <td>HOUSE_CARD</td>\n",
       "      <td>8070364659315533</td>\n",
       "      <td>Half Priced</td>\n",
       "      <td>2720702.0</td>\n",
       "      <td>Four Seasons Mall</td>\n",
       "      <td>153</td>\n",
       "      <td>2</td>\n",
       "      <td>36.040488</td>\n",
       "      <td>-79.841648</td>\n",
       "      <td>H2R257</td>\n",
       "      <td>TransLoc Vehicle: 5929 (4011471)</td>\n",
       "      <td>Half Fare 10 Ride</td>\n",
       "      <td>0</td>\n",
       "      <td>0</td>\n",
       "    </tr>\n",
       "  </tbody>\n",
       "</table>\n",
       "</div>"
      ],
      "text/plain": [
       "               txId                        ts          type mediaUsed  \\\n",
       "0  5030000000004008  2020-09-08T10:00:14.653Z     TRIP_PASS     HOUSE   \n",
       "1  5330000000001867  2020-09-08T10:04:24.979Z  STORED_VALUE     HOUSE   \n",
       "2  5030000000004009  2020-09-08T10:04:46.046Z     TRIP_PASS     HOUSE   \n",
       "\n",
       "    mediaType        cardNumber     fareType  accountId  \\\n",
       "0  HOUSE_CARD  8029085186424157    Full Fare  2713645.0   \n",
       "1  HOUSE_CARD  8042289049935002       TriadX  2509447.0   \n",
       "2  HOUSE_CARD  8070364659315533  Half Priced  2720702.0   \n",
       "\n",
       "                         stopName stopId routeName   latitude  longitude  \\\n",
       "0  Freeman Mill & Coliseum (West)    139         2  36.043839 -79.815046   \n",
       "1          Mount Airy Park & Ride    168         6  36.480591 -80.605441   \n",
       "2               Four Seasons Mall    153         2  36.040488 -79.841648   \n",
       "\n",
       "   reader                           vehicle           passUsed  \\\n",
       "0  H2R257  TransLoc Vehicle: 5929 (4011471)  Full Fare 10 Ride   \n",
       "1  H2R248  TransLoc Vehicle: 5931 (4011479)                NaN   \n",
       "2  H2R257  TransLoc Vehicle: 5929 (4011471)  Half Fare 10 Ride   \n",
       "\n",
       "   readerPosition  fare  \n",
       "0               0     0  \n",
       "1               0   250  \n",
       "2               0     0  "
      ]
     },
     "execution_count": 5,
     "metadata": {},
     "output_type": "execute_result"
    }
   ],
   "source": [
    "# write response to dataframe\n",
    "df = pd.DataFrame(response)\n",
    "\n",
    "df.head(3)"
   ]
  },
  {
   "cell_type": "markdown",
   "id": "61c8b53f",
   "metadata": {},
   "source": [
    "Now that we've read in the data, let's learn a little more about it..."
   ]
  },
  {
   "cell_type": "code",
   "execution_count": 6,
   "id": "0f0cc445",
   "metadata": {},
   "outputs": [
    {
     "name": "stdout",
     "output_type": "stream",
     "text": [
      "<class 'pandas.core.frame.DataFrame'>\n",
      "RangeIndex: 50777 entries, 0 to 50776\n",
      "Data columns (total 18 columns):\n",
      " #   Column          Non-Null Count  Dtype  \n",
      "---  ------          --------------  -----  \n",
      " 0   txId            50777 non-null  int64  \n",
      " 1   ts              50777 non-null  object \n",
      " 2   type            50777 non-null  object \n",
      " 3   mediaUsed       50777 non-null  object \n",
      " 4   mediaType       50771 non-null  object \n",
      " 5   cardNumber      50771 non-null  object \n",
      " 6   fareType        50777 non-null  object \n",
      " 7   accountId       50771 non-null  float64\n",
      " 8   stopName        21447 non-null  object \n",
      " 9   stopId          21447 non-null  object \n",
      " 10  routeName       50775 non-null  object \n",
      " 11  latitude        50777 non-null  float64\n",
      " 12  longitude       50777 non-null  float64\n",
      " 13  reader          50777 non-null  object \n",
      " 14  vehicle         16571 non-null  object \n",
      " 15  passUsed        19782 non-null  object \n",
      " 16  readerPosition  50777 non-null  int64  \n",
      " 17  fare            50777 non-null  int64  \n",
      "dtypes: float64(3), int64(3), object(12)\n",
      "memory usage: 7.0+ MB\n"
     ]
    }
   ],
   "source": [
    "df.info()"
   ]
  },
  {
   "cell_type": "markdown",
   "id": "bac6d062",
   "metadata": {},
   "source": [
    "We can see that there are almost 51,000 records in the dataset. It looks like we're missing quite a few records with the stopName, stopId, vehicle and passUsed columns. We'll dig into that in a moment. But first let's add a few new attributes to help with the analysis."
   ]
  },
  {
   "cell_type": "markdown",
   "id": "fdf18a2a",
   "metadata": {},
   "source": [
    "### Data cleaning"
   ]
  },
  {
   "cell_type": "code",
   "execution_count": 7,
   "id": "a1c38efa",
   "metadata": {},
   "outputs": [
    {
     "data": {
      "text/html": [
       "<div>\n",
       "<style scoped>\n",
       "    .dataframe tbody tr th:only-of-type {\n",
       "        vertical-align: middle;\n",
       "    }\n",
       "\n",
       "    .dataframe tbody tr th {\n",
       "        vertical-align: top;\n",
       "    }\n",
       "\n",
       "    .dataframe thead th {\n",
       "        text-align: right;\n",
       "    }\n",
       "</style>\n",
       "<table border=\"1\" class=\"dataframe\">\n",
       "  <thead>\n",
       "    <tr style=\"text-align: right;\">\n",
       "      <th></th>\n",
       "      <th>txId</th>\n",
       "      <th>ts</th>\n",
       "      <th>type</th>\n",
       "      <th>mediaUsed</th>\n",
       "      <th>mediaType</th>\n",
       "      <th>cardNumber</th>\n",
       "      <th>fareType</th>\n",
       "      <th>accountId</th>\n",
       "      <th>stopName</th>\n",
       "      <th>stopId</th>\n",
       "      <th>routeName</th>\n",
       "      <th>latitude</th>\n",
       "      <th>longitude</th>\n",
       "      <th>reader</th>\n",
       "      <th>vehicle</th>\n",
       "      <th>passUsed</th>\n",
       "      <th>readerPosition</th>\n",
       "      <th>fare</th>\n",
       "      <th>date</th>\n",
       "      <th>date_only</th>\n",
       "      <th>time_only</th>\n",
       "      <th>day_of_week</th>\n",
       "      <th>month</th>\n",
       "      <th>geometry</th>\n",
       "    </tr>\n",
       "  </thead>\n",
       "  <tbody>\n",
       "    <tr>\n",
       "      <th>0</th>\n",
       "      <td>5030000000004008</td>\n",
       "      <td>2020-09-08 10:00:14.653000+00:00</td>\n",
       "      <td>TRIP_PASS</td>\n",
       "      <td>HOUSE</td>\n",
       "      <td>HOUSE_CARD</td>\n",
       "      <td>8029085186424157</td>\n",
       "      <td>Full Fare</td>\n",
       "      <td>2713645.0</td>\n",
       "      <td>Freeman Mill &amp; Coliseum (West)</td>\n",
       "      <td>139</td>\n",
       "      <td>2</td>\n",
       "      <td>36.043839</td>\n",
       "      <td>-79.815046</td>\n",
       "      <td>H2R257</td>\n",
       "      <td>TransLoc Vehicle: 5929 (4011471)</td>\n",
       "      <td>Full Fare 10 Ride</td>\n",
       "      <td>0</td>\n",
       "      <td>0</td>\n",
       "      <td>2020-09-08 06:00:14.653000-04:00</td>\n",
       "      <td>2020-09-08</td>\n",
       "      <td>06:00:14.653000</td>\n",
       "      <td>Tuesday</td>\n",
       "      <td>9</td>\n",
       "      <td>POINT (-79.81505 36.04384)</td>\n",
       "    </tr>\n",
       "    <tr>\n",
       "      <th>1</th>\n",
       "      <td>5330000000001867</td>\n",
       "      <td>2020-09-08 10:04:24.979000+00:00</td>\n",
       "      <td>STORED_VALUE</td>\n",
       "      <td>HOUSE</td>\n",
       "      <td>HOUSE_CARD</td>\n",
       "      <td>8042289049935002</td>\n",
       "      <td>TriadX</td>\n",
       "      <td>2509447.0</td>\n",
       "      <td>Mount Airy Park &amp; Ride</td>\n",
       "      <td>168</td>\n",
       "      <td>6</td>\n",
       "      <td>36.480591</td>\n",
       "      <td>-80.605441</td>\n",
       "      <td>H2R248</td>\n",
       "      <td>TransLoc Vehicle: 5931 (4011479)</td>\n",
       "      <td>NaN</td>\n",
       "      <td>0</td>\n",
       "      <td>250</td>\n",
       "      <td>2020-09-08 06:04:24.979000-04:00</td>\n",
       "      <td>2020-09-08</td>\n",
       "      <td>06:04:24.979000</td>\n",
       "      <td>Tuesday</td>\n",
       "      <td>9</td>\n",
       "      <td>POINT (-80.60544 36.48059)</td>\n",
       "    </tr>\n",
       "    <tr>\n",
       "      <th>2</th>\n",
       "      <td>5030000000004009</td>\n",
       "      <td>2020-09-08 10:04:46.046000+00:00</td>\n",
       "      <td>TRIP_PASS</td>\n",
       "      <td>HOUSE</td>\n",
       "      <td>HOUSE_CARD</td>\n",
       "      <td>8070364659315533</td>\n",
       "      <td>Half Priced</td>\n",
       "      <td>2720702.0</td>\n",
       "      <td>Four Seasons Mall</td>\n",
       "      <td>153</td>\n",
       "      <td>2</td>\n",
       "      <td>36.040488</td>\n",
       "      <td>-79.841648</td>\n",
       "      <td>H2R257</td>\n",
       "      <td>TransLoc Vehicle: 5929 (4011471)</td>\n",
       "      <td>Half Fare 10 Ride</td>\n",
       "      <td>0</td>\n",
       "      <td>0</td>\n",
       "      <td>2020-09-08 06:04:46.046000-04:00</td>\n",
       "      <td>2020-09-08</td>\n",
       "      <td>06:04:46.046000</td>\n",
       "      <td>Tuesday</td>\n",
       "      <td>9</td>\n",
       "      <td>POINT (-79.84165 36.04049)</td>\n",
       "    </tr>\n",
       "  </tbody>\n",
       "</table>\n",
       "</div>"
      ],
      "text/plain": [
       "               txId                               ts          type mediaUsed  \\\n",
       "0  5030000000004008 2020-09-08 10:00:14.653000+00:00     TRIP_PASS     HOUSE   \n",
       "1  5330000000001867 2020-09-08 10:04:24.979000+00:00  STORED_VALUE     HOUSE   \n",
       "2  5030000000004009 2020-09-08 10:04:46.046000+00:00     TRIP_PASS     HOUSE   \n",
       "\n",
       "    mediaType        cardNumber     fareType  accountId  \\\n",
       "0  HOUSE_CARD  8029085186424157    Full Fare  2713645.0   \n",
       "1  HOUSE_CARD  8042289049935002       TriadX  2509447.0   \n",
       "2  HOUSE_CARD  8070364659315533  Half Priced  2720702.0   \n",
       "\n",
       "                         stopName stopId routeName   latitude  longitude  \\\n",
       "0  Freeman Mill & Coliseum (West)    139         2  36.043839 -79.815046   \n",
       "1          Mount Airy Park & Ride    168         6  36.480591 -80.605441   \n",
       "2               Four Seasons Mall    153         2  36.040488 -79.841648   \n",
       "\n",
       "   reader                           vehicle           passUsed  \\\n",
       "0  H2R257  TransLoc Vehicle: 5929 (4011471)  Full Fare 10 Ride   \n",
       "1  H2R248  TransLoc Vehicle: 5931 (4011479)                NaN   \n",
       "2  H2R257  TransLoc Vehicle: 5929 (4011471)  Half Fare 10 Ride   \n",
       "\n",
       "   readerPosition  fare                             date   date_only  \\\n",
       "0               0     0 2020-09-08 06:00:14.653000-04:00  2020-09-08   \n",
       "1               0   250 2020-09-08 06:04:24.979000-04:00  2020-09-08   \n",
       "2               0     0 2020-09-08 06:04:46.046000-04:00  2020-09-08   \n",
       "\n",
       "         time_only day_of_week  month                    geometry  \n",
       "0  06:00:14.653000     Tuesday      9  POINT (-79.81505 36.04384)  \n",
       "1  06:04:24.979000     Tuesday      9  POINT (-80.60544 36.48059)  \n",
       "2  06:04:46.046000     Tuesday      9  POINT (-79.84165 36.04049)  "
      ]
     },
     "execution_count": 7,
     "metadata": {},
     "output_type": "execute_result"
    }
   ],
   "source": [
    "# Create new fields\n",
    "df['ts'] = pd.to_datetime(df['ts'])\n",
    "df['date'] = df['ts'].dt.tz_convert('US/Eastern')\n",
    "df['date_only'] = df['date'].dt.date\n",
    "df['time_only'] = [dt.datetime.time(d) for d in df['date']]\n",
    "df['day_of_week'] = df['date'].dt.day_name()\n",
    "df['month'] = df['date'].dt.month\n",
    "\n",
    "# create spatial dataframe\n",
    "gdf = gpd.GeoDataFrame(\n",
    "    df, geometry=gpd.points_from_xy(df['longitude'], df['latitude'])\n",
    ")\n",
    "\n",
    "gdf = gdf.set_crs(epsg='4326')\n",
    "\n",
    "gdf.head(3)"
   ]
  },
  {
   "cell_type": "markdown",
   "id": "b266bb91",
   "metadata": {},
   "source": [
    "Let's look at that missing data..."
   ]
  },
  {
   "cell_type": "code",
   "execution_count": 8,
   "id": "242f0e48",
   "metadata": {},
   "outputs": [
    {
     "data": {
      "image/png": "[encoded data removed]",
      "text/plain": [
       "<Figure size 1080x576 with 1 Axes>"
      ]
     },
     "metadata": {
      "needs_background": "light"
     },
     "output_type": "display_data"
    }
   ],
   "source": [
    "plt.figure(figsize=(15,8))\n",
    "ax = sns.heatmap(gdf.isnull(), cbar=False, cmap='magma')\n",
    "plt.yticks([])\n",
    "plt.title('Missing data by attribute', fontsize=15)\n",
    "plt.show()"
   ]
  },
  {
   "cell_type": "markdown",
   "id": "a277af23",
   "metadata": {},
   "source": [
    "The plot above shows missing data by attribute. We can see that `stopName` and `stopId` are missing the same records. What's interesting is we appear to have the `latitude` and `longitude` values for those records. We'll come back to the latitude and longitude attributes. But first, let's look at the missing data by date."
   ]
  },
  {
   "cell_type": "code",
   "execution_count": 9,
   "id": "ddd5ad02",
   "metadata": {},
   "outputs": [
    {
     "name": "stderr",
     "output_type": "stream",
     "text": [
      "findfont: Font family ['Helvetica'] not found. Falling back to DejaVu Sans.\n"
     ]
    },
    {
     "data": {
      "text/plain": [
       "(<Figure size 900x244.8 with 3 Axes>,\n",
       " array([<AxesSubplot:ylabel='2020'>, <AxesSubplot:ylabel='2021'>],\n",
       "       dtype=object))"
      ]
     },
     "execution_count": 9,
     "metadata": {},
     "output_type": "execute_result"
    },
    {
     "data": {
      "image/png": "[encoded data removed]",
      "text/plain": [
       "<Figure size 900x244.8 with 3 Axes>"
      ]
     },
     "metadata": {
      "needs_background": "light"
     },
     "output_type": "display_data"
    }
   ],
   "source": [
    "missing_data_by_date = gdf[gdf['stopName'].isnull()].groupby('date_only').size()\n",
    "missing_data_by_date.index = pd.to_datetime(missing_data_by_date.index)\n",
    "\n",
    "calplot.calplot(missing_data_by_date, edgecolor='gray', suptitle='Missing data', cmap='YlGn')"
   ]
  },
  {
   "cell_type": "markdown",
   "id": "660bf379",
   "metadata": {},
   "source": [
    "The calendar heatmaps above show days where the data set is missing values from the `stopName` attribute. There appear to be clusters of the missing data. For example, the first two and a half weeks of October are missing around 400 data points. The last two weeks of October look great. November is a little more spotty. For example, Mondays, Wednesdays and Thursdays do not look that great. December appears to have better data collection. January is not too bad except for the last three Wednesdays. Mondays and Tuesdays in February appear to be missing quite a bit of data too."
   ]
  },
  {
   "cell_type": "markdown",
   "id": "a5a8110c",
   "metadata": {},
   "source": [
    "Let's come back to the `latitude` and `longitude` columns."
   ]
  },
  {
   "cell_type": "code",
   "execution_count": 10,
   "id": "f363cc05",
   "metadata": {},
   "outputs": [
    {
     "data": {
      "text/html": [
       "<div>\n",
       "<style scoped>\n",
       "    .dataframe tbody tr th:only-of-type {\n",
       "        vertical-align: middle;\n",
       "    }\n",
       "\n",
       "    .dataframe tbody tr th {\n",
       "        vertical-align: top;\n",
       "    }\n",
       "\n",
       "    .dataframe thead th {\n",
       "        text-align: right;\n",
       "    }\n",
       "</style>\n",
       "<table border=\"1\" class=\"dataframe\">\n",
       "  <thead>\n",
       "    <tr style=\"text-align: right;\">\n",
       "      <th></th>\n",
       "      <th>latitude</th>\n",
       "      <th>longitude</th>\n",
       "    </tr>\n",
       "  </thead>\n",
       "  <tbody>\n",
       "    <tr>\n",
       "      <th>30</th>\n",
       "      <td>0.000000</td>\n",
       "      <td>0.000000</td>\n",
       "    </tr>\n",
       "    <tr>\n",
       "      <th>31</th>\n",
       "      <td>0.000000</td>\n",
       "      <td>0.000000</td>\n",
       "    </tr>\n",
       "    <tr>\n",
       "      <th>32</th>\n",
       "      <td>36.480801</td>\n",
       "      <td>-80.605804</td>\n",
       "    </tr>\n",
       "    <tr>\n",
       "      <th>33</th>\n",
       "      <td>36.480801</td>\n",
       "      <td>-80.605804</td>\n",
       "    </tr>\n",
       "    <tr>\n",
       "      <th>65</th>\n",
       "      <td>0.000000</td>\n",
       "      <td>0.000000</td>\n",
       "    </tr>\n",
       "    <tr>\n",
       "      <th>73</th>\n",
       "      <td>0.000000</td>\n",
       "      <td>0.000000</td>\n",
       "    </tr>\n",
       "    <tr>\n",
       "      <th>79</th>\n",
       "      <td>35.957325</td>\n",
       "      <td>-80.007321</td>\n",
       "    </tr>\n",
       "    <tr>\n",
       "      <th>97</th>\n",
       "      <td>0.000000</td>\n",
       "      <td>0.000000</td>\n",
       "    </tr>\n",
       "    <tr>\n",
       "      <th>106</th>\n",
       "      <td>0.000000</td>\n",
       "      <td>0.000000</td>\n",
       "    </tr>\n",
       "    <tr>\n",
       "      <th>107</th>\n",
       "      <td>0.000000</td>\n",
       "      <td>0.000000</td>\n",
       "    </tr>\n",
       "  </tbody>\n",
       "</table>\n",
       "</div>"
      ],
      "text/plain": [
       "      latitude  longitude\n",
       "30    0.000000   0.000000\n",
       "31    0.000000   0.000000\n",
       "32   36.480801 -80.605804\n",
       "33   36.480801 -80.605804\n",
       "65    0.000000   0.000000\n",
       "73    0.000000   0.000000\n",
       "79   35.957325 -80.007321\n",
       "97    0.000000   0.000000\n",
       "106   0.000000   0.000000\n",
       "107   0.000000   0.000000"
      ]
     },
     "execution_count": 10,
     "metadata": {},
     "output_type": "execute_result"
    }
   ],
   "source": [
    "missing_stop_name = gdf[gdf['stopName'].isnull()]\n",
    "\n",
    "missing_stop_name[['latitude', 'longitude']][:10]"
   ]
  },
  {
   "cell_type": "markdown",
   "id": "82014da7",
   "metadata": {},
   "source": [
    "It looks like there are some unusual values for these two attributes where `stopName` is missing. We will be able to plot the records where `stopName` is missing for those where `latitude` and `longitude` are not `0.000000`.\n",
    "\n",
    "Let's get a count of these records..."
   ]
  },
  {
   "cell_type": "code",
   "execution_count": 11,
   "id": "240ec7a8",
   "metadata": {},
   "outputs": [
    {
     "name": "stdout",
     "output_type": "stream",
     "text": [
      "There are 5,285 records where there is no `latitude` value\n",
      "There are 24,045 records where there is a `latitude` value\n"
     ]
    }
   ],
   "source": [
    "no_lat = missing_stop_name[missing_stop_name['latitude'] == 0.000000]\n",
    "lat = missing_stop_name[missing_stop_name['latitude'] != 0.000000]\n",
    "\n",
    "print('There are {:,} records where there is no `latitude` value'.format(len(no_lat)))\n",
    "print('There are {:,} records where there is a `latitude` value'.format(len(lat)))"
   ]
  },
  {
   "cell_type": "markdown",
   "id": "55da1790",
   "metadata": {},
   "source": [
    "That looks like great news. Let's plot those observations with valid `latitude` and `longitude` values."
   ]
  },
  {
   "cell_type": "code",
   "execution_count": 37,
   "id": "04749c18",
   "metadata": {},
   "outputs": [
    {
     "data": {
      "application/vnd.jupyter.widget-view+json": {
       "model_id": "67d238391ca341faa7353271a774c392",
       "version_major": 2,
       "version_minor": 0
      },
      "text/plain": [
       "Map(center=[36.086954, -79.916494], controls=(ZoomControl(options=['position', 'zoom_in_text', 'zoom_in_title'…"
      ]
     },
     "metadata": {},
     "output_type": "display_data"
    }
   ],
   "source": [
    "m = Map(\n",
    "    basemap=basemaps.Esri.WorldTopoMap,\n",
    "    center=(36.086954, -79.916494), \n",
    "    zoom=9\n",
    ")\n",
    "\n",
    "display(m)"
   ]
  },
  {
   "cell_type": "code",
   "execution_count": null,
   "id": "178570af",
   "metadata": {},
   "outputs": [],
   "source": []
  },
  {
   "cell_type": "code",
   "execution_count": null,
   "id": "af47e769",
   "metadata": {},
   "outputs": [],
   "source": []
  },
  {
   "cell_type": "code",
   "execution_count": null,
   "id": "eaa457b5",
   "metadata": {},
   "outputs": [],
   "source": []
  },
  {
   "cell_type": "code",
   "execution_count": null,
   "id": "6b77a361",
   "metadata": {},
   "outputs": [],
   "source": []
  },
  {
   "cell_type": "code",
   "execution_count": null,
   "id": "c2801ba6",
   "metadata": {},
   "outputs": [],
   "source": []
  },
  {
   "cell_type": "code",
   "execution_count": null,
   "id": "f5cddfec",
   "metadata": {},
   "outputs": [],
   "source": []
  },
  {
   "cell_type": "code",
   "execution_count": null,
   "id": "76234c59",
   "metadata": {},
   "outputs": [],
   "source": []
  },
  {
   "cell_type": "markdown",
   "id": "3e50b454",
   "metadata": {},
   "source": [
    "Let's see what values for `routeName` there are..."
   ]
  },
  {
   "cell_type": "code",
   "execution_count": 13,
   "id": "833434e2",
   "metadata": {},
   "outputs": [
    {
     "data": {
      "text/html": [
       "<style  type=\"text/css\" >\n",
       "</style><table id=\"T_83c40_\" ><thead>    <tr>        <th class=\"blank level0\" ></th>        <th class=\"col_heading level0 col0\" >Count</th>        <th class=\"col_heading level0 col1\" >Percentage</th>    </tr>    <tr>        <th class=\"index_name level0\" >Route ID</th>        <th class=\"blank\" ></th>        <th class=\"blank\" ></th>    </tr></thead><tbody>\n",
       "                <tr>\n",
       "                        <th id=\"T_83c40_level0_row0\" class=\"row_heading level0 row0\" >2</th>\n",
       "                        <td id=\"T_83c40_row0_col0\" class=\"data row0 col0\" >13,336</td>\n",
       "                        <td id=\"T_83c40_row0_col1\" class=\"data row0 col1\" >26.26%</td>\n",
       "            </tr>\n",
       "            <tr>\n",
       "                        <th id=\"T_83c40_level0_row1\" class=\"row_heading level0 row1\" >DEFAULT</th>\n",
       "                        <td id=\"T_83c40_row1_col0\" class=\"data row1 col0\" >8,543</td>\n",
       "                        <td id=\"T_83c40_row1_col1\" class=\"data row1 col1\" >16.82%</td>\n",
       "            </tr>\n",
       "            <tr>\n",
       "                        <th id=\"T_83c40_level0_row2\" class=\"row_heading level0 row2\" >1</th>\n",
       "                        <td id=\"T_83c40_row2_col0\" class=\"data row2 col0\" >7,340</td>\n",
       "                        <td id=\"T_83c40_row2_col1\" class=\"data row2 col1\" >14.46%</td>\n",
       "            </tr>\n",
       "            <tr>\n",
       "                        <th id=\"T_83c40_level0_row3\" class=\"row_heading level0 row3\" >3</th>\n",
       "                        <td id=\"T_83c40_row3_col0\" class=\"data row3 col0\" >6,015</td>\n",
       "                        <td id=\"T_83c40_row3_col1\" class=\"data row3 col1\" >11.85%</td>\n",
       "            </tr>\n",
       "            <tr>\n",
       "                        <th id=\"T_83c40_level0_row4\" class=\"row_heading level0 row4\" >4</th>\n",
       "                        <td id=\"T_83c40_row4_col0\" class=\"data row4 col0\" >5,043</td>\n",
       "                        <td id=\"T_83c40_row4_col1\" class=\"data row4 col1\" >9.93%</td>\n",
       "            </tr>\n",
       "            <tr>\n",
       "                        <th id=\"T_83c40_level0_row5\" class=\"row_heading level0 row5\" >17</th>\n",
       "                        <td id=\"T_83c40_row5_col0\" class=\"data row5 col0\" >1,630</td>\n",
       "                        <td id=\"T_83c40_row5_col1\" class=\"data row5 col1\" >3.21%</td>\n",
       "            </tr>\n",
       "            <tr>\n",
       "                        <th id=\"T_83c40_level0_row6\" class=\"row_heading level0 row6\" >21</th>\n",
       "                        <td id=\"T_83c40_row6_col0\" class=\"data row6 col0\" >1,324</td>\n",
       "                        <td id=\"T_83c40_row6_col1\" class=\"data row6 col1\" >2.61%</td>\n",
       "            </tr>\n",
       "            <tr>\n",
       "                        <th id=\"T_83c40_level0_row7\" class=\"row_heading level0 row7\" >22</th>\n",
       "                        <td id=\"T_83c40_row7_col0\" class=\"data row7 col0\" >1,220</td>\n",
       "                        <td id=\"T_83c40_row7_col1\" class=\"data row7 col1\" >2.40%</td>\n",
       "            </tr>\n",
       "            <tr>\n",
       "                        <th id=\"T_83c40_level0_row8\" class=\"row_heading level0 row8\" >22/23</th>\n",
       "                        <td id=\"T_83c40_row8_col0\" class=\"data row8 col0\" >963</td>\n",
       "                        <td id=\"T_83c40_row8_col1\" class=\"data row8 col1\" >1.90%</td>\n",
       "            </tr>\n",
       "            <tr>\n",
       "                        <th id=\"T_83c40_level0_row9\" class=\"row_heading level0 row9\" >20</th>\n",
       "                        <td id=\"T_83c40_row9_col0\" class=\"data row9 col0\" >858</td>\n",
       "                        <td id=\"T_83c40_row9_col1\" class=\"data row9 col1\" >1.69%</td>\n",
       "            </tr>\n",
       "            <tr>\n",
       "                        <th id=\"T_83c40_level0_row10\" class=\"row_heading level0 row10\" >23</th>\n",
       "                        <td id=\"T_83c40_row10_col0\" class=\"data row10 col0\" >802</td>\n",
       "                        <td id=\"T_83c40_row10_col1\" class=\"data row10 col1\" >1.58%</td>\n",
       "            </tr>\n",
       "            <tr>\n",
       "                        <th id=\"T_83c40_level0_row11\" class=\"row_heading level0 row11\" >24</th>\n",
       "                        <td id=\"T_83c40_row11_col0\" class=\"data row11 col0\" >802</td>\n",
       "                        <td id=\"T_83c40_row11_col1\" class=\"data row11 col1\" >1.58%</td>\n",
       "            </tr>\n",
       "            <tr>\n",
       "                        <th id=\"T_83c40_level0_row12\" class=\"row_heading level0 row12\" >6</th>\n",
       "                        <td id=\"T_83c40_row12_col0\" class=\"data row12 col0\" >753</td>\n",
       "                        <td id=\"T_83c40_row12_col1\" class=\"data row12 col1\" >1.48%</td>\n",
       "            </tr>\n",
       "            <tr>\n",
       "                        <th id=\"T_83c40_level0_row13\" class=\"row_heading level0 row13\" >20/21</th>\n",
       "                        <td id=\"T_83c40_row13_col0\" class=\"data row13 col0\" >748</td>\n",
       "                        <td id=\"T_83c40_row13_col1\" class=\"data row13 col1\" >1.47%</td>\n",
       "            </tr>\n",
       "            <tr>\n",
       "                        <th id=\"T_83c40_level0_row14\" class=\"row_heading level0 row14\" >9</th>\n",
       "                        <td id=\"T_83c40_row14_col0\" class=\"data row14 col0\" >270</td>\n",
       "                        <td id=\"T_83c40_row14_col1\" class=\"data row14 col1\" >0.53%</td>\n",
       "            </tr>\n",
       "            <tr>\n",
       "                        <th id=\"T_83c40_level0_row15\" class=\"row_heading level0 row15\" >10</th>\n",
       "                        <td id=\"T_83c40_row15_col0\" class=\"data row15 col0\" >263</td>\n",
       "                        <td id=\"T_83c40_row15_col1\" class=\"data row15 col1\" >0.52%</td>\n",
       "            </tr>\n",
       "            <tr>\n",
       "                        <th id=\"T_83c40_level0_row16\" class=\"row_heading level0 row16\" >North Shuttle</th>\n",
       "                        <td id=\"T_83c40_row16_col0\" class=\"data row16 col0\" >258</td>\n",
       "                        <td id=\"T_83c40_row16_col1\" class=\"data row16 col1\" >0.51%</td>\n",
       "            </tr>\n",
       "            <tr>\n",
       "                        <th id=\"T_83c40_level0_row17\" class=\"row_heading level0 row17\" >South Shuttle</th>\n",
       "                        <td id=\"T_83c40_row17_col0\" class=\"data row17 col0\" >219</td>\n",
       "                        <td id=\"T_83c40_row17_col1\" class=\"data row17 col1\" >0.43%</td>\n",
       "            </tr>\n",
       "            <tr>\n",
       "                        <th id=\"T_83c40_level0_row18\" class=\"row_heading level0 row18\" >ID: 4006034</th>\n",
       "                        <td id=\"T_83c40_row18_col0\" class=\"data row18 col0\" >112</td>\n",
       "                        <td id=\"T_83c40_row18_col1\" class=\"data row18 col1\" >0.22%</td>\n",
       "            </tr>\n",
       "            <tr>\n",
       "                        <th id=\"T_83c40_level0_row19\" class=\"row_heading level0 row19\" >ID: 4006062</th>\n",
       "                        <td id=\"T_83c40_row19_col0\" class=\"data row19 col0\" >70</td>\n",
       "                        <td id=\"T_83c40_row19_col1\" class=\"data row19 col1\" >0.14%</td>\n",
       "            </tr>\n",
       "            <tr>\n",
       "                        <th id=\"T_83c40_level0_row20\" class=\"row_heading level0 row20\" >ID: 4006038</th>\n",
       "                        <td id=\"T_83c40_row20_col0\" class=\"data row20 col0\" >48</td>\n",
       "                        <td id=\"T_83c40_row20_col1\" class=\"data row20 col1\" >0.09%</td>\n",
       "            </tr>\n",
       "            <tr>\n",
       "                        <th id=\"T_83c40_level0_row21\" class=\"row_heading level0 row21\" >ID: 4006042</th>\n",
       "                        <td id=\"T_83c40_row21_col0\" class=\"data row21 col0\" >40</td>\n",
       "                        <td id=\"T_83c40_row21_col1\" class=\"data row21 col1\" >0.08%</td>\n",
       "            </tr>\n",
       "            <tr>\n",
       "                        <th id=\"T_83c40_level0_row22\" class=\"row_heading level0 row22\" >ID: 4010392</th>\n",
       "                        <td id=\"T_83c40_row22_col0\" class=\"data row22 col0\" >25</td>\n",
       "                        <td id=\"T_83c40_row22_col1\" class=\"data row22 col1\" >0.05%</td>\n",
       "            </tr>\n",
       "            <tr>\n",
       "                        <th id=\"T_83c40_level0_row23\" class=\"row_heading level0 row23\" >ID: 4010396</th>\n",
       "                        <td id=\"T_83c40_row23_col0\" class=\"data row23 col0\" >12</td>\n",
       "                        <td id=\"T_83c40_row23_col1\" class=\"data row23 col1\" >0.02%</td>\n",
       "            </tr>\n",
       "            <tr>\n",
       "                        <th id=\"T_83c40_level0_row24\" class=\"row_heading level0 row24\" >ID: 4010402</th>\n",
       "                        <td id=\"T_83c40_row24_col0\" class=\"data row24 col0\" >12</td>\n",
       "                        <td id=\"T_83c40_row24_col1\" class=\"data row24 col1\" >0.02%</td>\n",
       "            </tr>\n",
       "            <tr>\n",
       "                        <th id=\"T_83c40_level0_row25\" class=\"row_heading level0 row25\" >ID: 4010386</th>\n",
       "                        <td id=\"T_83c40_row25_col0\" class=\"data row25 col0\" >11</td>\n",
       "                        <td id=\"T_83c40_row25_col1\" class=\"data row25 col1\" >0.02%</td>\n",
       "            </tr>\n",
       "            <tr>\n",
       "                        <th id=\"T_83c40_level0_row26\" class=\"row_heading level0 row26\" >5</th>\n",
       "                        <td id=\"T_83c40_row26_col0\" class=\"data row26 col0\" >11</td>\n",
       "                        <td id=\"T_83c40_row26_col1\" class=\"data row26 col1\" >0.02%</td>\n",
       "            </tr>\n",
       "            <tr>\n",
       "                        <th id=\"T_83c40_level0_row27\" class=\"row_heading level0 row27\" >ID: 4014006</th>\n",
       "                        <td id=\"T_83c40_row27_col0\" class=\"data row27 col0\" >10</td>\n",
       "                        <td id=\"T_83c40_row27_col1\" class=\"data row27 col1\" >0.02%</td>\n",
       "            </tr>\n",
       "            <tr>\n",
       "                        <th id=\"T_83c40_level0_row28\" class=\"row_heading level0 row28\" >ID: 4010398</th>\n",
       "                        <td id=\"T_83c40_row28_col0\" class=\"data row28 col0\" >9</td>\n",
       "                        <td id=\"T_83c40_row28_col1\" class=\"data row28 col1\" >0.02%</td>\n",
       "            </tr>\n",
       "            <tr>\n",
       "                        <th id=\"T_83c40_level0_row29\" class=\"row_heading level0 row29\" >ID: 4010400</th>\n",
       "                        <td id=\"T_83c40_row29_col0\" class=\"data row29 col0\" >8</td>\n",
       "                        <td id=\"T_83c40_row29_col1\" class=\"data row29 col1\" >0.02%</td>\n",
       "            </tr>\n",
       "            <tr>\n",
       "                        <th id=\"T_83c40_level0_row30\" class=\"row_heading level0 row30\" >ID: 4010404</th>\n",
       "                        <td id=\"T_83c40_row30_col0\" class=\"data row30 col0\" >7</td>\n",
       "                        <td id=\"T_83c40_row30_col1\" class=\"data row30 col1\" >0.01%</td>\n",
       "            </tr>\n",
       "            <tr>\n",
       "                        <th id=\"T_83c40_level0_row31\" class=\"row_heading level0 row31\" >ID: 4014004</th>\n",
       "                        <td id=\"T_83c40_row31_col0\" class=\"data row31 col0\" >5</td>\n",
       "                        <td id=\"T_83c40_row31_col1\" class=\"data row31 col1\" >0.01%</td>\n",
       "            </tr>\n",
       "            <tr>\n",
       "                        <th id=\"T_83c40_level0_row32\" class=\"row_heading level0 row32\" >ID: 4010388</th>\n",
       "                        <td id=\"T_83c40_row32_col0\" class=\"data row32 col0\" >4</td>\n",
       "                        <td id=\"T_83c40_row32_col1\" class=\"data row32 col1\" >0.01%</td>\n",
       "            </tr>\n",
       "            <tr>\n",
       "                        <th id=\"T_83c40_level0_row33\" class=\"row_heading level0 row33\" >ID: 4010390</th>\n",
       "                        <td id=\"T_83c40_row33_col0\" class=\"data row33 col0\" >4</td>\n",
       "                        <td id=\"T_83c40_row33_col1\" class=\"data row33 col1\" >0.01%</td>\n",
       "            </tr>\n",
       "    </tbody></table>"
      ],
      "text/plain": [
       "<pandas.io.formats.style.Styler at 0x155f253e160>"
      ]
     },
     "execution_count": 13,
     "metadata": {},
     "output_type": "execute_result"
    }
   ],
   "source": [
    "len_of_gdf = len(gdf)\n",
    "\n",
    "by_route = gdf.rename(\n",
    "    columns={'routeName': 'Route ID'}\n",
    ").groupby('Route ID').size().sort_values(ascending=False).to_frame()\n",
    "\n",
    "by_route.rename(columns={0: 'Count'}, inplace=True)\n",
    "by_route['Percentage'] = by_route['Count'] / len_of_gdf\n",
    "by_route.style.format({'Count': '{:,}', 'Percentage': '{:.2%}'})"
   ]
  },
  {
   "cell_type": "code",
   "execution_count": 14,
   "id": "ce9eaf28",
   "metadata": {},
   "outputs": [],
   "source": [
    "funny_routes = gdf.loc[\n",
    "    (gdf['routeName'].str.startswith('ID')) |\n",
    "    (gdf['routeName'] == 'DEFAULT'),\n",
    "    :\n",
    "]"
   ]
  },
  {
   "cell_type": "code",
   "execution_count": 15,
   "id": "448bda6e",
   "metadata": {},
   "outputs": [
    {
     "data": {
      "image/png": "[encoded data removed]",
      "text/plain": [
       "<Figure size 1152x576 with 1 Axes>"
      ]
     },
     "metadata": {
      "needs_background": "light"
     },
     "output_type": "display_data"
    }
   ],
   "source": [
    "z = funny_routes[funny_routes['latitude'] != 0.000000]\n",
    "\n",
    "plt.figure(figsize=(16,8))\n",
    "ax = sns.scatterplot(x=z['longitude'], y=z['latitude'])\n",
    "plt.show()"
   ]
  },
  {
   "cell_type": "code",
   "execution_count": null,
   "id": "628b5778",
   "metadata": {},
   "outputs": [],
   "source": []
  },
  {
   "cell_type": "code",
   "execution_count": null,
   "id": "e6d315df",
   "metadata": {},
   "outputs": [],
   "source": []
  },
  {
   "cell_type": "code",
   "execution_count": null,
   "id": "49e4a8f7",
   "metadata": {},
   "outputs": [],
   "source": []
  },
  {
   "cell_type": "markdown",
   "id": "17bb2c34",
   "metadata": {},
   "source": [
    "### Exploratory data analysis\n",
    "\n",
    "\n",
    "Let's start off with some simple analysis so we can understand the data set."
   ]
  },
  {
   "cell_type": "code",
   "execution_count": 16,
   "id": "6bc06242",
   "metadata": {},
   "outputs": [
    {
     "name": "stdout",
     "output_type": "stream",
     "text": [
      "There are 2,906 unique card numbers in the data set.\n"
     ]
    }
   ],
   "source": [
    "# get number of unique users\n",
    "unique_users = len(gdf['cardNumber'].unique())\n",
    "\n",
    "print('There are {:,} unique card numbers in the data set.'.format(unique_users))"
   ]
  },
  {
   "cell_type": "code",
   "execution_count": 17,
   "id": "5116e4ee",
   "metadata": {},
   "outputs": [
    {
     "data": {
      "text/html": [
       "<div>\n",
       "<style scoped>\n",
       "    .dataframe tbody tr th:only-of-type {\n",
       "        vertical-align: middle;\n",
       "    }\n",
       "\n",
       "    .dataframe tbody tr th {\n",
       "        vertical-align: top;\n",
       "    }\n",
       "\n",
       "    .dataframe thead th {\n",
       "        text-align: right;\n",
       "    }\n",
       "</style>\n",
       "<table border=\"1\" class=\"dataframe\">\n",
       "  <thead>\n",
       "    <tr style=\"text-align: right;\">\n",
       "      <th></th>\n",
       "      <th>Count</th>\n",
       "    </tr>\n",
       "  </thead>\n",
       "  <tbody>\n",
       "    <tr>\n",
       "      <th>8003924580285816</th>\n",
       "      <td>502</td>\n",
       "    </tr>\n",
       "    <tr>\n",
       "      <th>8008404267993987</th>\n",
       "      <td>487</td>\n",
       "    </tr>\n",
       "    <tr>\n",
       "      <th>8066147570086432</th>\n",
       "      <td>456</td>\n",
       "    </tr>\n",
       "    <tr>\n",
       "      <th>8074004896286800</th>\n",
       "      <td>450</td>\n",
       "    </tr>\n",
       "    <tr>\n",
       "      <th>7086152527269725</th>\n",
       "      <td>434</td>\n",
       "    </tr>\n",
       "    <tr>\n",
       "      <th>...</th>\n",
       "      <td>...</td>\n",
       "    </tr>\n",
       "    <tr>\n",
       "      <th>9028879885943155</th>\n",
       "      <td>1</td>\n",
       "    </tr>\n",
       "    <tr>\n",
       "      <th>9053777949854608</th>\n",
       "      <td>1</td>\n",
       "    </tr>\n",
       "    <tr>\n",
       "      <th>9067864670244599</th>\n",
       "      <td>1</td>\n",
       "    </tr>\n",
       "    <tr>\n",
       "      <th>9003461124146038</th>\n",
       "      <td>1</td>\n",
       "    </tr>\n",
       "    <tr>\n",
       "      <th>9093236603238956</th>\n",
       "      <td>1</td>\n",
       "    </tr>\n",
       "  </tbody>\n",
       "</table>\n",
       "<p>2905 rows × 1 columns</p>\n",
       "</div>"
      ],
      "text/plain": [
       "                  Count\n",
       "8003924580285816    502\n",
       "8008404267993987    487\n",
       "8066147570086432    456\n",
       "8074004896286800    450\n",
       "7086152527269725    434\n",
       "...                 ...\n",
       "9028879885943155      1\n",
       "9053777949854608      1\n",
       "9067864670244599      1\n",
       "9003461124146038      1\n",
       "9093236603238956      1\n",
       "\n",
       "[2905 rows x 1 columns]"
      ]
     },
     "execution_count": 17,
     "metadata": {},
     "output_type": "execute_result"
    }
   ],
   "source": [
    "cardnum_by_count = gdf['cardNumber'].value_counts().to_frame().rename(columns={'cardNumber': 'Count'})\n",
    "cardnum_by_count"
   ]
  },
  {
   "cell_type": "markdown",
   "id": "6802c23c",
   "metadata": {},
   "source": [
    "Here we can see that account `8003924580285816` has the most transactions in the data set. This passenger tapped their card/phone 502 times. We'll dig into this passenger a bit later. We can also see that there are a number of passengers who have only used their TouchPass account once. Let's see how many there are..."
   ]
  },
  {
   "cell_type": "code",
   "execution_count": 18,
   "id": "a23a7708",
   "metadata": {},
   "outputs": [
    {
     "name": "stdout",
     "output_type": "stream",
     "text": [
      "There are 1,101 users who have only tapped once in the data set.\n",
      "This accounts for 38% of the data.\n"
     ]
    }
   ],
   "source": [
    "count_one_time_user = len(cardnum_by_count[cardnum_by_count['Count']== 1])\n",
    "one_time_user_percent = count_one_time_user / unique_users\n",
    "\n",
    "print('There are {:,} users who have only tapped once in the data set.'.format(count_one_time_user))\n",
    "print('This accounts for {0:.0%} of the data.'.format(one_time_user_percent))"
   ]
  },
  {
   "cell_type": "markdown",
   "id": "e5331081",
   "metadata": {},
   "source": [
    "Let's select all those passengers who have only used their TouchPass account once in the data set and see if the usage was concentrated around a particular promotional event or if it's totally random..."
   ]
  },
  {
   "cell_type": "code",
   "execution_count": 19,
   "id": "ce0f04d8",
   "metadata": {},
   "outputs": [
    {
     "data": {
      "image/png": "[encoded data removed]",
      "text/plain": [
       "<Figure size 1080x432 with 1 Axes>"
      ]
     },
     "metadata": {
      "needs_background": "light"
     },
     "output_type": "display_data"
    }
   ],
   "source": [
    "one_time_user = list(cardnum_by_count[cardnum_by_count['Count'] == 1].index)\n",
    "one_time_user_by_date = gdf[gdf['cardNumber'].isin(one_time_user)].groupby('date_only').size()\n",
    "\n",
    "plt.figure(figsize=(15,6))\n",
    "ax = sns.lineplot(data=one_time_user_by_date, lw=2.2)\n",
    "plt.xlabel('Date', fontsize=13)\n",
    "plt.ylabel('Count', fontsize=13)\n",
    "plt.title('One time TouchPass users by date', fontsize=15)\n",
    "sns.despine()\n",
    "plt.show()"
   ]
  },
  {
   "cell_type": "markdown",
   "id": "e7f32b7e",
   "metadata": {},
   "source": [
    "There is one day at the start of the data set that stands out as having a lot of one-time users. Let's grab that date and confer with Operations on the date in question."
   ]
  },
  {
   "cell_type": "code",
   "execution_count": 20,
   "id": "5311eb24",
   "metadata": {},
   "outputs": [
    {
     "data": {
      "text/plain": [
       "'Thursday 09-10-2020'"
      ]
     },
     "execution_count": 20,
     "metadata": {},
     "output_type": "execute_result"
    }
   ],
   "source": [
    "most_one_time_users = one_time_user_by_date.idxmax()\n",
    "\n",
    "most_one_time_users.strftime('%A %m-%d-%Y')"
   ]
  },
  {
   "cell_type": "markdown",
   "id": "fa4a2139",
   "metadata": {},
   "source": [
    " "
   ]
  },
  {
   "cell_type": "markdown",
   "id": "c892b8cf",
   "metadata": {},
   "source": [
    "\n",
    "\n",
    "\n",
    "Let's come back to user 8003924580285816 who is the most frequent TouchPass user in the data set."
   ]
  },
  {
   "cell_type": "code",
   "execution_count": 21,
   "id": "4dc485ae",
   "metadata": {},
   "outputs": [
    {
     "data": {
      "text/html": [
       "<div>\n",
       "<style scoped>\n",
       "    .dataframe tbody tr th:only-of-type {\n",
       "        vertical-align: middle;\n",
       "    }\n",
       "\n",
       "    .dataframe tbody tr th {\n",
       "        vertical-align: top;\n",
       "    }\n",
       "\n",
       "    .dataframe thead th {\n",
       "        text-align: right;\n",
       "    }\n",
       "</style>\n",
       "<table border=\"1\" class=\"dataframe\">\n",
       "  <thead>\n",
       "    <tr style=\"text-align: right;\">\n",
       "      <th></th>\n",
       "      <th>txId</th>\n",
       "      <th>ts</th>\n",
       "      <th>type</th>\n",
       "      <th>mediaUsed</th>\n",
       "      <th>mediaType</th>\n",
       "      <th>cardNumber</th>\n",
       "      <th>fareType</th>\n",
       "      <th>accountId</th>\n",
       "      <th>stopName</th>\n",
       "      <th>stopId</th>\n",
       "      <th>routeName</th>\n",
       "      <th>latitude</th>\n",
       "      <th>longitude</th>\n",
       "      <th>reader</th>\n",
       "      <th>vehicle</th>\n",
       "      <th>passUsed</th>\n",
       "      <th>readerPosition</th>\n",
       "      <th>fare</th>\n",
       "      <th>date</th>\n",
       "      <th>date_only</th>\n",
       "      <th>time_only</th>\n",
       "      <th>day_of_week</th>\n",
       "      <th>month</th>\n",
       "      <th>geometry</th>\n",
       "    </tr>\n",
       "  </thead>\n",
       "  <tbody>\n",
       "    <tr>\n",
       "      <th>115</th>\n",
       "      <td>4870000000003853</td>\n",
       "      <td>2020-09-08 12:03:48.683000+00:00</td>\n",
       "      <td>TRIP_PASS</td>\n",
       "      <td>HOUSE</td>\n",
       "      <td>HOUSE_CARD</td>\n",
       "      <td>8003924580285816</td>\n",
       "      <td>Full Fare</td>\n",
       "      <td>2712931.0</td>\n",
       "      <td>Camco (Landmark Rd Access)</td>\n",
       "      <td>232</td>\n",
       "      <td>20</td>\n",
       "      <td>36.095029</td>\n",
       "      <td>-79.976960</td>\n",
       "      <td>H2R122</td>\n",
       "      <td>TransLoc Vehicle: 1901 (4017887)</td>\n",
       "      <td>Full Fare 10 Ride</td>\n",
       "      <td>0</td>\n",
       "      <td>0</td>\n",
       "      <td>2020-09-08 08:03:48.683000-04:00</td>\n",
       "      <td>2020-09-08</td>\n",
       "      <td>08:03:48.683000</td>\n",
       "      <td>Tuesday</td>\n",
       "      <td>9</td>\n",
       "      <td>POINT (-79.97696 36.09503)</td>\n",
       "    </tr>\n",
       "    <tr>\n",
       "      <th>121</th>\n",
       "      <td>5030000000004026</td>\n",
       "      <td>2020-09-08 12:17:11.175000+00:00</td>\n",
       "      <td>TRANSFER</td>\n",
       "      <td>HOUSE</td>\n",
       "      <td>HOUSE_CARD</td>\n",
       "      <td>8003924580285816</td>\n",
       "      <td>Full Fare</td>\n",
       "      <td>2712931.0</td>\n",
       "      <td>Coble Transportation Center</td>\n",
       "      <td>100</td>\n",
       "      <td>2</td>\n",
       "      <td>36.093629</td>\n",
       "      <td>-79.959345</td>\n",
       "      <td>H2R257</td>\n",
       "      <td>TransLoc Vehicle: 5929 (4011471)</td>\n",
       "      <td>NaN</td>\n",
       "      <td>0</td>\n",
       "      <td>0</td>\n",
       "      <td>2020-09-08 08:17:11.175000-04:00</td>\n",
       "      <td>2020-09-08</td>\n",
       "      <td>08:17:11.175000</td>\n",
       "      <td>Tuesday</td>\n",
       "      <td>9</td>\n",
       "      <td>POINT (-79.95934 36.09363)</td>\n",
       "    </tr>\n",
       "    <tr>\n",
       "      <th>382</th>\n",
       "      <td>5230000000002051</td>\n",
       "      <td>2020-09-08 21:53:55.206000+00:00</td>\n",
       "      <td>TRIP_PASS</td>\n",
       "      <td>HOUSE</td>\n",
       "      <td>HOUSE_CARD</td>\n",
       "      <td>8003924580285816</td>\n",
       "      <td>Full Fare</td>\n",
       "      <td>2712931.0</td>\n",
       "      <td>Freeman Mill &amp; Florida (West)</td>\n",
       "      <td>200</td>\n",
       "      <td>2</td>\n",
       "      <td>36.052587</td>\n",
       "      <td>-79.806510</td>\n",
       "      <td>H2R263</td>\n",
       "      <td>TransLoc Vehicle: 2003 (4018753)</td>\n",
       "      <td>Full Fare 10 Ride</td>\n",
       "      <td>0</td>\n",
       "      <td>0</td>\n",
       "      <td>2020-09-08 17:53:55.206000-04:00</td>\n",
       "      <td>2020-09-08</td>\n",
       "      <td>17:53:55.206000</td>\n",
       "      <td>Tuesday</td>\n",
       "      <td>9</td>\n",
       "      <td>POINT (-79.80651 36.05259)</td>\n",
       "    </tr>\n",
       "  </tbody>\n",
       "</table>\n",
       "</div>"
      ],
      "text/plain": [
       "                 txId                               ts       type mediaUsed  \\\n",
       "115  4870000000003853 2020-09-08 12:03:48.683000+00:00  TRIP_PASS     HOUSE   \n",
       "121  5030000000004026 2020-09-08 12:17:11.175000+00:00   TRANSFER     HOUSE   \n",
       "382  5230000000002051 2020-09-08 21:53:55.206000+00:00  TRIP_PASS     HOUSE   \n",
       "\n",
       "      mediaType        cardNumber   fareType  accountId  \\\n",
       "115  HOUSE_CARD  8003924580285816  Full Fare  2712931.0   \n",
       "121  HOUSE_CARD  8003924580285816  Full Fare  2712931.0   \n",
       "382  HOUSE_CARD  8003924580285816  Full Fare  2712931.0   \n",
       "\n",
       "                          stopName stopId routeName   latitude  longitude  \\\n",
       "115     Camco (Landmark Rd Access)    232        20  36.095029 -79.976960   \n",
       "121    Coble Transportation Center    100         2  36.093629 -79.959345   \n",
       "382  Freeman Mill & Florida (West)    200         2  36.052587 -79.806510   \n",
       "\n",
       "     reader                           vehicle           passUsed  \\\n",
       "115  H2R122  TransLoc Vehicle: 1901 (4017887)  Full Fare 10 Ride   \n",
       "121  H2R257  TransLoc Vehicle: 5929 (4011471)                NaN   \n",
       "382  H2R263  TransLoc Vehicle: 2003 (4018753)  Full Fare 10 Ride   \n",
       "\n",
       "     readerPosition  fare                             date   date_only  \\\n",
       "115               0     0 2020-09-08 08:03:48.683000-04:00  2020-09-08   \n",
       "121               0     0 2020-09-08 08:17:11.175000-04:00  2020-09-08   \n",
       "382               0     0 2020-09-08 17:53:55.206000-04:00  2020-09-08   \n",
       "\n",
       "           time_only day_of_week  month                    geometry  \n",
       "115  08:03:48.683000     Tuesday      9  POINT (-79.97696 36.09503)  \n",
       "121  08:17:11.175000     Tuesday      9  POINT (-79.95934 36.09363)  \n",
       "382  17:53:55.206000     Tuesday      9  POINT (-79.80651 36.05259)  "
      ]
     },
     "execution_count": 21,
     "metadata": {},
     "output_type": "execute_result"
    }
   ],
   "source": [
    "freq_user = gdf[gdf['cardNumber'] == '8003924580285816']\n",
    "freq_user.head(3)"
   ]
  },
  {
   "cell_type": "code",
   "execution_count": 22,
   "id": "d9aff30d",
   "metadata": {},
   "outputs": [
    {
     "data": {
      "text/html": [
       "<div>\n",
       "<style scoped>\n",
       "    .dataframe tbody tr th:only-of-type {\n",
       "        vertical-align: middle;\n",
       "    }\n",
       "\n",
       "    .dataframe tbody tr th {\n",
       "        vertical-align: top;\n",
       "    }\n",
       "\n",
       "    .dataframe thead th {\n",
       "        text-align: right;\n",
       "    }\n",
       "</style>\n",
       "<table border=\"1\" class=\"dataframe\">\n",
       "  <thead>\n",
       "    <tr style=\"text-align: right;\">\n",
       "      <th></th>\n",
       "      <th>Count</th>\n",
       "    </tr>\n",
       "  </thead>\n",
       "  <tbody>\n",
       "    <tr>\n",
       "      <th>Coble Transportation Center</th>\n",
       "      <td>125</td>\n",
       "    </tr>\n",
       "    <tr>\n",
       "      <th>Camco (Landmark Rd Access)</th>\n",
       "      <td>46</td>\n",
       "    </tr>\n",
       "    <tr>\n",
       "      <th>Freeman Mill &amp; Florida (West)</th>\n",
       "      <td>43</td>\n",
       "    </tr>\n",
       "    <tr>\n",
       "      <th>Greensboro Depot</th>\n",
       "      <td>10</td>\n",
       "    </tr>\n",
       "    <tr>\n",
       "      <th>Four Seasons Mall</th>\n",
       "      <td>3</td>\n",
       "    </tr>\n",
       "  </tbody>\n",
       "</table>\n",
       "</div>"
      ],
      "text/plain": [
       "                               Count\n",
       "Coble Transportation Center      125\n",
       "Camco (Landmark Rd Access)        46\n",
       "Freeman Mill & Florida (West)     43\n",
       "Greensboro Depot                  10\n",
       "Four Seasons Mall                  3"
      ]
     },
     "execution_count": 22,
     "metadata": {},
     "output_type": "execute_result"
    }
   ],
   "source": [
    "freq_user['stopName'].value_counts().to_frame().rename(columns={'stopName': 'Count'})"
   ]
  },
  {
   "cell_type": "markdown",
   "id": "c615dadf",
   "metadata": {},
   "source": [
    "The table above shows us which stops user `8003924580285816` utilizes in the PART system. The Coble Transportation Center is the most frequently used stop. It appears that the user also utilizes Route 20 to access the Camco stop as well as Route 2 to access the other three stops. Let's break the usage down by the day of the week."
   ]
  },
  {
   "cell_type": "code",
   "execution_count": 23,
   "id": "2b11a955",
   "metadata": {},
   "outputs": [
    {
     "data": {
      "image/png": "[encoded data removed]",
      "text/plain": [
       "<Figure size 864x432 with 1 Axes>"
      ]
     },
     "metadata": {
      "needs_background": "light"
     },
     "output_type": "display_data"
    }
   ],
   "source": [
    "freq_user_by_dow = freq_user.groupby('day_of_week').size().to_frame().rename(columns={0: 'Count'})\n",
    "order = [\n",
    "    'Monday', 'Tuesday', 'Wednesday', 'Thursday', 'Friday', 'Saturday'\n",
    "]\n",
    "\n",
    "plt.figure(figsize=(12, 6))\n",
    "ax = sns.barplot(\n",
    "    x=freq_user_by_dow.index,\n",
    "    y=freq_user_by_dow['Count'],\n",
    "    data=freq_user_by_dow,\n",
    "    order=order,\n",
    "    palette='Set2'\n",
    ")\n",
    "plt.xlabel('Day of week', fontsize=13)\n",
    "plt.ylabel('Count', fontsize=13)\n",
    "plt.title('User 8003924580285816 TouchPass utilization', fontsize=15)\n",
    "sns.despine()\n",
    "plt.show()"
   ]
  },
  {
   "cell_type": "markdown",
   "id": "6160ab1d",
   "metadata": {},
   "source": [
    "It seems that this passenger is a daily rider. They utilize PART Express consistently"
   ]
  },
  {
   "cell_type": "code",
   "execution_count": null,
   "id": "9530fde4",
   "metadata": {},
   "outputs": [],
   "source": []
  },
  {
   "cell_type": "code",
   "execution_count": null,
   "id": "80b1ff45",
   "metadata": {},
   "outputs": [],
   "source": []
  },
  {
   "cell_type": "markdown",
   "id": "a4e7c260",
   "metadata": {},
   "source": [
    "Let's examine the passengers and trips who utilize half-priced fares."
   ]
  },
  {
   "cell_type": "code",
   "execution_count": 24,
   "id": "f397fa8b",
   "metadata": {},
   "outputs": [],
   "source": [
    "# get records where half fare was used\n",
    "half_price_fares = gdf[gdf['fareType'] == 'Half Priced']\n",
    "\n",
    "# get the number of unique users who use half fares\n",
    "half_price_fare_user = len(half_price_fares['cardNumber'].unique())\n",
    "half_price_fare_percent = half_price_fare_user / unique_users"
   ]
  },
  {
   "cell_type": "code",
   "execution_count": 25,
   "id": "7ca08282",
   "metadata": {},
   "outputs": [
    {
     "name": "stdout",
     "output_type": "stream",
     "text": [
      "There are 274 users who utilize half-priced fares in the data set.\n",
      "This accounts for 9% of the data.\n"
     ]
    }
   ],
   "source": [
    "print('There are {:,} users who utilize half-priced fares in the data set.'.format(half_price_fare_user))\n",
    "print('This accounts for {0:.0%} of the data.'.format(half_price_fare_percent))"
   ]
  },
  {
   "cell_type": "code",
   "execution_count": 26,
   "id": "6974c1c2",
   "metadata": {},
   "outputs": [
    {
     "data": {
      "text/html": [
       "<div>\n",
       "<style scoped>\n",
       "    .dataframe tbody tr th:only-of-type {\n",
       "        vertical-align: middle;\n",
       "    }\n",
       "\n",
       "    .dataframe tbody tr th {\n",
       "        vertical-align: top;\n",
       "    }\n",
       "\n",
       "    .dataframe thead th {\n",
       "        text-align: right;\n",
       "    }\n",
       "</style>\n",
       "<table border=\"1\" class=\"dataframe\">\n",
       "  <thead>\n",
       "    <tr style=\"text-align: right;\">\n",
       "      <th></th>\n",
       "      <th>Count</th>\n",
       "      <th>Rank</th>\n",
       "    </tr>\n",
       "  </thead>\n",
       "  <tbody>\n",
       "    <tr>\n",
       "      <th>Coble Transportation Center</th>\n",
       "      <td>2933</td>\n",
       "      <td>1.0</td>\n",
       "    </tr>\n",
       "    <tr>\n",
       "      <th>Greensboro Depot</th>\n",
       "      <td>882</td>\n",
       "      <td>2.0</td>\n",
       "    </tr>\n",
       "    <tr>\n",
       "      <th>Winston-Salem Transportation Center (L-1)</th>\n",
       "      <td>532</td>\n",
       "      <td>3.0</td>\n",
       "    </tr>\n",
       "    <tr>\n",
       "      <th>High Point Terminal (Outer Slip)</th>\n",
       "      <td>314</td>\n",
       "      <td>4.0</td>\n",
       "    </tr>\n",
       "    <tr>\n",
       "      <th>Four Seasons Mall</th>\n",
       "      <td>239</td>\n",
       "      <td>5.0</td>\n",
       "    </tr>\n",
       "    <tr>\n",
       "      <th>5th Street (WS Journal)</th>\n",
       "      <td>234</td>\n",
       "      <td>6.0</td>\n",
       "    </tr>\n",
       "    <tr>\n",
       "      <th>E Washington &amp; Eugene St</th>\n",
       "      <td>136</td>\n",
       "      <td>7.0</td>\n",
       "    </tr>\n",
       "    <tr>\n",
       "      <th>Sutton Way &amp; Highway 68 N</th>\n",
       "      <td>64</td>\n",
       "      <td>8.0</td>\n",
       "    </tr>\n",
       "    <tr>\n",
       "      <th>Motel 6</th>\n",
       "      <td>58</td>\n",
       "      <td>9.0</td>\n",
       "    </tr>\n",
       "    <tr>\n",
       "      <th>FedEx Ground (EB)</th>\n",
       "      <td>55</td>\n",
       "      <td>10.0</td>\n",
       "    </tr>\n",
       "    <tr>\n",
       "      <th>Pilot Moutain Park &amp; Ride 2</th>\n",
       "      <td>54</td>\n",
       "      <td>11.0</td>\n",
       "    </tr>\n",
       "    <tr>\n",
       "      <th>Alorica</th>\n",
       "      <td>49</td>\n",
       "      <td>12.0</td>\n",
       "    </tr>\n",
       "    <tr>\n",
       "      <th>4th &amp; MLK</th>\n",
       "      <td>44</td>\n",
       "      <td>13.0</td>\n",
       "    </tr>\n",
       "    <tr>\n",
       "      <th>Kernersville Town Hall Park &amp; Ride</th>\n",
       "      <td>38</td>\n",
       "      <td>14.0</td>\n",
       "    </tr>\n",
       "    <tr>\n",
       "      <th>North Asheboro Park &amp; Ride</th>\n",
       "      <td>35</td>\n",
       "      <td>15.0</td>\n",
       "    </tr>\n",
       "    <tr>\n",
       "      <th>VA Health Care Center</th>\n",
       "      <td>33</td>\n",
       "      <td>16.0</td>\n",
       "    </tr>\n",
       "    <tr>\n",
       "      <th>Baptist Medical Center (Meads Hall)</th>\n",
       "      <td>32</td>\n",
       "      <td>18.0</td>\n",
       "    </tr>\n",
       "    <tr>\n",
       "      <th>5th &amp; MLK</th>\n",
       "      <td>32</td>\n",
       "      <td>18.0</td>\n",
       "    </tr>\n",
       "    <tr>\n",
       "      <th>Coliseum &amp; Florida (North)</th>\n",
       "      <td>31</td>\n",
       "      <td>19.0</td>\n",
       "    </tr>\n",
       "    <tr>\n",
       "      <th>Pegg Rd &amp; Thorndike Rd</th>\n",
       "      <td>27</td>\n",
       "      <td>20.0</td>\n",
       "    </tr>\n",
       "    <tr>\n",
       "      <th>Harris Teeter Distribution Center</th>\n",
       "      <td>26</td>\n",
       "      <td>21.0</td>\n",
       "    </tr>\n",
       "    <tr>\n",
       "      <th>Swing Rd/Swing Ct</th>\n",
       "      <td>23</td>\n",
       "      <td>23.0</td>\n",
       "    </tr>\n",
       "    <tr>\n",
       "      <th>Pactiv (Radar Rd)</th>\n",
       "      <td>23</td>\n",
       "      <td>23.0</td>\n",
       "    </tr>\n",
       "    <tr>\n",
       "      <th>Thomasville Park &amp; Ride</th>\n",
       "      <td>21</td>\n",
       "      <td>25.0</td>\n",
       "    </tr>\n",
       "    <tr>\n",
       "      <th>Hotel Area (National Service Rd)</th>\n",
       "      <td>21</td>\n",
       "      <td>25.0</td>\n",
       "    </tr>\n",
       "  </tbody>\n",
       "</table>\n",
       "</div>"
      ],
      "text/plain": [
       "                                           Count  Rank\n",
       "Coble Transportation Center                 2933   1.0\n",
       "Greensboro Depot                             882   2.0\n",
       "Winston-Salem Transportation Center (L-1)    532   3.0\n",
       "High Point Terminal (Outer Slip)             314   4.0\n",
       "Four Seasons Mall                            239   5.0\n",
       "5th Street (WS Journal)                      234   6.0\n",
       "E Washington & Eugene St                     136   7.0\n",
       "Sutton Way & Highway 68 N                     64   8.0\n",
       "Motel 6                                       58   9.0\n",
       "FedEx Ground (EB)                             55  10.0\n",
       "Pilot Moutain Park & Ride 2                   54  11.0\n",
       "Alorica                                       49  12.0\n",
       "4th & MLK                                     44  13.0\n",
       "Kernersville Town Hall Park & Ride            38  14.0\n",
       "North Asheboro Park & Ride                    35  15.0\n",
       "VA Health Care Center                         33  16.0\n",
       "Baptist Medical Center (Meads Hall)           32  18.0\n",
       "5th & MLK                                     32  18.0\n",
       "Coliseum & Florida (North)                    31  19.0\n",
       "Pegg Rd & Thorndike Rd                        27  20.0\n",
       "Harris Teeter Distribution Center             26  21.0\n",
       "Swing Rd/Swing Ct                             23  23.0\n",
       "Pactiv (Radar Rd)                             23  23.0\n",
       "Thomasville Park & Ride                       21  25.0\n",
       "Hotel Area (National Service Rd)              21  25.0"
      ]
     },
     "execution_count": 26,
     "metadata": {},
     "output_type": "execute_result"
    }
   ],
   "source": [
    "# select the stops and the number of times they appear in the data set\n",
    "half_price_fare_stops = half_price_fares['stopName'].value_counts().to_frame().rename(columns={'stopName': 'Count'})\n",
    "# create new attribute to rank the stops by appearance\n",
    "half_price_fare_stops['Rank'] = half_price_fare_stops['Count'].rank(method='max', ascending=False)\n",
    "\n",
    "# show table\n",
    "half_price_fare_stops[:25]"
   ]
  },
  {
   "cell_type": "markdown",
   "id": "d12800bb",
   "metadata": {},
   "source": [
    "The table above shows the stops that a half-price fare was utilized at. We can see that the CTC ranks 1st with 2,933 half-price fares. What's interesting is the VA Health Care Center in Kernersville is tied for 16th place with 33 half-price boardings. I wonder if there's more utilization of this stop. Let's find out..."
   ]
  },
  {
   "cell_type": "code",
   "execution_count": 27,
   "id": "3ce8e585",
   "metadata": {},
   "outputs": [
    {
     "name": "stdout",
     "output_type": "stream",
     "text": [
      "There have been 61 taps at the VA Health Care Center from 38 unique passengers.\n"
     ]
    }
   ],
   "source": [
    "taps_at_va = len(gdf[gdf['stopName'] == 'VA Health Care Center'])\n",
    "va_passengers = gdf.loc[(gdf['stopName'] == 'VA Health Care Center')]['cardNumber'].unique()\n",
    "\n",
    "print('There have been {} taps at the VA Health Care Center from {} unique passengers.'.format(taps_at_va, len(va_passengers)))"
   ]
  },
  {
   "cell_type": "markdown",
   "id": "9c3be912",
   "metadata": {},
   "source": [
    "Let's find out which of those passengers is not utilizing half-priced fare."
   ]
  },
  {
   "cell_type": "code",
   "execution_count": 28,
   "id": "d3e7e8f9",
   "metadata": {},
   "outputs": [
    {
     "data": {
      "text/plain": [
       "array(['9098348745820586', '8009041252189889', '9021031180957202',\n",
       "       '7086152527269725', '8016324348609677', '9010537042496950',\n",
       "       '9013090472558474', '9081056967383105', '9049064298848094',\n",
       "       '7876884406922446', '8090351248600109', '9018747586516848',\n",
       "       '9088110355375877', '7843308130493656', '9085652588486313',\n",
       "       '9017040585230053', '9006741614372716', '9059831019948099',\n",
       "       '9053542517271142'], dtype=object)"
      ]
     },
     "execution_count": 28,
     "metadata": {},
     "output_type": "execute_result"
    }
   ],
   "source": [
    "va_full_fare = gdf.loc[\n",
    "    (gdf['stopName'] == 'VA Health Care Center') & \n",
    "    (gdf['fareType'] != 'Half Priced'),\n",
    "'cardNumber'].unique()\n",
    "\n",
    "va_full_fare"
   ]
  },
  {
   "cell_type": "markdown",
   "id": "b211f8e1",
   "metadata": {},
   "source": [
    "There are 19 unique TouchPass users who have boarded at the VA Health Care Center and have not utilized the half-priced fare. These card numbers can easily be written to an Excel file for Call Center staff to follow up with."
   ]
  },
  {
   "cell_type": "code",
   "execution_count": null,
   "id": "042f02db",
   "metadata": {},
   "outputs": [],
   "source": []
  },
  {
   "cell_type": "code",
   "execution_count": null,
   "id": "40008dfc",
   "metadata": {},
   "outputs": [],
   "source": []
  },
  {
   "cell_type": "code",
   "execution_count": null,
   "id": "9eb154d8",
   "metadata": {},
   "outputs": [],
   "source": []
  },
  {
   "cell_type": "code",
   "execution_count": null,
   "id": "e47e1123",
   "metadata": {},
   "outputs": [],
   "source": []
  }
 ],
 "metadata": {
  "kernelspec": {
   "display_name": "Python 3",
   "language": "python",
   "name": "python3"
  },
  "language_info": {
   "codemirror_mode": {
    "name": "ipython",
    "version": 3
   },
   "file_extension": ".py",
   "mimetype": "text/x-python",
   "name": "python",
   "nbconvert_exporter": "python",
   "pygments_lexer": "ipython3",
   "version": "3.9.2"
  }
 },
 "nbformat": 4,
 "nbformat_minor": 5
}
