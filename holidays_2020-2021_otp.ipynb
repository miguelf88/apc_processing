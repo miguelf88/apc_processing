{
 "cells": [
  {
   "cell_type": "markdown",
   "metadata": {},
   "source": [
    "# PART Express On-time Performance Analysis\n",
    "## Holiday Season\n",
    "### November 3, 2020 - January 31, 2021"
   ]
  },
  {
   "cell_type": "markdown",
   "metadata": {},
   "source": [
    "The following analysis was conducted using Automatic Passenger Count (APC) data from the PART Express system. On-time is defined as between 1 minute early and 5.5 minutes late. "
   ]
  },
  {
   "cell_type": "code",
   "execution_count": 78,
   "metadata": {},
   "outputs": [],
   "source": [
    "# import libraries\n",
    "import pandas as pd\n",
    "import numpy as np\n",
    "import datetime as dt\n",
    "import seaborn as sns\n",
    "import calplot\n",
    "import matplotlib.pyplot as plt\n",
    "\n",
    "pd.options.display.max_columns = 999"
   ]
  },
  {
   "cell_type": "code",
   "execution_count": 79,
   "metadata": {},
   "outputs": [
    {
     "data": {
      "text/html": [
       "<div>\n",
       "<style scoped>\n",
       "    .dataframe tbody tr th:only-of-type {\n",
       "        vertical-align: middle;\n",
       "    }\n",
       "\n",
       "    .dataframe tbody tr th {\n",
       "        vertical-align: top;\n",
       "    }\n",
       "\n",
       "    .dataframe thead th {\n",
       "        text-align: right;\n",
       "    }\n",
       "</style>\n",
       "<table border=\"1\" class=\"dataframe\">\n",
       "  <thead>\n",
       "    <tr style=\"text-align: right;\">\n",
       "      <th></th>\n",
       "      <th>DAYOFWK</th>\n",
       "      <th>ROUTE</th>\n",
       "      <th>BLOCK_NUM</th>\n",
       "      <th>DIR</th>\n",
       "      <th>TRIP_TIME</th>\n",
       "      <th>DATE</th>\n",
       "      <th>SERVICE_PERIOD</th>\n",
       "      <th>TP_NUM</th>\n",
       "      <th>TIMEPNT</th>\n",
       "      <th>ARRIVAL_TIME</th>\n",
       "      <th>DEPARTURE_TIME</th>\n",
       "      <th>DWDP_TIME</th>\n",
       "      <th>SCHEDULE_TIME</th>\n",
       "      <th>SCH_DEV</th>\n",
       "      <th>STATUS</th>\n",
       "      <th>LONGNAME</th>\n",
       "    </tr>\n",
       "  </thead>\n",
       "  <tbody>\n",
       "    <tr>\n",
       "      <th>0</th>\n",
       "      <td>WKDY</td>\n",
       "      <td>4</td>\n",
       "      <td>94003</td>\n",
       "      <td>Dir = 1</td>\n",
       "      <td>11:10:00</td>\n",
       "      <td>2020-11-09</td>\n",
       "      <td>Off Peak</td>\n",
       "      <td>0</td>\n",
       "      <td>Ambulatory Care Center</td>\n",
       "      <td>11:05:51</td>\n",
       "      <td>11:10:48</td>\n",
       "      <td>11:11:02</td>\n",
       "      <td>11:10:00</td>\n",
       "      <td>1.03</td>\n",
       "      <td>On Time</td>\n",
       "      <td>4 - Alamance-Burlington Express</td>\n",
       "    </tr>\n",
       "    <tr>\n",
       "      <th>1</th>\n",
       "      <td>WKDY</td>\n",
       "      <td>4</td>\n",
       "      <td>94003</td>\n",
       "      <td>Dir = 1</td>\n",
       "      <td>11:10:00</td>\n",
       "      <td>2020-11-10</td>\n",
       "      <td>Off Peak</td>\n",
       "      <td>0</td>\n",
       "      <td>Ambulatory Care Center</td>\n",
       "      <td>11:10:19</td>\n",
       "      <td>11:10:27</td>\n",
       "      <td>11:10:40</td>\n",
       "      <td>11:10:00</td>\n",
       "      <td>0.67</td>\n",
       "      <td>On Time</td>\n",
       "      <td>4 - Alamance-Burlington Express</td>\n",
       "    </tr>\n",
       "    <tr>\n",
       "      <th>2</th>\n",
       "      <td>WKDY</td>\n",
       "      <td>4</td>\n",
       "      <td>94003</td>\n",
       "      <td>Dir = 1</td>\n",
       "      <td>11:10:00</td>\n",
       "      <td>2020-11-11</td>\n",
       "      <td>Off Peak</td>\n",
       "      <td>0</td>\n",
       "      <td>Ambulatory Care Center</td>\n",
       "      <td>11:05:28</td>\n",
       "      <td>11:07:31</td>\n",
       "      <td>11:08:33</td>\n",
       "      <td>11:10:00</td>\n",
       "      <td>-1.45</td>\n",
       "      <td>Early</td>\n",
       "      <td>4 - Alamance-Burlington Express</td>\n",
       "    </tr>\n",
       "    <tr>\n",
       "      <th>3</th>\n",
       "      <td>WKDY</td>\n",
       "      <td>4</td>\n",
       "      <td>94003</td>\n",
       "      <td>Dir = 1</td>\n",
       "      <td>11:10:00</td>\n",
       "      <td>2020-11-12</td>\n",
       "      <td>Off Peak</td>\n",
       "      <td>0</td>\n",
       "      <td>Ambulatory Care Center</td>\n",
       "      <td>11:04:04</td>\n",
       "      <td>11:09:26</td>\n",
       "      <td>11:10:21</td>\n",
       "      <td>11:10:00</td>\n",
       "      <td>0.35</td>\n",
       "      <td>On Time</td>\n",
       "      <td>4 - Alamance-Burlington Express</td>\n",
       "    </tr>\n",
       "    <tr>\n",
       "      <th>4</th>\n",
       "      <td>WKDY</td>\n",
       "      <td>4</td>\n",
       "      <td>94003</td>\n",
       "      <td>Dir = 1</td>\n",
       "      <td>11:10:00</td>\n",
       "      <td>2020-11-13</td>\n",
       "      <td>Off Peak</td>\n",
       "      <td>0</td>\n",
       "      <td>Ambulatory Care Center</td>\n",
       "      <td>11:04:31</td>\n",
       "      <td>11:09:42</td>\n",
       "      <td>11:10:15</td>\n",
       "      <td>11:10:00</td>\n",
       "      <td>0.25</td>\n",
       "      <td>On Time</td>\n",
       "      <td>4 - Alamance-Burlington Express</td>\n",
       "    </tr>\n",
       "  </tbody>\n",
       "</table>\n",
       "</div>"
      ],
      "text/plain": [
       "  DAYOFWK  ROUTE  BLOCK_NUM      DIR TRIP_TIME       DATE SERVICE_PERIOD  \\\n",
       "0    WKDY      4      94003  Dir = 1  11:10:00 2020-11-09       Off Peak   \n",
       "1    WKDY      4      94003  Dir = 1  11:10:00 2020-11-10       Off Peak   \n",
       "2    WKDY      4      94003  Dir = 1  11:10:00 2020-11-11       Off Peak   \n",
       "3    WKDY      4      94003  Dir = 1  11:10:00 2020-11-12       Off Peak   \n",
       "4    WKDY      4      94003  Dir = 1  11:10:00 2020-11-13       Off Peak   \n",
       "\n",
       "   TP_NUM                 TIMEPNT ARRIVAL_TIME DEPARTURE_TIME DWDP_TIME  \\\n",
       "0       0  Ambulatory Care Center     11:05:51       11:10:48  11:11:02   \n",
       "1       0  Ambulatory Care Center     11:10:19       11:10:27  11:10:40   \n",
       "2       0  Ambulatory Care Center     11:05:28       11:07:31  11:08:33   \n",
       "3       0  Ambulatory Care Center     11:04:04       11:09:26  11:10:21   \n",
       "4       0  Ambulatory Care Center     11:04:31       11:09:42  11:10:15   \n",
       "\n",
       "  SCHEDULE_TIME  SCH_DEV   STATUS                         LONGNAME  \n",
       "0      11:10:00     1.03  On Time  4 - Alamance-Burlington Express  \n",
       "1      11:10:00     0.67  On Time  4 - Alamance-Burlington Express  \n",
       "2      11:10:00    -1.45    Early  4 - Alamance-Burlington Express  \n",
       "3      11:10:00     0.35  On Time  4 - Alamance-Burlington Express  \n",
       "4      11:10:00     0.25  On Time  4 - Alamance-Burlington Express  "
      ]
     },
     "execution_count": 79,
     "metadata": {},
     "output_type": "execute_result"
    }
   ],
   "source": [
    "# define parameters\n",
    "path = 'W:\\!PART Express Data\\APC Reports\\On-Time Performance Report\\OnTimePerformance_2020-11-03_2021-01-31(Holidays2020-2021).xlsx'\n",
    "sheet = 'All Time Points'\n",
    "engine = 'openpyxl'\n",
    "\n",
    "# read in data\n",
    "df = pd.read_excel(io=path, sheet_name=sheet, engine=engine)\n",
    "\n",
    "# preview dataframe\n",
    "df.head()"
   ]
  },
  {
   "cell_type": "code",
   "execution_count": 80,
   "metadata": {},
   "outputs": [
    {
     "name": "stdout",
     "output_type": "stream",
     "text": [
      "<class 'pandas.core.frame.DataFrame'>\n",
      "RangeIndex: 46342 entries, 0 to 46341\n",
      "Data columns (total 16 columns):\n",
      " #   Column          Non-Null Count  Dtype         \n",
      "---  ------          --------------  -----         \n",
      " 0   DAYOFWK         46342 non-null  object        \n",
      " 1   ROUTE           46342 non-null  int64         \n",
      " 2   BLOCK_NUM       46342 non-null  int64         \n",
      " 3   DIR             46342 non-null  object        \n",
      " 4   TRIP_TIME       46342 non-null  object        \n",
      " 5   DATE            46342 non-null  datetime64[ns]\n",
      " 6   SERVICE_PERIOD  46342 non-null  object        \n",
      " 7   TP_NUM          46342 non-null  int64         \n",
      " 8   TIMEPNT         46342 non-null  object        \n",
      " 9   ARRIVAL_TIME    46342 non-null  object        \n",
      " 10  DEPARTURE_TIME  46342 non-null  object        \n",
      " 11  DWDP_TIME       46342 non-null  object        \n",
      " 12  SCHEDULE_TIME   46342 non-null  object        \n",
      " 13  SCH_DEV         46342 non-null  float64       \n",
      " 14  STATUS          46342 non-null  object        \n",
      " 15  LONGNAME        46342 non-null  object        \n",
      "dtypes: datetime64[ns](1), float64(1), int64(3), object(11)\n",
      "memory usage: 5.7+ MB\n"
     ]
    }
   ],
   "source": [
    "df.info()"
   ]
  },
  {
   "cell_type": "markdown",
   "metadata": {},
   "source": [
    "### Data cleaning"
   ]
  },
  {
   "cell_type": "code",
   "execution_count": 81,
   "metadata": {},
   "outputs": [
    {
     "name": "stdout",
     "output_type": "stream",
     "text": [
      "<class 'pandas.core.frame.DataFrame'>\n",
      "RangeIndex: 46342 entries, 0 to 46341\n",
      "Data columns (total 18 columns):\n",
      " #   Column          Non-Null Count  Dtype         \n",
      "---  ------          --------------  -----         \n",
      " 0   DAYOFWK         46342 non-null  category      \n",
      " 1   ROUTE           46342 non-null  category      \n",
      " 2   BLOCK_NUM       46342 non-null  int64         \n",
      " 3   DIR             46342 non-null  category      \n",
      " 4   TRIP_TIME       46342 non-null  object        \n",
      " 5   DATE            46342 non-null  datetime64[ns]\n",
      " 6   SERVICE_PERIOD  46342 non-null  category      \n",
      " 7   TP_NUM          46342 non-null  int64         \n",
      " 8   TIMEPNT         46342 non-null  category      \n",
      " 9   ARRIVAL_TIME    46342 non-null  object        \n",
      " 10  DEPARTURE_TIME  46342 non-null  object        \n",
      " 11  DWDP_TIME       46342 non-null  object        \n",
      " 12  SCHEDULE_TIME   46342 non-null  object        \n",
      " 13  SCH_DEV         46342 non-null  float64       \n",
      " 14  STATUS          46342 non-null  object        \n",
      " 15  LONGNAME        46342 non-null  object        \n",
      " 16  Day of Week     46342 non-null  category      \n",
      " 17  Month           46342 non-null  category      \n",
      "dtypes: category(7), datetime64[ns](1), float64(1), int64(2), object(7)\n",
      "memory usage: 4.2+ MB\n"
     ]
    }
   ],
   "source": [
    "# create new attributes\n",
    "df['Day of Week'] = df['DATE'].dt.day_name()\n",
    "df['Month'] = df['DATE'].dt.month\n",
    "\n",
    "# convert attributes to categories\n",
    "df['DAYOFWK'] = df['DAYOFWK'].astype('category')\n",
    "df['ROUTE'] = df['ROUTE'].astype('category')\n",
    "df['DIR'] = df['DIR'].astype('category')\n",
    "df['SERVICE_PERIOD'] = df['SERVICE_PERIOD'].astype('category')\n",
    "df['TIMEPNT'] = df['TIMEPNT'].astype('category')\n",
    "df['Day of Week'] = df['Day of Week'].astype('category')\n",
    "df['Month'] = df['Month'].astype('category')\n",
    "\n",
    "# check dataframe size\n",
    "df.info()"
   ]
  },
  {
   "cell_type": "code",
   "execution_count": 82,
   "metadata": {},
   "outputs": [
    {
     "data": {
      "text/html": [
       "<div>\n",
       "<style scoped>\n",
       "    .dataframe tbody tr th:only-of-type {\n",
       "        vertical-align: middle;\n",
       "    }\n",
       "\n",
       "    .dataframe tbody tr th {\n",
       "        vertical-align: top;\n",
       "    }\n",
       "\n",
       "    .dataframe thead th {\n",
       "        text-align: right;\n",
       "    }\n",
       "</style>\n",
       "<table border=\"1\" class=\"dataframe\">\n",
       "  <thead>\n",
       "    <tr style=\"text-align: right;\">\n",
       "      <th></th>\n",
       "      <th>Day Type</th>\n",
       "      <th>Block ID</th>\n",
       "      <th>Direction</th>\n",
       "      <th>Trip Start Time</th>\n",
       "      <th>Date</th>\n",
       "      <th>Service Period</th>\n",
       "      <th>Time Point Number</th>\n",
       "      <th>Stop Name</th>\n",
       "      <th>Arrival Time</th>\n",
       "      <th>Departure Time</th>\n",
       "      <th>Scheduled Time</th>\n",
       "      <th>Schedule Deviation</th>\n",
       "      <th>Status</th>\n",
       "      <th>Route</th>\n",
       "      <th>Day of Week</th>\n",
       "      <th>Month</th>\n",
       "    </tr>\n",
       "  </thead>\n",
       "  <tbody>\n",
       "    <tr>\n",
       "      <th>0</th>\n",
       "      <td>WKDY</td>\n",
       "      <td>94003</td>\n",
       "      <td>Dir = 1</td>\n",
       "      <td>11:10:00</td>\n",
       "      <td>2020-11-09</td>\n",
       "      <td>Off Peak</td>\n",
       "      <td>0</td>\n",
       "      <td>Ambulatory Care Center</td>\n",
       "      <td>11:05:51</td>\n",
       "      <td>11:10:48</td>\n",
       "      <td>11:10:00</td>\n",
       "      <td>1.03</td>\n",
       "      <td>On Time</td>\n",
       "      <td>4 - Alamance-Burlington Express</td>\n",
       "      <td>Monday</td>\n",
       "      <td>11</td>\n",
       "    </tr>\n",
       "    <tr>\n",
       "      <th>1</th>\n",
       "      <td>WKDY</td>\n",
       "      <td>94003</td>\n",
       "      <td>Dir = 1</td>\n",
       "      <td>11:10:00</td>\n",
       "      <td>2020-11-10</td>\n",
       "      <td>Off Peak</td>\n",
       "      <td>0</td>\n",
       "      <td>Ambulatory Care Center</td>\n",
       "      <td>11:10:19</td>\n",
       "      <td>11:10:27</td>\n",
       "      <td>11:10:00</td>\n",
       "      <td>0.67</td>\n",
       "      <td>On Time</td>\n",
       "      <td>4 - Alamance-Burlington Express</td>\n",
       "      <td>Tuesday</td>\n",
       "      <td>11</td>\n",
       "    </tr>\n",
       "    <tr>\n",
       "      <th>2</th>\n",
       "      <td>WKDY</td>\n",
       "      <td>94003</td>\n",
       "      <td>Dir = 1</td>\n",
       "      <td>11:10:00</td>\n",
       "      <td>2020-11-11</td>\n",
       "      <td>Off Peak</td>\n",
       "      <td>0</td>\n",
       "      <td>Ambulatory Care Center</td>\n",
       "      <td>11:05:28</td>\n",
       "      <td>11:07:31</td>\n",
       "      <td>11:10:00</td>\n",
       "      <td>-1.45</td>\n",
       "      <td>Early</td>\n",
       "      <td>4 - Alamance-Burlington Express</td>\n",
       "      <td>Wednesday</td>\n",
       "      <td>11</td>\n",
       "    </tr>\n",
       "    <tr>\n",
       "      <th>3</th>\n",
       "      <td>WKDY</td>\n",
       "      <td>94003</td>\n",
       "      <td>Dir = 1</td>\n",
       "      <td>11:10:00</td>\n",
       "      <td>2020-11-12</td>\n",
       "      <td>Off Peak</td>\n",
       "      <td>0</td>\n",
       "      <td>Ambulatory Care Center</td>\n",
       "      <td>11:04:04</td>\n",
       "      <td>11:09:26</td>\n",
       "      <td>11:10:00</td>\n",
       "      <td>0.35</td>\n",
       "      <td>On Time</td>\n",
       "      <td>4 - Alamance-Burlington Express</td>\n",
       "      <td>Thursday</td>\n",
       "      <td>11</td>\n",
       "    </tr>\n",
       "    <tr>\n",
       "      <th>4</th>\n",
       "      <td>WKDY</td>\n",
       "      <td>94003</td>\n",
       "      <td>Dir = 1</td>\n",
       "      <td>11:10:00</td>\n",
       "      <td>2020-11-13</td>\n",
       "      <td>Off Peak</td>\n",
       "      <td>0</td>\n",
       "      <td>Ambulatory Care Center</td>\n",
       "      <td>11:04:31</td>\n",
       "      <td>11:09:42</td>\n",
       "      <td>11:10:00</td>\n",
       "      <td>0.25</td>\n",
       "      <td>On Time</td>\n",
       "      <td>4 - Alamance-Burlington Express</td>\n",
       "      <td>Friday</td>\n",
       "      <td>11</td>\n",
       "    </tr>\n",
       "  </tbody>\n",
       "</table>\n",
       "</div>"
      ],
      "text/plain": [
       "  Day Type  Block ID Direction Trip Start Time       Date Service Period  \\\n",
       "0     WKDY     94003   Dir = 1        11:10:00 2020-11-09       Off Peak   \n",
       "1     WKDY     94003   Dir = 1        11:10:00 2020-11-10       Off Peak   \n",
       "2     WKDY     94003   Dir = 1        11:10:00 2020-11-11       Off Peak   \n",
       "3     WKDY     94003   Dir = 1        11:10:00 2020-11-12       Off Peak   \n",
       "4     WKDY     94003   Dir = 1        11:10:00 2020-11-13       Off Peak   \n",
       "\n",
       "   Time Point Number               Stop Name Arrival Time Departure Time  \\\n",
       "0                  0  Ambulatory Care Center     11:05:51       11:10:48   \n",
       "1                  0  Ambulatory Care Center     11:10:19       11:10:27   \n",
       "2                  0  Ambulatory Care Center     11:05:28       11:07:31   \n",
       "3                  0  Ambulatory Care Center     11:04:04       11:09:26   \n",
       "4                  0  Ambulatory Care Center     11:04:31       11:09:42   \n",
       "\n",
       "  Scheduled Time  Schedule Deviation   Status  \\\n",
       "0       11:10:00                1.03  On Time   \n",
       "1       11:10:00                0.67  On Time   \n",
       "2       11:10:00               -1.45    Early   \n",
       "3       11:10:00                0.35  On Time   \n",
       "4       11:10:00                0.25  On Time   \n",
       "\n",
       "                             Route Day of Week Month  \n",
       "0  4 - Alamance-Burlington Express      Monday    11  \n",
       "1  4 - Alamance-Burlington Express     Tuesday    11  \n",
       "2  4 - Alamance-Burlington Express   Wednesday    11  \n",
       "3  4 - Alamance-Burlington Express    Thursday    11  \n",
       "4  4 - Alamance-Burlington Express      Friday    11  "
      ]
     },
     "execution_count": 82,
     "metadata": {},
     "output_type": "execute_result"
    }
   ],
   "source": [
    "# rename attributes\n",
    "df.rename(columns={\n",
    "    'DAYOFWK': 'Day Type',\n",
    "    'BLOCK_NUM': 'Block ID',\n",
    "    'DIR': 'Direction',\n",
    "    'TRIP_TIME': 'Trip Start Time',\n",
    "    'DATE': 'Date',\n",
    "    'SERVICE_PERIOD': 'Service Period',\n",
    "    'TP_NUM': 'Time Point Number',\n",
    "    'TIMEPNT': 'Stop Name',\n",
    "    'ARRIVAL_TIME': 'Arrival Time',\n",
    "    'DEPARTURE_TIME': 'Departure Time',\n",
    "    'SCHEDULE_TIME': 'Scheduled Time',\n",
    "    'SCH_DEV': 'Schedule Deviation',\n",
    "    'STATUS': 'Status',\n",
    "    'LONGNAME': 'Route'\n",
    "}, inplace=True)\n",
    "\n",
    "# drop columns\n",
    "df.drop(['ROUTE', 'DWDP_TIME'], axis=1, inplace=True)\n",
    "\n",
    "# preview modified data set\n",
    "df.head()"
   ]
  },
  {
   "cell_type": "markdown",
   "metadata": {},
   "source": [
    "### Exploratory Data Analysis"
   ]
  },
  {
   "cell_type": "markdown",
   "metadata": {},
   "source": [
    "Now that the data is clean, let's dig in and see what we can find out..."
   ]
  },
  {
   "cell_type": "code",
   "execution_count": 83,
   "metadata": {},
   "outputs": [
    {
     "data": {
      "text/html": [
       "<style  type=\"text/css\" >\n",
       "</style><table id=\"T_68ca9_\" ><thead>    <tr>        <th class=\"blank level0\" ></th>        <th class=\"col_heading level0 col0\" >Count</th>        <th class=\"col_heading level0 col1\" >Percentage</th>    </tr>    <tr>        <th class=\"index_name level0\" >Route</th>        <th class=\"blank\" ></th>        <th class=\"blank\" ></th>    </tr></thead><tbody>\n",
       "                <tr>\n",
       "                        <th id=\"T_68ca9_level0_row0\" class=\"row_heading level0 row0\" >17 - Kernersville Express</th>\n",
       "                        <td id=\"T_68ca9_row0_col0\" class=\"data row0 col0\" >8,518</td>\n",
       "                        <td id=\"T_68ca9_row0_col1\" class=\"data row0 col1\" >18.38%</td>\n",
       "            </tr>\n",
       "            <tr>\n",
       "                        <th id=\"T_68ca9_level0_row1\" class=\"row_heading level0 row1\" >2 - Greensboro Express</th>\n",
       "                        <td id=\"T_68ca9_row1_col0\" class=\"data row1 col0\" >5,073</td>\n",
       "                        <td id=\"T_68ca9_row1_col1\" class=\"data row1 col1\" >10.95%</td>\n",
       "            </tr>\n",
       "            <tr>\n",
       "                        <th id=\"T_68ca9_level0_row2\" class=\"row_heading level0 row2\" >10 - Randolph Express</th>\n",
       "                        <td id=\"T_68ca9_row2_col0\" class=\"data row2 col0\" >4,873</td>\n",
       "                        <td id=\"T_68ca9_row2_col1\" class=\"data row2 col1\" >10.52%</td>\n",
       "            </tr>\n",
       "            <tr>\n",
       "                        <th id=\"T_68ca9_level0_row3\" class=\"row_heading level0 row3\" >3 - High Point Express</th>\n",
       "                        <td id=\"T_68ca9_row3_col0\" class=\"data row3 col0\" >4,867</td>\n",
       "                        <td id=\"T_68ca9_row3_col1\" class=\"data row3 col1\" >10.50%</td>\n",
       "            </tr>\n",
       "            <tr>\n",
       "                        <th id=\"T_68ca9_level0_row4\" class=\"row_heading level0 row4\" >1 - Winston-Salem Express</th>\n",
       "                        <td id=\"T_68ca9_row4_col0\" class=\"data row4 col0\" >4,842</td>\n",
       "                        <td id=\"T_68ca9_row4_col1\" class=\"data row4 col1\" >10.45%</td>\n",
       "            </tr>\n",
       "            <tr>\n",
       "                        <th id=\"T_68ca9_level0_row5\" class=\"row_heading level0 row5\" >9 - Davidson Business 85 Express</th>\n",
       "                        <td id=\"T_68ca9_row5_col0\" class=\"data row5 col0\" >3,378</td>\n",
       "                        <td id=\"T_68ca9_row5_col1\" class=\"data row5 col1\" >7.29%</td>\n",
       "            </tr>\n",
       "            <tr>\n",
       "                        <th id=\"T_68ca9_level0_row6\" class=\"row_heading level0 row6\" >4 - Alamance-Burlington Express</th>\n",
       "                        <td id=\"T_68ca9_row6_col0\" class=\"data row6 col0\" >2,866</td>\n",
       "                        <td id=\"T_68ca9_row6_col1\" class=\"data row6 col1\" >6.18%</td>\n",
       "            </tr>\n",
       "            <tr>\n",
       "                        <th id=\"T_68ca9_level0_row7\" class=\"row_heading level0 row7\" >24 - Burgess/Regional Rd</th>\n",
       "                        <td id=\"T_68ca9_row7_col0\" class=\"data row7 col0\" >2,853</td>\n",
       "                        <td id=\"T_68ca9_row7_col1\" class=\"data row7 col1\" >6.16%</td>\n",
       "            </tr>\n",
       "            <tr>\n",
       "                        <th id=\"T_68ca9_level0_row8\" class=\"row_heading level0 row8\" >20 - NW Pleasant Ridge</th>\n",
       "                        <td id=\"T_68ca9_row8_col0\" class=\"data row8 col0\" >2,578</td>\n",
       "                        <td id=\"T_68ca9_row8_col1\" class=\"data row8 col1\" >5.56%</td>\n",
       "            </tr>\n",
       "            <tr>\n",
       "                        <th id=\"T_68ca9_level0_row9\" class=\"row_heading level0 row9\" >23 - SE Piedmont Parkway</th>\n",
       "                        <td id=\"T_68ca9_row9_col0\" class=\"data row9 col0\" >2,433</td>\n",
       "                        <td id=\"T_68ca9_row9_col1\" class=\"data row9 col1\" >5.25%</td>\n",
       "            </tr>\n",
       "            <tr>\n",
       "                        <th id=\"T_68ca9_level0_row10\" class=\"row_heading level0 row10\" >21 - NE Chimney Rock</th>\n",
       "                        <td id=\"T_68ca9_row10_col0\" class=\"data row10 col0\" >2,044</td>\n",
       "                        <td id=\"T_68ca9_row10_col1\" class=\"data row10 col1\" >4.41%</td>\n",
       "            </tr>\n",
       "            <tr>\n",
       "                        <th id=\"T_68ca9_level0_row11\" class=\"row_heading level0 row11\" >6 - Surry County Express</th>\n",
       "                        <td id=\"T_68ca9_row11_col0\" class=\"data row11 col0\" >1,417</td>\n",
       "                        <td id=\"T_68ca9_row11_col1\" class=\"data row11 col1\" >3.06%</td>\n",
       "            </tr>\n",
       "            <tr>\n",
       "                        <th id=\"T_68ca9_level0_row12\" class=\"row_heading level0 row12\" >22 - SW Sandy Ridge</th>\n",
       "                        <td id=\"T_68ca9_row12_col0\" class=\"data row12 col0\" >600</td>\n",
       "                        <td id=\"T_68ca9_row12_col1\" class=\"data row12 col1\" >1.29%</td>\n",
       "            </tr>\n",
       "    </tbody></table>"
      ],
      "text/plain": [
       "<pandas.io.formats.style.Styler at 0x2ac1c6e2348>"
      ]
     },
     "execution_count": 83,
     "metadata": {},
     "output_type": "execute_result"
    }
   ],
   "source": [
    "len_of_df = len(df)\n",
    "\n",
    "by_route = df.groupby('Route').size().sort_values(ascending=False).to_frame()\n",
    "by_route.rename(columns={0: 'Count'}, inplace=True)\n",
    "by_route['Percentage'] = by_route['Count'] / len_of_df\n",
    "by_route.style.format({'Count': '{:,}', 'Percentage': '{:.2%}'})"
   ]
  },
  {
   "cell_type": "code",
   "execution_count": 84,
   "metadata": {},
   "outputs": [
    {
     "data": {
      "text/html": [
       "<style  type=\"text/css\" >\n",
       "</style><table id=\"T_c1a18_\" ><thead>    <tr>        <th class=\"blank level0\" ></th>        <th class=\"col_heading level0 col0\" >Count</th>        <th class=\"col_heading level0 col1\" >Percentage</th>    </tr>    <tr>        <th class=\"index_name level0\" >Route</th>        <th class=\"blank\" ></th>        <th class=\"blank\" ></th>    </tr></thead><tbody>\n",
       "                <tr>\n",
       "                        <th id=\"T_c1a18_level0_row0\" class=\"row_heading level0 row0\" >1 - Winston-Salem Express</th>\n",
       "                        <td id=\"T_c1a18_row0_col0\" class=\"data row0 col0\" >4,842</td>\n",
       "                        <td id=\"T_c1a18_row0_col1\" class=\"data row0 col1\" >10.45%</td>\n",
       "            </tr>\n",
       "            <tr>\n",
       "                        <th id=\"T_c1a18_level0_row1\" class=\"row_heading level0 row1\" >2 - Greensboro Express</th>\n",
       "                        <td id=\"T_c1a18_row1_col0\" class=\"data row1 col0\" >5,073</td>\n",
       "                        <td id=\"T_c1a18_row1_col1\" class=\"data row1 col1\" >10.95%</td>\n",
       "            </tr>\n",
       "            <tr>\n",
       "                        <th id=\"T_c1a18_level0_row2\" class=\"row_heading level0 row2\" >3 - High Point Express</th>\n",
       "                        <td id=\"T_c1a18_row2_col0\" class=\"data row2 col0\" >4,867</td>\n",
       "                        <td id=\"T_c1a18_row2_col1\" class=\"data row2 col1\" >10.50%</td>\n",
       "            </tr>\n",
       "    </tbody></table>"
      ],
      "text/plain": [
       "<pandas.io.formats.style.Styler at 0x2ac1da8df88>"
      ]
     },
     "execution_count": 84,
     "metadata": {},
     "output_type": "execute_result"
    }
   ],
   "source": [
    "by_route.loc[[\n",
    "    '1 - Winston-Salem Express', '2 - Greensboro Express', '3 - High Point Express'\n",
    "]].style.format({'Count': '{:,}', 'Percentage': '{:.2%}'})"
   ]
  },
  {
   "cell_type": "markdown",
   "metadata": {},
   "source": [
    "The results appear to show that some routes are not being sampled as often as others. For example, Route 22 only has 600 observations in the data set while the other shuttle routes (20, 21, 23, 24) have around 2,500 records. The second data frame isolates the urban express routes (1, 2, 3) and they all have a similar number of observations. This is more in line with expectations as the operate the same number of trips."
   ]
  },
  {
   "cell_type": "code",
   "execution_count": 85,
   "metadata": {
    "scrolled": true
   },
   "outputs": [
    {
     "data": {
      "text/plain": [
       "mean     1.810029\n",
       "std      3.235083\n",
       "min     -9.980000\n",
       "max     19.970000\n",
       "Name: Schedule Deviation, dtype: float64"
      ]
     },
     "execution_count": 85,
     "metadata": {},
     "output_type": "execute_result"
    }
   ],
   "source": [
    "df['Schedule Deviation'].describe()[['mean', 'std', 'min', 'max']]"
   ]
  },
  {
   "cell_type": "markdown",
   "metadata": {},
   "source": [
    "Looking at the overall system, the average deviation from the scheduled time is 1.81 minutes with a standard deviation of 3.24 minutes. The earliest a vehicle left was nearly 10 minutes early and the latest a vehicle arrived was almost 20 minutes late. It should be stated that vehicles arriving later than 20 minutes have been removed from the data on UTA's side. This is some logic that they utilize. Let's check out the minimum and maximum records..."
   ]
  },
  {
   "cell_type": "code",
   "execution_count": 86,
   "metadata": {
    "scrolled": false
   },
   "outputs": [
    {
     "data": {
      "text/html": [
       "<div>\n",
       "<style scoped>\n",
       "    .dataframe tbody tr th:only-of-type {\n",
       "        vertical-align: middle;\n",
       "    }\n",
       "\n",
       "    .dataframe tbody tr th {\n",
       "        vertical-align: top;\n",
       "    }\n",
       "\n",
       "    .dataframe thead th {\n",
       "        text-align: right;\n",
       "    }\n",
       "</style>\n",
       "<table border=\"1\" class=\"dataframe\">\n",
       "  <thead>\n",
       "    <tr style=\"text-align: right;\">\n",
       "      <th></th>\n",
       "      <th>26375</th>\n",
       "    </tr>\n",
       "  </thead>\n",
       "  <tbody>\n",
       "    <tr>\n",
       "      <th>Day Type</th>\n",
       "      <td>WKDY</td>\n",
       "    </tr>\n",
       "    <tr>\n",
       "      <th>Block ID</th>\n",
       "      <td>202</td>\n",
       "    </tr>\n",
       "    <tr>\n",
       "      <th>Direction</th>\n",
       "      <td>Dir = 0</td>\n",
       "    </tr>\n",
       "    <tr>\n",
       "      <th>Trip Start Time</th>\n",
       "      <td>07:15:00</td>\n",
       "    </tr>\n",
       "    <tr>\n",
       "      <th>Date</th>\n",
       "      <td>2021-01-06 00:00:00</td>\n",
       "    </tr>\n",
       "    <tr>\n",
       "      <th>Service Period</th>\n",
       "      <td>AM Peak</td>\n",
       "    </tr>\n",
       "    <tr>\n",
       "      <th>Time Point Number</th>\n",
       "      <td>4</td>\n",
       "    </tr>\n",
       "    <tr>\n",
       "      <th>Stop Name</th>\n",
       "      <td>Four Seasons Mall</td>\n",
       "    </tr>\n",
       "    <tr>\n",
       "      <th>Arrival Time</th>\n",
       "      <td>07:44:58</td>\n",
       "    </tr>\n",
       "    <tr>\n",
       "      <th>Departure Time</th>\n",
       "      <td>07:44:58</td>\n",
       "    </tr>\n",
       "    <tr>\n",
       "      <th>Scheduled Time</th>\n",
       "      <td>07:25:00</td>\n",
       "    </tr>\n",
       "    <tr>\n",
       "      <th>Schedule Deviation</th>\n",
       "      <td>19.97</td>\n",
       "    </tr>\n",
       "    <tr>\n",
       "      <th>Status</th>\n",
       "      <td>Late</td>\n",
       "    </tr>\n",
       "    <tr>\n",
       "      <th>Route</th>\n",
       "      <td>2 - Greensboro Express</td>\n",
       "    </tr>\n",
       "    <tr>\n",
       "      <th>Day of Week</th>\n",
       "      <td>Wednesday</td>\n",
       "    </tr>\n",
       "    <tr>\n",
       "      <th>Month</th>\n",
       "      <td>1</td>\n",
       "    </tr>\n",
       "  </tbody>\n",
       "</table>\n",
       "</div>"
      ],
      "text/plain": [
       "                                     26375\n",
       "Day Type                              WKDY\n",
       "Block ID                               202\n",
       "Direction                          Dir = 0\n",
       "Trip Start Time                   07:15:00\n",
       "Date                   2021-01-06 00:00:00\n",
       "Service Period                     AM Peak\n",
       "Time Point Number                        4\n",
       "Stop Name                Four Seasons Mall\n",
       "Arrival Time                      07:44:58\n",
       "Departure Time                    07:44:58\n",
       "Scheduled Time                    07:25:00\n",
       "Schedule Deviation                   19.97\n",
       "Status                                Late\n",
       "Route               2 - Greensboro Express\n",
       "Day of Week                      Wednesday\n",
       "Month                                    1"
      ]
     },
     "execution_count": 86,
     "metadata": {},
     "output_type": "execute_result"
    }
   ],
   "source": [
    "# identify the stop with the latest departure\n",
    "df.iloc[df['Schedule Deviation'].idxmax()].to_frame()"
   ]
  },
  {
   "cell_type": "markdown",
   "metadata": {},
   "source": [
    "The record with the largest schedule deviation is on Route 2 at the Four Seasons Mall. Let's dig into this a little bit..."
   ]
  },
  {
   "cell_type": "code",
   "execution_count": 87,
   "metadata": {},
   "outputs": [
    {
     "data": {
      "text/html": [
       "<div>\n",
       "<style scoped>\n",
       "    .dataframe tbody tr th:only-of-type {\n",
       "        vertical-align: middle;\n",
       "    }\n",
       "\n",
       "    .dataframe tbody tr th {\n",
       "        vertical-align: top;\n",
       "    }\n",
       "\n",
       "    .dataframe thead th {\n",
       "        text-align: right;\n",
       "    }\n",
       "</style>\n",
       "<table border=\"1\" class=\"dataframe\">\n",
       "  <thead>\n",
       "    <tr style=\"text-align: right;\">\n",
       "      <th></th>\n",
       "      <th>Day Type</th>\n",
       "      <th>Block ID</th>\n",
       "      <th>Direction</th>\n",
       "      <th>Trip Start Time</th>\n",
       "      <th>Date</th>\n",
       "      <th>Service Period</th>\n",
       "      <th>Time Point Number</th>\n",
       "      <th>Stop Name</th>\n",
       "      <th>Arrival Time</th>\n",
       "      <th>Departure Time</th>\n",
       "      <th>Scheduled Time</th>\n",
       "      <th>Schedule Deviation</th>\n",
       "      <th>Status</th>\n",
       "      <th>Route</th>\n",
       "      <th>Day of Week</th>\n",
       "      <th>Month</th>\n",
       "    </tr>\n",
       "  </thead>\n",
       "  <tbody>\n",
       "    <tr>\n",
       "      <th>8159</th>\n",
       "      <td>WKDY</td>\n",
       "      <td>202</td>\n",
       "      <td>Dir = 0</td>\n",
       "      <td>06:15:00</td>\n",
       "      <td>2021-01-06</td>\n",
       "      <td>AM Peak</td>\n",
       "      <td>0</td>\n",
       "      <td>Greensboro Depot</td>\n",
       "      <td>06:34:01</td>\n",
       "      <td>06:34:01</td>\n",
       "      <td>06:15:00</td>\n",
       "      <td>19.02</td>\n",
       "      <td>Late</td>\n",
       "      <td>2 - Greensboro Express</td>\n",
       "      <td>Wednesday</td>\n",
       "      <td>1</td>\n",
       "    </tr>\n",
       "    <tr>\n",
       "      <th>572</th>\n",
       "      <td>WKDY</td>\n",
       "      <td>202</td>\n",
       "      <td>Dir = 1</td>\n",
       "      <td>06:45:00</td>\n",
       "      <td>2021-01-06</td>\n",
       "      <td>AM Peak</td>\n",
       "      <td>0</td>\n",
       "      <td>Coble Transportation Center</td>\n",
       "      <td>07:01:44</td>\n",
       "      <td>07:03:21</td>\n",
       "      <td>06:45:00</td>\n",
       "      <td>18.83</td>\n",
       "      <td>Late</td>\n",
       "      <td>2 - Greensboro Express</td>\n",
       "      <td>Wednesday</td>\n",
       "      <td>1</td>\n",
       "    </tr>\n",
       "    <tr>\n",
       "      <th>8374</th>\n",
       "      <td>WKDY</td>\n",
       "      <td>202</td>\n",
       "      <td>Dir = 0</td>\n",
       "      <td>07:15:00</td>\n",
       "      <td>2021-01-06</td>\n",
       "      <td>AM Peak</td>\n",
       "      <td>0</td>\n",
       "      <td>Greensboro Depot</td>\n",
       "      <td>07:28:21</td>\n",
       "      <td>07:30:48</td>\n",
       "      <td>07:15:00</td>\n",
       "      <td>16.33</td>\n",
       "      <td>Late</td>\n",
       "      <td>2 - Greensboro Express</td>\n",
       "      <td>Wednesday</td>\n",
       "      <td>1</td>\n",
       "    </tr>\n",
       "    <tr>\n",
       "      <th>26375</th>\n",
       "      <td>WKDY</td>\n",
       "      <td>202</td>\n",
       "      <td>Dir = 0</td>\n",
       "      <td>07:15:00</td>\n",
       "      <td>2021-01-06</td>\n",
       "      <td>AM Peak</td>\n",
       "      <td>4</td>\n",
       "      <td>Four Seasons Mall</td>\n",
       "      <td>07:44:58</td>\n",
       "      <td>07:44:58</td>\n",
       "      <td>07:25:00</td>\n",
       "      <td>19.97</td>\n",
       "      <td>Late</td>\n",
       "      <td>2 - Greensboro Express</td>\n",
       "      <td>Wednesday</td>\n",
       "      <td>1</td>\n",
       "    </tr>\n",
       "    <tr>\n",
       "      <th>1311</th>\n",
       "      <td>WKDY</td>\n",
       "      <td>202</td>\n",
       "      <td>Dir = 1</td>\n",
       "      <td>07:45:00</td>\n",
       "      <td>2021-01-06</td>\n",
       "      <td>AM Peak</td>\n",
       "      <td>0</td>\n",
       "      <td>Coble Transportation Center</td>\n",
       "      <td>07:56:33</td>\n",
       "      <td>07:59:02</td>\n",
       "      <td>07:45:00</td>\n",
       "      <td>14.50</td>\n",
       "      <td>Late</td>\n",
       "      <td>2 - Greensboro Express</td>\n",
       "      <td>Wednesday</td>\n",
       "      <td>1</td>\n",
       "    </tr>\n",
       "    <tr>\n",
       "      <th>8537</th>\n",
       "      <td>WKDY</td>\n",
       "      <td>202</td>\n",
       "      <td>Dir = 0</td>\n",
       "      <td>08:15:00</td>\n",
       "      <td>2021-01-06</td>\n",
       "      <td>AM Peak</td>\n",
       "      <td>0</td>\n",
       "      <td>Greensboro Depot</td>\n",
       "      <td>08:25:10</td>\n",
       "      <td>08:26:29</td>\n",
       "      <td>08:15:00</td>\n",
       "      <td>11.92</td>\n",
       "      <td>Late</td>\n",
       "      <td>2 - Greensboro Express</td>\n",
       "      <td>Wednesday</td>\n",
       "      <td>1</td>\n",
       "    </tr>\n",
       "    <tr>\n",
       "      <th>26484</th>\n",
       "      <td>WKDY</td>\n",
       "      <td>202</td>\n",
       "      <td>Dir = 0</td>\n",
       "      <td>08:15:00</td>\n",
       "      <td>2021-01-06</td>\n",
       "      <td>AM Peak</td>\n",
       "      <td>4</td>\n",
       "      <td>Four Seasons Mall</td>\n",
       "      <td>08:39:17</td>\n",
       "      <td>08:39:31</td>\n",
       "      <td>08:25:00</td>\n",
       "      <td>14.68</td>\n",
       "      <td>Late</td>\n",
       "      <td>2 - Greensboro Express</td>\n",
       "      <td>Wednesday</td>\n",
       "      <td>1</td>\n",
       "    </tr>\n",
       "    <tr>\n",
       "      <th>1924</th>\n",
       "      <td>WKDY</td>\n",
       "      <td>202</td>\n",
       "      <td>Dir = 1</td>\n",
       "      <td>08:45:00</td>\n",
       "      <td>2021-01-06</td>\n",
       "      <td>AM Peak</td>\n",
       "      <td>0</td>\n",
       "      <td>Coble Transportation Center</td>\n",
       "      <td>08:51:25</td>\n",
       "      <td>08:52:00</td>\n",
       "      <td>08:45:00</td>\n",
       "      <td>7.57</td>\n",
       "      <td>Late</td>\n",
       "      <td>2 - Greensboro Express</td>\n",
       "      <td>Wednesday</td>\n",
       "      <td>1</td>\n",
       "    </tr>\n",
       "    <tr>\n",
       "      <th>14819</th>\n",
       "      <td>WKDY</td>\n",
       "      <td>202</td>\n",
       "      <td>Dir = 1</td>\n",
       "      <td>08:45:00</td>\n",
       "      <td>2021-01-06</td>\n",
       "      <td>AM Peak</td>\n",
       "      <td>1</td>\n",
       "      <td>Four Seasons Mall</td>\n",
       "      <td>09:06:55</td>\n",
       "      <td>09:06:55</td>\n",
       "      <td>08:53:00</td>\n",
       "      <td>13.92</td>\n",
       "      <td>Late</td>\n",
       "      <td>2 - Greensboro Express</td>\n",
       "      <td>Wednesday</td>\n",
       "      <td>1</td>\n",
       "    </tr>\n",
       "  </tbody>\n",
       "</table>\n",
       "</div>"
      ],
      "text/plain": [
       "      Day Type  Block ID Direction Trip Start Time       Date Service Period  \\\n",
       "8159      WKDY       202   Dir = 0        06:15:00 2021-01-06        AM Peak   \n",
       "572       WKDY       202   Dir = 1        06:45:00 2021-01-06        AM Peak   \n",
       "8374      WKDY       202   Dir = 0        07:15:00 2021-01-06        AM Peak   \n",
       "26375     WKDY       202   Dir = 0        07:15:00 2021-01-06        AM Peak   \n",
       "1311      WKDY       202   Dir = 1        07:45:00 2021-01-06        AM Peak   \n",
       "8537      WKDY       202   Dir = 0        08:15:00 2021-01-06        AM Peak   \n",
       "26484     WKDY       202   Dir = 0        08:15:00 2021-01-06        AM Peak   \n",
       "1924      WKDY       202   Dir = 1        08:45:00 2021-01-06        AM Peak   \n",
       "14819     WKDY       202   Dir = 1        08:45:00 2021-01-06        AM Peak   \n",
       "\n",
       "       Time Point Number                    Stop Name Arrival Time  \\\n",
       "8159                   0             Greensboro Depot     06:34:01   \n",
       "572                    0  Coble Transportation Center     07:01:44   \n",
       "8374                   0             Greensboro Depot     07:28:21   \n",
       "26375                  4            Four Seasons Mall     07:44:58   \n",
       "1311                   0  Coble Transportation Center     07:56:33   \n",
       "8537                   0             Greensboro Depot     08:25:10   \n",
       "26484                  4            Four Seasons Mall     08:39:17   \n",
       "1924                   0  Coble Transportation Center     08:51:25   \n",
       "14819                  1            Four Seasons Mall     09:06:55   \n",
       "\n",
       "      Departure Time Scheduled Time  Schedule Deviation Status  \\\n",
       "8159        06:34:01       06:15:00               19.02   Late   \n",
       "572         07:03:21       06:45:00               18.83   Late   \n",
       "8374        07:30:48       07:15:00               16.33   Late   \n",
       "26375       07:44:58       07:25:00               19.97   Late   \n",
       "1311        07:59:02       07:45:00               14.50   Late   \n",
       "8537        08:26:29       08:15:00               11.92   Late   \n",
       "26484       08:39:31       08:25:00               14.68   Late   \n",
       "1924        08:52:00       08:45:00                7.57   Late   \n",
       "14819       09:06:55       08:53:00               13.92   Late   \n",
       "\n",
       "                        Route Day of Week Month  \n",
       "8159   2 - Greensboro Express   Wednesday     1  \n",
       "572    2 - Greensboro Express   Wednesday     1  \n",
       "8374   2 - Greensboro Express   Wednesday     1  \n",
       "26375  2 - Greensboro Express   Wednesday     1  \n",
       "1311   2 - Greensboro Express   Wednesday     1  \n",
       "8537   2 - Greensboro Express   Wednesday     1  \n",
       "26484  2 - Greensboro Express   Wednesday     1  \n",
       "1924   2 - Greensboro Express   Wednesday     1  \n",
       "14819  2 - Greensboro Express   Wednesday     1  "
      ]
     },
     "execution_count": 87,
     "metadata": {},
     "output_type": "execute_result"
    }
   ],
   "source": [
    "df[\n",
    "    (df['Block ID'] == 202) &\n",
    "    (df['Date'] == '2021-01-06') &\n",
    "    (df['Service Period'] == 'AM Peak')\n",
    "].sort_values(by='Arrival Time')"
   ]
  },
  {
   "cell_type": "markdown",
   "metadata": {},
   "source": [
    "It appears that the vehicle got a late start first thing in the morning and remained behind all day. Will confirm using the TransLoc Instant Replay feature. The vehicle was late that morning. On TransLoc, the vehicle pulls into the Greensboro Depot around 6:30 AM so the APC data seems to be off by just a few minutes."
   ]
  },
  {
   "cell_type": "code",
   "execution_count": 88,
   "metadata": {
    "scrolled": false
   },
   "outputs": [
    {
     "data": {
      "text/html": [
       "<div>\n",
       "<style scoped>\n",
       "    .dataframe tbody tr th:only-of-type {\n",
       "        vertical-align: middle;\n",
       "    }\n",
       "\n",
       "    .dataframe tbody tr th {\n",
       "        vertical-align: top;\n",
       "    }\n",
       "\n",
       "    .dataframe thead th {\n",
       "        text-align: right;\n",
       "    }\n",
       "</style>\n",
       "<table border=\"1\" class=\"dataframe\">\n",
       "  <thead>\n",
       "    <tr style=\"text-align: right;\">\n",
       "      <th></th>\n",
       "      <th>37454</th>\n",
       "    </tr>\n",
       "  </thead>\n",
       "  <tbody>\n",
       "    <tr>\n",
       "      <th>Day Type</th>\n",
       "      <td>WKDY</td>\n",
       "    </tr>\n",
       "    <tr>\n",
       "      <th>Block ID</th>\n",
       "      <td>1003</td>\n",
       "    </tr>\n",
       "    <tr>\n",
       "      <th>Direction</th>\n",
       "      <td>Dir = 1</td>\n",
       "    </tr>\n",
       "    <tr>\n",
       "      <th>Trip Start Time</th>\n",
       "      <td>16:30:00</td>\n",
       "    </tr>\n",
       "    <tr>\n",
       "      <th>Date</th>\n",
       "      <td>2020-12-11 00:00:00</td>\n",
       "    </tr>\n",
       "    <tr>\n",
       "      <th>Service Period</th>\n",
       "      <td>PM Peak</td>\n",
       "    </tr>\n",
       "    <tr>\n",
       "      <th>Time Point Number</th>\n",
       "      <td>6</td>\n",
       "    </tr>\n",
       "    <tr>\n",
       "      <th>Stop Name</th>\n",
       "      <td>North Asheboro Park &amp; Ride</td>\n",
       "    </tr>\n",
       "    <tr>\n",
       "      <th>Arrival Time</th>\n",
       "      <td>17:06:01</td>\n",
       "    </tr>\n",
       "    <tr>\n",
       "      <th>Departure Time</th>\n",
       "      <td>17:06:01</td>\n",
       "    </tr>\n",
       "    <tr>\n",
       "      <th>Scheduled Time</th>\n",
       "      <td>17:16:00</td>\n",
       "    </tr>\n",
       "    <tr>\n",
       "      <th>Schedule Deviation</th>\n",
       "      <td>-9.98</td>\n",
       "    </tr>\n",
       "    <tr>\n",
       "      <th>Status</th>\n",
       "      <td>Early</td>\n",
       "    </tr>\n",
       "    <tr>\n",
       "      <th>Route</th>\n",
       "      <td>10 - Randolph Express</td>\n",
       "    </tr>\n",
       "    <tr>\n",
       "      <th>Day of Week</th>\n",
       "      <td>Friday</td>\n",
       "    </tr>\n",
       "    <tr>\n",
       "      <th>Month</th>\n",
       "      <td>12</td>\n",
       "    </tr>\n",
       "  </tbody>\n",
       "</table>\n",
       "</div>"
      ],
      "text/plain": [
       "                                         37454\n",
       "Day Type                                  WKDY\n",
       "Block ID                                  1003\n",
       "Direction                              Dir = 1\n",
       "Trip Start Time                       16:30:00\n",
       "Date                       2020-12-11 00:00:00\n",
       "Service Period                         PM Peak\n",
       "Time Point Number                            6\n",
       "Stop Name           North Asheboro Park & Ride\n",
       "Arrival Time                          17:06:01\n",
       "Departure Time                        17:06:01\n",
       "Scheduled Time                        17:16:00\n",
       "Schedule Deviation                       -9.98\n",
       "Status                                   Early\n",
       "Route                    10 - Randolph Express\n",
       "Day of Week                             Friday\n",
       "Month                                       12"
      ]
     },
     "execution_count": 88,
     "metadata": {},
     "output_type": "execute_result"
    }
   ],
   "source": [
    "# identify the stop with the earliest departure\n",
    "df.iloc[df['Schedule Deviation'].idxmin()].to_frame()"
   ]
  },
  {
   "cell_type": "code",
   "execution_count": 89,
   "metadata": {},
   "outputs": [
    {
     "data": {
      "text/html": [
       "<div>\n",
       "<style scoped>\n",
       "    .dataframe tbody tr th:only-of-type {\n",
       "        vertical-align: middle;\n",
       "    }\n",
       "\n",
       "    .dataframe tbody tr th {\n",
       "        vertical-align: top;\n",
       "    }\n",
       "\n",
       "    .dataframe thead th {\n",
       "        text-align: right;\n",
       "    }\n",
       "</style>\n",
       "<table border=\"1\" class=\"dataframe\">\n",
       "  <thead>\n",
       "    <tr style=\"text-align: right;\">\n",
       "      <th></th>\n",
       "      <th>Day Type</th>\n",
       "      <th>Block ID</th>\n",
       "      <th>Direction</th>\n",
       "      <th>Trip Start Time</th>\n",
       "      <th>Date</th>\n",
       "      <th>Service Period</th>\n",
       "      <th>Time Point Number</th>\n",
       "      <th>Stop Name</th>\n",
       "      <th>Arrival Time</th>\n",
       "      <th>Departure Time</th>\n",
       "      <th>Scheduled Time</th>\n",
       "      <th>Schedule Deviation</th>\n",
       "      <th>Status</th>\n",
       "      <th>Route</th>\n",
       "      <th>Day of Week</th>\n",
       "      <th>Month</th>\n",
       "    </tr>\n",
       "  </thead>\n",
       "  <tbody>\n",
       "    <tr>\n",
       "      <th>9259</th>\n",
       "      <td>WKDY</td>\n",
       "      <td>1003</td>\n",
       "      <td>Dir = 1</td>\n",
       "      <td>16:30:00</td>\n",
       "      <td>2020-12-11</td>\n",
       "      <td>PM Peak</td>\n",
       "      <td>0</td>\n",
       "      <td>Greensboro Depot</td>\n",
       "      <td>16:26:13</td>\n",
       "      <td>16:29:09</td>\n",
       "      <td>16:30:00</td>\n",
       "      <td>0.33</td>\n",
       "      <td>On Time</td>\n",
       "      <td>10 - Randolph Express</td>\n",
       "      <td>Friday</td>\n",
       "      <td>12</td>\n",
       "    </tr>\n",
       "    <tr>\n",
       "      <th>18553</th>\n",
       "      <td>WKDY</td>\n",
       "      <td>1003</td>\n",
       "      <td>Dir = 1</td>\n",
       "      <td>16:30:00</td>\n",
       "      <td>2020-12-11</td>\n",
       "      <td>PM Peak</td>\n",
       "      <td>2</td>\n",
       "      <td>Gate City Blvd &amp; Glenwood Ave</td>\n",
       "      <td>16:35:33</td>\n",
       "      <td>16:35:33</td>\n",
       "      <td>16:38:00</td>\n",
       "      <td>-2.45</td>\n",
       "      <td>Early</td>\n",
       "      <td>10 - Randolph Express</td>\n",
       "      <td>Friday</td>\n",
       "      <td>12</td>\n",
       "    </tr>\n",
       "    <tr>\n",
       "      <th>25656</th>\n",
       "      <td>WKDY</td>\n",
       "      <td>1003</td>\n",
       "      <td>Dir = 1</td>\n",
       "      <td>16:30:00</td>\n",
       "      <td>2020-12-11</td>\n",
       "      <td>PM Peak</td>\n",
       "      <td>4</td>\n",
       "      <td>Coliseum &amp; Freeman Mill</td>\n",
       "      <td>16:40:35</td>\n",
       "      <td>16:40:35</td>\n",
       "      <td>16:42:00</td>\n",
       "      <td>-1.42</td>\n",
       "      <td>Early</td>\n",
       "      <td>10 - Randolph Express</td>\n",
       "      <td>Friday</td>\n",
       "      <td>12</td>\n",
       "    </tr>\n",
       "    <tr>\n",
       "      <th>35373</th>\n",
       "      <td>WKDY</td>\n",
       "      <td>1003</td>\n",
       "      <td>Dir = 1</td>\n",
       "      <td>16:30:00</td>\n",
       "      <td>2020-12-11</td>\n",
       "      <td>PM Peak</td>\n",
       "      <td>5</td>\n",
       "      <td>Randleman Park &amp; Ride</td>\n",
       "      <td>16:56:58</td>\n",
       "      <td>16:56:58</td>\n",
       "      <td>17:02:00</td>\n",
       "      <td>-5.03</td>\n",
       "      <td>Early</td>\n",
       "      <td>10 - Randolph Express</td>\n",
       "      <td>Friday</td>\n",
       "      <td>12</td>\n",
       "    </tr>\n",
       "    <tr>\n",
       "      <th>37454</th>\n",
       "      <td>WKDY</td>\n",
       "      <td>1003</td>\n",
       "      <td>Dir = 1</td>\n",
       "      <td>16:30:00</td>\n",
       "      <td>2020-12-11</td>\n",
       "      <td>PM Peak</td>\n",
       "      <td>6</td>\n",
       "      <td>North Asheboro Park &amp; Ride</td>\n",
       "      <td>17:06:01</td>\n",
       "      <td>17:06:01</td>\n",
       "      <td>17:16:00</td>\n",
       "      <td>-9.98</td>\n",
       "      <td>Early</td>\n",
       "      <td>10 - Randolph Express</td>\n",
       "      <td>Friday</td>\n",
       "      <td>12</td>\n",
       "    </tr>\n",
       "    <tr>\n",
       "      <th>40188</th>\n",
       "      <td>WKDY</td>\n",
       "      <td>1003</td>\n",
       "      <td>Dir = 1</td>\n",
       "      <td>16:30:00</td>\n",
       "      <td>2020-12-11</td>\n",
       "      <td>PM Peak</td>\n",
       "      <td>7</td>\n",
       "      <td>Randolph Health</td>\n",
       "      <td>17:21:43</td>\n",
       "      <td>17:21:43</td>\n",
       "      <td>17:21:00</td>\n",
       "      <td>0.72</td>\n",
       "      <td>On Time</td>\n",
       "      <td>10 - Randolph Express</td>\n",
       "      <td>Friday</td>\n",
       "      <td>12</td>\n",
       "    </tr>\n",
       "    <tr>\n",
       "      <th>44423</th>\n",
       "      <td>WKDY</td>\n",
       "      <td>1003</td>\n",
       "      <td>Dir = 1</td>\n",
       "      <td>16:30:00</td>\n",
       "      <td>2020-12-11</td>\n",
       "      <td>PM Peak</td>\n",
       "      <td>9</td>\n",
       "      <td>Randolph Community College</td>\n",
       "      <td>17:29:29</td>\n",
       "      <td>17:29:29</td>\n",
       "      <td>17:28:00</td>\n",
       "      <td>1.48</td>\n",
       "      <td>On Time</td>\n",
       "      <td>10 - Randolph Express</td>\n",
       "      <td>Friday</td>\n",
       "      <td>12</td>\n",
       "    </tr>\n",
       "  </tbody>\n",
       "</table>\n",
       "</div>"
      ],
      "text/plain": [
       "      Day Type  Block ID Direction Trip Start Time       Date Service Period  \\\n",
       "9259      WKDY      1003   Dir = 1        16:30:00 2020-12-11        PM Peak   \n",
       "18553     WKDY      1003   Dir = 1        16:30:00 2020-12-11        PM Peak   \n",
       "25656     WKDY      1003   Dir = 1        16:30:00 2020-12-11        PM Peak   \n",
       "35373     WKDY      1003   Dir = 1        16:30:00 2020-12-11        PM Peak   \n",
       "37454     WKDY      1003   Dir = 1        16:30:00 2020-12-11        PM Peak   \n",
       "40188     WKDY      1003   Dir = 1        16:30:00 2020-12-11        PM Peak   \n",
       "44423     WKDY      1003   Dir = 1        16:30:00 2020-12-11        PM Peak   \n",
       "\n",
       "       Time Point Number                      Stop Name Arrival Time  \\\n",
       "9259                   0               Greensboro Depot     16:26:13   \n",
       "18553                  2  Gate City Blvd & Glenwood Ave     16:35:33   \n",
       "25656                  4        Coliseum & Freeman Mill     16:40:35   \n",
       "35373                  5          Randleman Park & Ride     16:56:58   \n",
       "37454                  6     North Asheboro Park & Ride     17:06:01   \n",
       "40188                  7                Randolph Health     17:21:43   \n",
       "44423                  9     Randolph Community College     17:29:29   \n",
       "\n",
       "      Departure Time Scheduled Time  Schedule Deviation   Status  \\\n",
       "9259        16:29:09       16:30:00                0.33  On Time   \n",
       "18553       16:35:33       16:38:00               -2.45    Early   \n",
       "25656       16:40:35       16:42:00               -1.42    Early   \n",
       "35373       16:56:58       17:02:00               -5.03    Early   \n",
       "37454       17:06:01       17:16:00               -9.98    Early   \n",
       "40188       17:21:43       17:21:00                0.72  On Time   \n",
       "44423       17:29:29       17:28:00                1.48  On Time   \n",
       "\n",
       "                       Route Day of Week Month  \n",
       "9259   10 - Randolph Express      Friday    12  \n",
       "18553  10 - Randolph Express      Friday    12  \n",
       "25656  10 - Randolph Express      Friday    12  \n",
       "35373  10 - Randolph Express      Friday    12  \n",
       "37454  10 - Randolph Express      Friday    12  \n",
       "40188  10 - Randolph Express      Friday    12  \n",
       "44423  10 - Randolph Express      Friday    12  "
      ]
     },
     "execution_count": 89,
     "metadata": {},
     "output_type": "execute_result"
    }
   ],
   "source": [
    "df[\n",
    "    (df['Block ID'] == 1003) &\n",
    "    (df['Date'] == '2020-12-11') &\n",
    "    (pd.to_datetime(df['Trip Start Time'], format='%H:%M:%S') == pd.to_datetime('16:30:00', format='%H:%M:%S'))\n",
    "].sort_values(by='Arrival Time')"
   ]
  },
  {
   "cell_type": "markdown",
   "metadata": {},
   "source": [
    "Looking at the table above, we can see that Route 10 left Greensboro on time. It passed the Gate City & Glenwood stop about two and half minutes early and continued to be early until it reached Asheboro at the Randolph Health stop. I will confirm that the vehicle pulled out of the N. Asheboro Park & Ride Lot early using the TransLoc Instant Replay feature...After watching the Instant Replay, the vehicle did arrive around 5:06 PM but did not leave until 5:16 PM. "
   ]
  },
  {
   "cell_type": "markdown",
   "metadata": {},
   "source": [
    "  "
   ]
  },
  {
   "cell_type": "markdown",
   "metadata": {},
   "source": [
    "Now that we've examined the two extremes of the data set, let's take a look at the performance overall."
   ]
  },
  {
   "cell_type": "code",
   "execution_count": 90,
   "metadata": {},
   "outputs": [
    {
     "data": {
      "text/html": [
       "<style  type=\"text/css\" >\n",
       "</style><table id=\"T_e8dfa_\" ><thead>    <tr>        <th class=\"blank level0\" ></th>        <th class=\"col_heading level0 col0\" >Count</th>        <th class=\"col_heading level0 col1\" >Percentage</th>    </tr>    <tr>        <th class=\"index_name level0\" >Status</th>        <th class=\"blank\" ></th>        <th class=\"blank\" ></th>    </tr></thead><tbody>\n",
       "                <tr>\n",
       "                        <th id=\"T_e8dfa_level0_row0\" class=\"row_heading level0 row0\" >Late</th>\n",
       "                        <td id=\"T_e8dfa_row0_col0\" class=\"data row0 col0\" >5,230</td>\n",
       "                        <td id=\"T_e8dfa_row0_col1\" class=\"data row0 col1\" >11.29%</td>\n",
       "            </tr>\n",
       "            <tr>\n",
       "                        <th id=\"T_e8dfa_level0_row1\" class=\"row_heading level0 row1\" >Early</th>\n",
       "                        <td id=\"T_e8dfa_row1_col0\" class=\"data row1 col0\" >5,634</td>\n",
       "                        <td id=\"T_e8dfa_row1_col1\" class=\"data row1 col1\" >12.16%</td>\n",
       "            </tr>\n",
       "            <tr>\n",
       "                        <th id=\"T_e8dfa_level0_row2\" class=\"row_heading level0 row2\" >On Time</th>\n",
       "                        <td id=\"T_e8dfa_row2_col0\" class=\"data row2 col0\" >35,478</td>\n",
       "                        <td id=\"T_e8dfa_row2_col1\" class=\"data row2 col1\" >76.56%</td>\n",
       "            </tr>\n",
       "    </tbody></table>"
      ],
      "text/plain": [
       "<pandas.io.formats.style.Styler at 0x2ac1c73e608>"
      ]
     },
     "execution_count": 90,
     "metadata": {},
     "output_type": "execute_result"
    }
   ],
   "source": [
    "otp_performance = df.groupby('Status').size().sort_values().to_frame()\n",
    "otp_performance.rename(columns={0: 'Count'}, inplace=True)\n",
    "otp_performance['Percentage'] = otp_performance['Count'] / len_of_df\n",
    "otp_performance.style.format({'Count': '{:,}', 'Percentage': '{:.2%}'})"
   ]
  },
  {
   "cell_type": "code",
   "execution_count": 91,
   "metadata": {
    "scrolled": false
   },
   "outputs": [
    {
     "data": {
      "image/png": "[encoded data removed]",
      "text/plain": [
       "<Figure size 720x432 with 1 Axes>"
      ]
     },
     "metadata": {
      "needs_background": "light"
     },
     "output_type": "display_data"
    }
   ],
   "source": [
    "plt.figure(figsize=(10,6))\n",
    "ax = sns.barplot(x=otp_performance.index, y='Count', data=otp_performance, palette='Spectral')\n",
    "plt.xlabel('Status',fontsize=13)\n",
    "plt.ylabel('Count',fontsize=13)\n",
    "plt.title('On-time Performance', fontsize=15)\n",
    "sns.despine()\n",
    "plt.show()"
   ]
  },
  {
   "cell_type": "markdown",
   "metadata": {},
   "source": [
    "Looking at the entire data set, we can see that the majority of records are on-time. This represents about 76% on-time performance. The data set is evenly split between late and early. Let's examine how late or early PART Express vehicles are."
   ]
  },
  {
   "cell_type": "code",
   "execution_count": 92,
   "metadata": {
    "scrolled": false
   },
   "outputs": [
    {
     "data": {
      "image/png": "[encoded data removed]",
      "text/plain": [
       "<Figure size 756x432 with 1 Axes>"
      ]
     },
     "metadata": {
      "needs_background": "light"
     },
     "output_type": "display_data"
    }
   ],
   "source": [
    "mean = round(df['Schedule Deviation'].mean(), 2)\n",
    "\n",
    "# create histogram for schedule deviation\n",
    "ax = sns.displot(df, x='Schedule Deviation', bins=70, height=6, aspect=1.75)\n",
    "plt.axvline(mean, 0, 0.9, color='red', ls='--', lw=2.6)\n",
    "plt.text(2.12, 4550, 'mean, ' + str(mean), size='large')\n",
    "plt.xlabel('Schedule Deviation (minutes)',fontsize=13)\n",
    "plt.ylabel('Count',fontsize=13)\n",
    "plt.title('Distribution of Schedule Deviation', fontsize=15)\n",
    "plt.show()"
   ]
  },
  {
   "cell_type": "code",
   "execution_count": 93,
   "metadata": {
    "scrolled": false
   },
   "outputs": [
    {
     "data": {
      "image/png": "[encoded data removed]",
      "text/plain": [
       "<Figure size 1123.2x432 with 4 Axes>"
      ]
     },
     "metadata": {
      "needs_background": "light"
     },
     "output_type": "display_data"
    }
   ],
   "source": [
    "ax = sns.displot(\n",
    "    df,\n",
    "    x='Schedule Deviation',\n",
    "    bins=40,\n",
    "    col='Service Period',\n",
    "    col_order=['AM Peak', 'Off Peak', 'PM Peak', 'Evening'],\n",
    "    height=6,\n",
    "    aspect=0.65\n",
    ")"
   ]
  },
  {
   "cell_type": "code",
   "execution_count": 94,
   "metadata": {
    "scrolled": false
   },
   "outputs": [
    {
     "data": {
      "image/png": "[encoded data removed]",
      "text/plain": [
       "<Figure size 990x360 with 5 Axes>"
      ]
     },
     "metadata": {
      "needs_background": "light"
     },
     "output_type": "display_data"
    }
   ],
   "source": [
    "ax = sns.displot(\n",
    "    df,\n",
    "    x='Schedule Deviation',\n",
    "    bins=30,\n",
    "    col='Day of Week',\n",
    "    col_order=['Monday', 'Tuesday', 'Wednesday', 'Thursday', 'Friday'],\n",
    "    height=5,\n",
    "    aspect=0.55\n",
    ")"
   ]
  },
  {
   "cell_type": "markdown",
   "metadata": {},
   "source": [
    "The distributions above all look pretty similar with the exception of Evening service. However, this can be explained by the Evening service period not having as much service as the other service periods. Let's look at how the individual routes have performed.\n"
   ]
  },
  {
   "cell_type": "code",
   "execution_count": 95,
   "metadata": {},
   "outputs": [],
   "source": [
    "# get number of records by route\n",
    "route1 = len(df[df['Route'] == '1 - Winston-Salem Express'])\n",
    "route2 = len(df[df['Route'] == '2 - Greensboro Express'])\n",
    "route3 = len(df[df['Route'] == '3 - High Point Express'])\n",
    "route4 = len(df[df['Route'] == '4 - Alamance-Burlington Express'])\n",
    "route6 = len(df[df['Route'] == '6 - Surry County Express'])\n",
    "route9 = len(df[df['Route'] == '9 - Davidson Business 85 Express'])\n",
    "route10 = len(df[df['Route'] == '10 - Randolph Express'])\n",
    "route17 = len(df[df['Route'] == '17 - Kernersville Express'])\n",
    "route20 = len(df[df['Route'] == '20 - NW Pleasant Ridge'])\n",
    "route21 = len(df[df['Route'] == '21 - NE Chimney Rock'])\n",
    "route22 = len(df[df['Route'] == '22 - SW Sandy Ridge'])\n",
    "route23 = len(df[df['Route'] == '23 - SE Piedmont Parkway'])\n",
    "route24 = len(df[df['Route'] == '24 - Burgess/Regional Rd'])"
   ]
  },
  {
   "cell_type": "code",
   "execution_count": 96,
   "metadata": {},
   "outputs": [
    {
     "data": {
      "text/html": [
       "<style  type=\"text/css\" >\n",
       "</style><table id=\"T_e998f_\" ><thead>    <tr>        <th class=\"index_name level0\" >Status</th>        <th class=\"col_heading level0 col0\" >On Time</th>        <th class=\"col_heading level0 col1\" >Early</th>        <th class=\"col_heading level0 col2\" >Late</th>    </tr>    <tr>        <th class=\"index_name level0\" >Route</th>        <th class=\"blank\" ></th>        <th class=\"blank\" ></th>        <th class=\"blank\" ></th>    </tr></thead><tbody>\n",
       "                <tr>\n",
       "                        <th id=\"T_e998f_level0_row0\" class=\"row_heading level0 row0\" >Route 1 Per</th>\n",
       "                        <td id=\"T_e998f_row0_col0\" class=\"data row0 col0\" >84.35%</td>\n",
       "                        <td id=\"T_e998f_row0_col1\" class=\"data row0 col1\" >0.85%</td>\n",
       "                        <td id=\"T_e998f_row0_col2\" class=\"data row0 col2\" >14.81%</td>\n",
       "            </tr>\n",
       "            <tr>\n",
       "                        <th id=\"T_e998f_level0_row1\" class=\"row_heading level0 row1\" >Route 2 Per</th>\n",
       "                        <td id=\"T_e998f_row1_col0\" class=\"data row1 col0\" >66.80%</td>\n",
       "                        <td id=\"T_e998f_row1_col1\" class=\"data row1 col1\" >0.57%</td>\n",
       "                        <td id=\"T_e998f_row1_col2\" class=\"data row1 col2\" >32.62%</td>\n",
       "            </tr>\n",
       "            <tr>\n",
       "                        <th id=\"T_e998f_level0_row2\" class=\"row_heading level0 row2\" >Route 3 Per</th>\n",
       "                        <td id=\"T_e998f_row2_col0\" class=\"data row2 col0\" >91.10%</td>\n",
       "                        <td id=\"T_e998f_row2_col1\" class=\"data row2 col1\" >4.21%</td>\n",
       "                        <td id=\"T_e998f_row2_col2\" class=\"data row2 col2\" >4.68%</td>\n",
       "            </tr>\n",
       "            <tr>\n",
       "                        <th id=\"T_e998f_level0_row3\" class=\"row_heading level0 row3\" >Route 4 Per</th>\n",
       "                        <td id=\"T_e998f_row3_col0\" class=\"data row3 col0\" >74.42%</td>\n",
       "                        <td id=\"T_e998f_row3_col1\" class=\"data row3 col1\" >8.58%</td>\n",
       "                        <td id=\"T_e998f_row3_col2\" class=\"data row3 col2\" >16.99%</td>\n",
       "            </tr>\n",
       "            <tr>\n",
       "                        <th id=\"T_e998f_level0_row4\" class=\"row_heading level0 row4\" >Route 6 Per</th>\n",
       "                        <td id=\"T_e998f_row4_col0\" class=\"data row4 col0\" >66.06%</td>\n",
       "                        <td id=\"T_e998f_row4_col1\" class=\"data row4 col1\" >16.44%</td>\n",
       "                        <td id=\"T_e998f_row4_col2\" class=\"data row4 col2\" >17.50%</td>\n",
       "            </tr>\n",
       "            <tr>\n",
       "                        <th id=\"T_e998f_level0_row5\" class=\"row_heading level0 row5\" >Route 9 Per</th>\n",
       "                        <td id=\"T_e998f_row5_col0\" class=\"data row5 col0\" >64.77%</td>\n",
       "                        <td id=\"T_e998f_row5_col1\" class=\"data row5 col1\" >22.91%</td>\n",
       "                        <td id=\"T_e998f_row5_col2\" class=\"data row5 col2\" >12.31%</td>\n",
       "            </tr>\n",
       "            <tr>\n",
       "                        <th id=\"T_e998f_level0_row6\" class=\"row_heading level0 row6\" >Route 10 Per</th>\n",
       "                        <td id=\"T_e998f_row6_col0\" class=\"data row6 col0\" >62.82%</td>\n",
       "                        <td id=\"T_e998f_row6_col1\" class=\"data row6 col1\" >19.76%</td>\n",
       "                        <td id=\"T_e998f_row6_col2\" class=\"data row6 col2\" >17.42%</td>\n",
       "            </tr>\n",
       "            <tr>\n",
       "                        <th id=\"T_e998f_level0_row7\" class=\"row_heading level0 row7\" >Route 17 Per</th>\n",
       "                        <td id=\"T_e998f_row7_col0\" class=\"data row7 col0\" >79.34%</td>\n",
       "                        <td id=\"T_e998f_row7_col1\" class=\"data row7 col1\" >15.87%</td>\n",
       "                        <td id=\"T_e998f_row7_col2\" class=\"data row7 col2\" >4.79%</td>\n",
       "            </tr>\n",
       "            <tr>\n",
       "                        <th id=\"T_e998f_level0_row8\" class=\"row_heading level0 row8\" >Route 20 Per</th>\n",
       "                        <td id=\"T_e998f_row8_col0\" class=\"data row8 col0\" >68.70%</td>\n",
       "                        <td id=\"T_e998f_row8_col1\" class=\"data row8 col1\" >29.56%</td>\n",
       "                        <td id=\"T_e998f_row8_col2\" class=\"data row8 col2\" >1.75%</td>\n",
       "            </tr>\n",
       "            <tr>\n",
       "                        <th id=\"T_e998f_level0_row9\" class=\"row_heading level0 row9\" >Route 21 Per</th>\n",
       "                        <td id=\"T_e998f_row9_col0\" class=\"data row9 col0\" >90.95%</td>\n",
       "                        <td id=\"T_e998f_row9_col1\" class=\"data row9 col1\" >7.00%</td>\n",
       "                        <td id=\"T_e998f_row9_col2\" class=\"data row9 col2\" >2.05%</td>\n",
       "            </tr>\n",
       "            <tr>\n",
       "                        <th id=\"T_e998f_level0_row10\" class=\"row_heading level0 row10\" >Route 22 Per</th>\n",
       "                        <td id=\"T_e998f_row10_col0\" class=\"data row10 col0\" >95.33%</td>\n",
       "                        <td id=\"T_e998f_row10_col1\" class=\"data row10 col1\" >1.67%</td>\n",
       "                        <td id=\"T_e998f_row10_col2\" class=\"data row10 col2\" >3.00%</td>\n",
       "            </tr>\n",
       "            <tr>\n",
       "                        <th id=\"T_e998f_level0_row11\" class=\"row_heading level0 row11\" >Route 23 Per</th>\n",
       "                        <td id=\"T_e998f_row11_col0\" class=\"data row11 col0\" >69.54%</td>\n",
       "                        <td id=\"T_e998f_row11_col1\" class=\"data row11 col1\" >28.44%</td>\n",
       "                        <td id=\"T_e998f_row11_col2\" class=\"data row11 col2\" >2.01%</td>\n",
       "            </tr>\n",
       "            <tr>\n",
       "                        <th id=\"T_e998f_level0_row12\" class=\"row_heading level0 row12\" >Route 24 Per</th>\n",
       "                        <td id=\"T_e998f_row12_col0\" class=\"data row12 col0\" >91.17%</td>\n",
       "                        <td id=\"T_e998f_row12_col1\" class=\"data row12 col1\" >6.45%</td>\n",
       "                        <td id=\"T_e998f_row12_col2\" class=\"data row12 col2\" >2.38%</td>\n",
       "            </tr>\n",
       "    </tbody></table>"
      ],
      "text/plain": [
       "<pandas.io.formats.style.Styler at 0x2ac16f003c8>"
      ]
     },
     "execution_count": 96,
     "metadata": {},
     "output_type": "execute_result"
    }
   ],
   "source": [
    "# breakdown status by route\n",
    "status_by_route = pd.crosstab(\n",
    "    index=df['Status'],\n",
    "    columns=df['Route']\n",
    ")\n",
    "\n",
    "status_by_route['Route 1 Per'] = status_by_route['1 - Winston-Salem Express'] / route1\n",
    "status_by_route['Route 2 Per'] = status_by_route['2 - Greensboro Express'] / route2\n",
    "status_by_route['Route 3 Per'] = status_by_route['3 - High Point Express'] / route3\n",
    "status_by_route['Route 4 Per'] = status_by_route['4 - Alamance-Burlington Express'] / route4\n",
    "status_by_route['Route 6 Per'] = status_by_route['6 - Surry County Express'] / route6\n",
    "status_by_route['Route 9 Per'] = status_by_route['9 - Davidson Business 85 Express'] / route9\n",
    "status_by_route['Route 10 Per'] = status_by_route['10 - Randolph Express'] / route10\n",
    "status_by_route['Route 17 Per'] = status_by_route['17 - Kernersville Express'] / route17\n",
    "status_by_route['Route 20 Per'] = status_by_route['20 - NW Pleasant Ridge'] / route20\n",
    "status_by_route['Route 21 Per'] = status_by_route['21 - NE Chimney Rock'] / route21\n",
    "status_by_route['Route 22 Per'] = status_by_route['22 - SW Sandy Ridge'] / route22\n",
    "status_by_route['Route 23 Per'] = status_by_route['23 - SE Piedmont Parkway'] / route23\n",
    "status_by_route['Route 24 Per'] = status_by_route['24 - Burgess/Regional Rd'] / route24\n",
    "\n",
    "# identify columns to keep\n",
    "cols = [\n",
    "    'Route 1 Per', 'Route 2 Per', 'Route 3 Per', 'Route 4 Per', 'Route 6 Per','Route 9 Per',\n",
    "    'Route 10 Per','Route 17 Per','Route 20 Per', 'Route 21 Per', 'Route 22 Per', 'Route 23 Per',\n",
    "    'Route 24 Per'\n",
    "]\n",
    "\n",
    "# select only columns of interest and transpose the dataframe\n",
    "status_by_route = status_by_route[cols].transpose()[['On Time', 'Early', 'Late']]\n",
    "\n",
    "# print out styled dataframe\n",
    "status_by_route.style.format({\n",
    "    'On Time': '{:.2%}', 'Early': '{:.2%}', 'Late': '{:.2%}'\n",
    "})"
   ]
  },
  {
   "cell_type": "markdown",
   "metadata": {},
   "source": [
    "We can see that the Urban express routes have mostly great on-time performance, except for Route 2. It appears to be late about 32% of the time. The Rural routes tend to be early quite often. However, looking back to the Route 10 example above, these routes may not be that early. Further analysis should be conducted. The shuttles, 21, 22, and 24 have exceptional on-time performance. Routes 20 and 23 are about 30% early. Again, this may be the result of faulty data and should be analyzed further."
   ]
  },
  {
   "cell_type": "code",
   "execution_count": 125,
   "metadata": {},
   "outputs": [
    {
     "data": {
      "image/png": "[encoded data removed]",
      "text/plain": [
       "<Figure size 1152x864 with 1 Axes>"
      ]
     },
     "metadata": {
      "needs_background": "light"
     },
     "output_type": "display_data"
    }
   ],
   "source": [
    "order = [\n",
    "    '1 - Winston-Salem Express', '2 - Greensboro Express', '3 - High Point Express',\n",
    "    '4 - Alamance-Burlington Express', '6 - Surry County Express',\n",
    "    '9 - Davidson Business 85 Express', '10 - Randolph Express', \n",
    "    '17 - Kernersville Express', '20 - NW Pleasant Ridge', '21 - NE Chimney Rock',\n",
    "    '22 - SW Sandy Ridge', '23 - SE Piedmont Parkway', '24 - Burgess/Regional Rd'\n",
    "]\n",
    "\n",
    "plt.figure(figsize=(16,12))\n",
    "ax = sns.boxplot(x='Schedule Deviation', y='Route', data=df, order=order, orient='h')\n",
    "plt.axvline(-1, 0, 1, color='gray', ls='--', lw=1.75)\n",
    "plt.axvline(5.5, 0, 1, color='gray', ls='--', lw=1.75)\n",
    "plt.title('Schedule Deviation by Route', fontsize=18)\n",
    "plt.xlabel('Schedule Deviation (minutes)',fontsize=14)\n",
    "plt.ylabel('Route',fontsize=14)\n",
    "sns.despine()\n",
    "plt.tight_layout()"
   ]
  },
  {
   "cell_type": "markdown",
   "metadata": {},
   "source": [
    "Looking at the plot, Routes 20 and 23 appear to have the best average schedule deviation (mean closest to zero). Route 4 seems to have the widest range and Route 2 has the highest average deviation from the schedule. But overall, the routes appear to have a normal distribution in terms of deviation from the schedule. The two dashed vertical lines indicate the area that is considered on-time. We can see that the majority of the data falls within the bounds of the two lines."
   ]
  },
  {
   "cell_type": "code",
   "execution_count": 98,
   "metadata": {},
   "outputs": [
    {
     "data": {
      "text/html": [
       "<style  type=\"text/css\" >\n",
       "</style><table id=\"T_c19e4_\" ><thead>    <tr>        <th class=\"blank level0\" ></th>        <th class=\"col_heading level0 col0\" >Sch. Dev. Mean</th>        <th class=\"col_heading level0 col1\" >Sch. Dev. Std</th>    </tr>    <tr>        <th class=\"index_name level0\" >Route</th>        <th class=\"blank\" ></th>        <th class=\"blank\" ></th>    </tr></thead><tbody>\n",
       "                <tr>\n",
       "                        <th id=\"T_c19e4_level0_row0\" class=\"row_heading level0 row0\" >2 - Greensboro Express</th>\n",
       "                        <td id=\"T_c19e4_row0_col0\" class=\"data row0 col0\" >4.212</td>\n",
       "                        <td id=\"T_c19e4_row0_col1\" class=\"data row0 col1\" >3.475</td>\n",
       "            </tr>\n",
       "            <tr>\n",
       "                        <th id=\"T_c19e4_level0_row1\" class=\"row_heading level0 row1\" >1 - Winston-Salem Express</th>\n",
       "                        <td id=\"T_c19e4_row1_col0\" class=\"data row1 col0\" >2.755</td>\n",
       "                        <td id=\"T_c19e4_row1_col1\" class=\"data row1 col1\" >3.122</td>\n",
       "            </tr>\n",
       "            <tr>\n",
       "                        <th id=\"T_c19e4_level0_row2\" class=\"row_heading level0 row2\" >4 - Alamance-Burlington Express</th>\n",
       "                        <td id=\"T_c19e4_row2_col0\" class=\"data row2 col0\" >2.444</td>\n",
       "                        <td id=\"T_c19e4_row2_col1\" class=\"data row2 col1\" >3.393</td>\n",
       "            </tr>\n",
       "            <tr>\n",
       "                        <th id=\"T_c19e4_level0_row3\" class=\"row_heading level0 row3\" >10 - Randolph Express</th>\n",
       "                        <td id=\"T_c19e4_row3_col0\" class=\"data row3 col0\" >2.035</td>\n",
       "                        <td id=\"T_c19e4_row3_col1\" class=\"data row3 col1\" >4.197</td>\n",
       "            </tr>\n",
       "            <tr>\n",
       "                        <th id=\"T_c19e4_level0_row4\" class=\"row_heading level0 row4\" >6 - Surry County Express</th>\n",
       "                        <td id=\"T_c19e4_row4_col0\" class=\"data row4 col0\" >1.987</td>\n",
       "                        <td id=\"T_c19e4_row4_col1\" class=\"data row4 col1\" >4.032</td>\n",
       "            </tr>\n",
       "            <tr>\n",
       "                        <th id=\"T_c19e4_level0_row5\" class=\"row_heading level0 row5\" >22 - SW Sandy Ridge</th>\n",
       "                        <td id=\"T_c19e4_row5_col0\" class=\"data row5 col0\" >1.919</td>\n",
       "                        <td id=\"T_c19e4_row5_col1\" class=\"data row5 col1\" >1.736</td>\n",
       "            </tr>\n",
       "            <tr>\n",
       "                        <th id=\"T_c19e4_level0_row6\" class=\"row_heading level0 row6\" >3 - High Point Express</th>\n",
       "                        <td id=\"T_c19e4_row6_col0\" class=\"data row6 col0\" >1.631</td>\n",
       "                        <td id=\"T_c19e4_row6_col1\" class=\"data row6 col1\" >2.220</td>\n",
       "            </tr>\n",
       "            <tr>\n",
       "                        <th id=\"T_c19e4_level0_row7\" class=\"row_heading level0 row7\" >21 - NE Chimney Rock</th>\n",
       "                        <td id=\"T_c19e4_row7_col0\" class=\"data row7 col0\" >1.357</td>\n",
       "                        <td id=\"T_c19e4_row7_col1\" class=\"data row7 col1\" >1.994</td>\n",
       "            </tr>\n",
       "            <tr>\n",
       "                        <th id=\"T_c19e4_level0_row8\" class=\"row_heading level0 row8\" >9 - Davidson Business 85 Express</th>\n",
       "                        <td id=\"T_c19e4_row8_col0\" class=\"data row8 col0\" >1.232</td>\n",
       "                        <td id=\"T_c19e4_row8_col1\" class=\"data row8 col1\" >3.659</td>\n",
       "            </tr>\n",
       "            <tr>\n",
       "                        <th id=\"T_c19e4_level0_row9\" class=\"row_heading level0 row9\" >24 - Burgess/Regional Rd</th>\n",
       "                        <td id=\"T_c19e4_row9_col0\" class=\"data row9 col0\" >1.194</td>\n",
       "                        <td id=\"T_c19e4_row9_col1\" class=\"data row9 col1\" >2.142</td>\n",
       "            </tr>\n",
       "            <tr>\n",
       "                        <th id=\"T_c19e4_level0_row10\" class=\"row_heading level0 row10\" >17 - Kernersville Express</th>\n",
       "                        <td id=\"T_c19e4_row10_col0\" class=\"data row10 col0\" >0.984</td>\n",
       "                        <td id=\"T_c19e4_row10_col1\" class=\"data row10 col1\" >2.766</td>\n",
       "            </tr>\n",
       "            <tr>\n",
       "                        <th id=\"T_c19e4_level0_row11\" class=\"row_heading level0 row11\" >20 - NW Pleasant Ridge</th>\n",
       "                        <td id=\"T_c19e4_row11_col0\" class=\"data row11 col0\" >0.401</td>\n",
       "                        <td id=\"T_c19e4_row11_col1\" class=\"data row11 col1\" >2.103</td>\n",
       "            </tr>\n",
       "            <tr>\n",
       "                        <th id=\"T_c19e4_level0_row12\" class=\"row_heading level0 row12\" >23 - SE Piedmont Parkway</th>\n",
       "                        <td id=\"T_c19e4_row12_col0\" class=\"data row12 col0\" >0.242</td>\n",
       "                        <td id=\"T_c19e4_row12_col1\" class=\"data row12 col1\" >2.148</td>\n",
       "            </tr>\n",
       "    </tbody></table>"
      ],
      "text/plain": [
       "<pandas.io.formats.style.Styler at 0x2ac16f10388>"
      ]
     },
     "execution_count": 98,
     "metadata": {},
     "output_type": "execute_result"
    }
   ],
   "source": [
    "sch_dev_mean = df.groupby('Route')['Schedule Deviation'].mean().to_frame()\n",
    "sch_dev_std = df.groupby('Route')['Schedule Deviation'].std().to_frame()\n",
    "\n",
    "sch_dev_perf = sch_dev_mean.merge(sch_dev_std, on='Route')\n",
    "sch_dev_perf.rename(columns={\n",
    "    'Schedule Deviation_x': 'Sch. Dev. Mean',\n",
    "    'Schedule Deviation_y': 'Sch. Dev. Std'\n",
    "}, inplace=True)\n",
    "sch_dev_perf.sort_values('Sch. Dev. Mean', ascending=False).style.format({\n",
    "    'Sch. Dev. Mean': '{:,.3f}', 'Sch. Dev. Std': '{:,.3f}'\n",
    "})"
   ]
  },
  {
   "cell_type": "code",
   "execution_count": 99,
   "metadata": {},
   "outputs": [
    {
     "data": {
      "text/html": [
       "<style  type=\"text/css\" >\n",
       "</style><table id=\"T_7593d_\" ><thead>    <tr>        <th class=\"blank level0\" ></th>        <th class=\"col_heading level0 col0\" >Count</th>    </tr>    <tr>        <th class=\"index_name level0\" >Stop Name</th>        <th class=\"blank\" ></th>    </tr></thead><tbody>\n",
       "                <tr>\n",
       "                        <th id=\"T_7593d_level0_row0\" class=\"row_heading level0 row0\" >Four Seasons Mall</th>\n",
       "                        <td id=\"T_7593d_row0_col0\" class=\"data row0 col0\" >1,384</td>\n",
       "            </tr>\n",
       "            <tr>\n",
       "                        <th id=\"T_7593d_level0_row1\" class=\"row_heading level0 row1\" >Innovation Quarter</th>\n",
       "                        <td id=\"T_7593d_row1_col0\" class=\"data row1 col0\" >642</td>\n",
       "            </tr>\n",
       "            <tr>\n",
       "                        <th id=\"T_7593d_level0_row2\" class=\"row_heading level0 row2\" >Coble Transportation Center</th>\n",
       "                        <td id=\"T_7593d_row2_col0\" class=\"data row2 col0\" >431</td>\n",
       "            </tr>\n",
       "            <tr>\n",
       "                        <th id=\"T_7593d_level0_row3\" class=\"row_heading level0 row3\" >Greensboro Depot</th>\n",
       "                        <td id=\"T_7593d_row3_col0\" class=\"data row3 col0\" >363</td>\n",
       "            </tr>\n",
       "            <tr>\n",
       "                        <th id=\"T_7593d_level0_row4\" class=\"row_heading level0 row4\" >Coliseum & Freeman Mill</th>\n",
       "                        <td id=\"T_7593d_row4_col0\" class=\"data row4 col0\" >200</td>\n",
       "            </tr>\n",
       "            <tr>\n",
       "                        <th id=\"T_7593d_level0_row5\" class=\"row_heading level0 row5\" >Gate City Blvd & Glenwood Ave</th>\n",
       "                        <td id=\"T_7593d_row5_col0\" class=\"data row5 col0\" >170</td>\n",
       "            </tr>\n",
       "            <tr>\n",
       "                        <th id=\"T_7593d_level0_row6\" class=\"row_heading level0 row6\" >North Asheboro Park & Ride</th>\n",
       "                        <td id=\"T_7593d_row6_col0\" class=\"data row6 col0\" >147</td>\n",
       "            </tr>\n",
       "            <tr>\n",
       "                        <th id=\"T_7593d_level0_row7\" class=\"row_heading level0 row7\" >Winston-Salem Transportation Center</th>\n",
       "                        <td id=\"T_7593d_row7_col0\" class=\"data row7 col0\" >139</td>\n",
       "            </tr>\n",
       "            <tr>\n",
       "                        <th id=\"T_7593d_level0_row8\" class=\"row_heading level0 row8\" >Randleman Park & Ride</th>\n",
       "                        <td id=\"T_7593d_row8_col0\" class=\"data row8 col0\" >136</td>\n",
       "            </tr>\n",
       "            <tr>\n",
       "                        <th id=\"T_7593d_level0_row9\" class=\"row_heading level0 row9\" >Randolph Health</th>\n",
       "                        <td id=\"T_7593d_row9_col0\" class=\"data row9 col0\" >133</td>\n",
       "            </tr>\n",
       "    </tbody></table>"
      ],
      "text/plain": [
       "<pandas.io.formats.style.Styler at 0x2ac17bd20c8>"
      ]
     },
     "execution_count": 99,
     "metadata": {},
     "output_type": "execute_result"
    }
   ],
   "source": [
    "late_records = df[df['Status'] == 'Late']\n",
    "\n",
    "top_10_late = late_records.groupby('Stop Name').size().sort_values(ascending=False)[:10].to_frame()\n",
    "top_10_late.rename(columns={0: 'Count'}, inplace=True)\n",
    "top_10_late.style.format({'Count': '{:,}'})"
   ]
  },
  {
   "cell_type": "markdown",
   "metadata": {},
   "source": [
    "It is now evident why Route 2 reported a lower than expected on-time performance. Almost 1,400 late observations occurred at Four Seasons Mall. Route 2 is the only route to serve this stop. One important note regarding this data, a few of the time points are published early which ensures passengers have enough time to make it to the stop before the bus arrives. Four Seasons Mall is such a stop. For example, one of the published time points for this stop is 6:25 AM. The bus may not arrive until 6:27 AM but by publishing the time as 6:25 AM, passengers will be sure to be at the stop by the time the bus arrives. Innovation Quarter is another example of this type of adjustment but for Route 1. What's interesting is that the mid-route time point for Route 3 is missing from this list which also has its time adjusted. Let's dig into the Four Seasons Mall data."
   ]
  },
  {
   "cell_type": "code",
   "execution_count": 127,
   "metadata": {},
   "outputs": [
    {
     "data": {
      "image/png": "[encoded data removed]",
      "text/plain": [
       "<Figure size 1080x432 with 1 Axes>"
      ]
     },
     "metadata": {
      "needs_background": "light"
     },
     "output_type": "display_data"
    }
   ],
   "source": [
    "four_seasons_mall_late = late_records[late_records['Stop Name'] == 'Four Seasons Mall']\n",
    "\n",
    "mall_late_by_date = four_seasons_mall_late.groupby('Date').size()\n",
    "\n",
    "plt.figure(figsize=(15,6))\n",
    "ax = sns.lineplot(data=mall_late_by_date, lw=2.2)\n",
    "plt.xlabel('Date',fontsize=13)\n",
    "plt.ylabel('Count',fontsize=13)\n",
    "plt.title('Late Departures from Four Seasons Mall', fontsize=15)\n",
    "sns.despine()\n",
    "plt.show()"
   ]
  },
  {
   "cell_type": "markdown",
   "metadata": {},
   "source": [
    "There doesn't appear to be any concentration of late records around a particular day. Let's now check by trip time."
   ]
  },
  {
   "cell_type": "code",
   "execution_count": 128,
   "metadata": {},
   "outputs": [
    {
     "data": {
      "image/png": "[encoded data removed]",
      "text/plain": [
       "<Figure size 1080x432 with 1 Axes>"
      ]
     },
     "metadata": {
      "needs_background": "light"
     },
     "output_type": "display_data"
    }
   ],
   "source": [
    "mall_late_by_trip = four_seasons_mall_late.groupby('Trip Start Time').size()\n",
    "mall_late_by_trip.index.astype('string')\n",
    "\n",
    "plt.figure(figsize=(15,6))\n",
    "ax = sns.lineplot(data=mall_late_by_trip, lw=2.2)\n",
    "plt.xlabel('Trip Start Time',fontsize=13)\n",
    "plt.ylabel('Count',fontsize=13)\n",
    "plt.title('Late Departures from Four Seasons Mall', fontsize=15)\n",
    "plt.xticks(rotation = 90)\n",
    "sns.despine()\n",
    "plt.show()"
   ]
  },
  {
   "cell_type": "markdown",
   "metadata": {},
   "source": [
    "This looks like an interesting plot. We see a series of high values followed by a steep drop. There appears to be a more consistent pattern during the AM Peak and PM Peak. Perhaps, the issue lies in a certain direction, for example, eastbound or westbound. Let's dig a little deeper..."
   ]
  },
  {
   "cell_type": "code",
   "execution_count": 102,
   "metadata": {},
   "outputs": [
    {
     "data": {
      "text/plain": [
       "Direction\n",
       "Dir = 0     254\n",
       "Dir = 1    1130\n",
       "dtype: int64"
      ]
     },
     "execution_count": 102,
     "metadata": {},
     "output_type": "execute_result"
    }
   ],
   "source": [
    "mall_late_by_dir = four_seasons_mall_late.groupby('Direction').size()\n",
    "mall_late_by_dir"
   ]
  },
  {
   "cell_type": "markdown",
   "metadata": {},
   "source": [
    "On Route 2, Dir=1 equates to an outbound trip, or a trip leaving the Coble Transportation Center and heading east to the Greensboro Depot. Let's check out the distribution of schedule deviation for outbound trips at Four Seasons Mall for Route 2."
   ]
  },
  {
   "cell_type": "code",
   "execution_count": 103,
   "metadata": {},
   "outputs": [
    {
     "data": {
      "image/png": "[encoded data removed]",
      "text/plain": [
       "<Figure size 756x432 with 1 Axes>"
      ]
     },
     "metadata": {
      "needs_background": "light"
     },
     "output_type": "display_data"
    }
   ],
   "source": [
    "late_fourseasons_outbound = four_seasons_mall_late[four_seasons_mall_late['Direction'] == 'Dir = 1']\n",
    "mean_outbound = round(late_fourseasons_outbound['Schedule Deviation'].mean(), 2)\n",
    "\n",
    "# create histogram for schedule deviation\n",
    "ax = sns.displot(late_fourseasons_outbound, x='Schedule Deviation', bins=50, height=6, aspect=1.75)\n",
    "plt.axvline(mean_outbound, 0, 0.9, color='red', ls='--', lw=2.6)\n",
    "plt.text(8.73, 115, 'mean, ' + str(mean_outbound), size='large')\n",
    "plt.xlabel('Schedule Deviation (minutes)',fontsize=13)\n",
    "plt.ylabel('Count',fontsize=13)\n",
    "plt.title('Distribution of Schedule Deviation at Four Seasons Mall on Outbound Trips', fontsize=15)\n",
    "plt.show()"
   ]
  },
  {
   "cell_type": "markdown",
   "metadata": {},
   "source": [
    "It looks like a pretty heavily skewed distribution and that is causing the mean to be affected. Let me just highlight again that the scheduled time at this stop has been adjusted to ensure passengers are at the stop when the bus arrives. With the majority of observations being between 6 and 8 minutes, I'm not too concerned. If this was an issue, I imagine we would have customers calling about it. Let's check the median value, which is less affected by outliers in the data set."
   ]
  },
  {
   "cell_type": "code",
   "execution_count": 104,
   "metadata": {},
   "outputs": [
    {
     "data": {
      "text/plain": [
       "8.13"
      ]
     },
     "execution_count": 104,
     "metadata": {},
     "output_type": "execute_result"
    }
   ],
   "source": [
    "round(late_fourseasons_outbound['Schedule Deviation'].median(), 2)"
   ]
  },
  {
   "cell_type": "markdown",
   "metadata": {},
   "source": [
    "Wow! It's not that far off from the mean value. Maybe the outliers are not intense enough to pull the mean farther to the right. Since this stop is in the middle of the route and the data shows that the outbound trip tends to be late, let's check the start of line for inbound trips to see if they are departing on-time or late."
   ]
  },
  {
   "cell_type": "code",
   "execution_count": 105,
   "metadata": {},
   "outputs": [
    {
     "data": {
      "text/html": [
       "<div>\n",
       "<style scoped>\n",
       "    .dataframe tbody tr th:only-of-type {\n",
       "        vertical-align: middle;\n",
       "    }\n",
       "\n",
       "    .dataframe tbody tr th {\n",
       "        vertical-align: top;\n",
       "    }\n",
       "\n",
       "    .dataframe thead th {\n",
       "        text-align: right;\n",
       "    }\n",
       "</style>\n",
       "<table border=\"1\" class=\"dataframe\">\n",
       "  <thead>\n",
       "    <tr style=\"text-align: right;\">\n",
       "      <th></th>\n",
       "      <th>Status</th>\n",
       "    </tr>\n",
       "  </thead>\n",
       "  <tbody>\n",
       "    <tr>\n",
       "      <th>On Time</th>\n",
       "      <td>1084</td>\n",
       "    </tr>\n",
       "    <tr>\n",
       "      <th>Late</th>\n",
       "      <td>194</td>\n",
       "    </tr>\n",
       "    <tr>\n",
       "      <th>Early</th>\n",
       "      <td>3</td>\n",
       "    </tr>\n",
       "  </tbody>\n",
       "</table>\n",
       "</div>"
      ],
      "text/plain": [
       "         Status\n",
       "On Time    1084\n",
       "Late        194\n",
       "Early         3"
      ]
     },
     "execution_count": 105,
     "metadata": {},
     "output_type": "execute_result"
    }
   ],
   "source": [
    "df[\n",
    "    (df['Route'] == '2 - Greensboro Express') &\n",
    "    (df['Direction'] == 'Dir = 0') &\n",
    "    (df['Time Point Number'] == 0)\n",
    "]['Status'].value_counts().to_frame()"
   ]
  },
  {
   "cell_type": "markdown",
   "metadata": {},
   "source": [
    "While there appears to be a large number of outbound trips that are being recorded as late at Four Seasons Mall, the dataframe above shows that the majority of inbound trips leaving the Greensboro Depot on Route 2 are on-time. "
   ]
  },
  {
   "cell_type": "markdown",
   "metadata": {},
   "source": [
    "Looking back in the data, we saw that Route 22 only had 600 observations. Let's dig into this and try and find out what is happening. Was data being collected up until a certain point or has the data collection be scattered through the period?"
   ]
  },
  {
   "cell_type": "code",
   "execution_count": 106,
   "metadata": {},
   "outputs": [],
   "source": [
    "route22_by_date = df[df['Route'] == '22 - SW Sandy Ridge'].groupby('Date').size()"
   ]
  },
  {
   "cell_type": "code",
   "execution_count": 107,
   "metadata": {},
   "outputs": [
    {
     "data": {
      "text/plain": [
       "(<Figure size 900x244.8 with 3 Axes>,\n",
       " array([<AxesSubplot:ylabel='2020'>, <AxesSubplot:ylabel='2021'>],\n",
       "       dtype=object))"
      ]
     },
     "execution_count": 107,
     "metadata": {},
     "output_type": "execute_result"
    },
    {
     "data": {
      "image/png": "[encoded data removed]",
      "text/plain": [
       "<Figure size 900x244.8 with 3 Axes>"
      ]
     },
     "metadata": {
      "needs_background": "light"
     },
     "output_type": "display_data"
    }
   ],
   "source": [
    "calplot.calplot(route22_by_date, edgecolor='gray', suptitle='Route 22 Observations', cmap='YlGn')"
   ]
  },
  {
   "cell_type": "markdown",
   "metadata": {},
   "source": [
    "It looks like there are several days where the number of observations are low and other days where no observations were collected. Data is consistent throughout the analysis period. Let's examine one of the other shuttles for comparison."
   ]
  },
  {
   "cell_type": "code",
   "execution_count": 108,
   "metadata": {},
   "outputs": [],
   "source": [
    "route20_by_date = df[df['Route'] == '20 - NW Pleasant Ridge'].groupby('Date').size()"
   ]
  },
  {
   "cell_type": "code",
   "execution_count": 109,
   "metadata": {},
   "outputs": [
    {
     "data": {
      "text/plain": [
       "(<Figure size 900x244.8 with 3 Axes>,\n",
       " array([<AxesSubplot:ylabel='2020'>, <AxesSubplot:ylabel='2021'>],\n",
       "       dtype=object))"
      ]
     },
     "execution_count": 109,
     "metadata": {},
     "output_type": "execute_result"
    },
    {
     "data": {
      "image/png": "[encoded data removed]",
      "text/plain": [
       "<Figure size 900x244.8 with 3 Axes>"
      ]
     },
     "metadata": {
      "needs_background": "light"
     },
     "output_type": "display_data"
    }
   ],
   "source": [
    "calplot.calplot(route20_by_date, edgecolor='gray', suptitle='Route 20 Observations', cmap='YlGn')"
   ]
  },
  {
   "cell_type": "markdown",
   "metadata": {},
   "source": [
    "Right away, we can see a little more consistency in the data. Also, if we look at the scale bar, we can see that Route 20 has significantly more observations per day than Route 22. However, there are also some interesting patterns in this data. For example, the second to last week of December has lower observations. While there was no service on Christmas day, we did not run reduced service around the holidays. January started out with lots of data being collected by then trails off as the month goes on.\n",
    "\n",
    "Back to the question at hand, while sparse, it appears that Route 22 has data for the entire analysis period. Let's try looking at the `Trip Start Time` column and see if only certain trips are being collected."
   ]
  },
  {
   "cell_type": "code",
   "execution_count": 110,
   "metadata": {},
   "outputs": [],
   "source": [
    "route22_by_trip = df[df['Route'] == '22 - SW Sandy Ridge'].groupby('Trip Start Time').size().to_frame()\n",
    "route22_by_trip.rename(columns={0: 'Count'}, inplace=True)"
   ]
  },
  {
   "cell_type": "code",
   "execution_count": 111,
   "metadata": {},
   "outputs": [
    {
     "data": {
      "image/png": "[encoded data removed]",
      "text/plain": [
       "<Figure size 1080x432 with 1 Axes>"
      ]
     },
     "metadata": {
      "needs_background": "light"
     },
     "output_type": "display_data"
    }
   ],
   "source": [
    "plt.figure(figsize=(15,6))\n",
    "ax = sns.barplot(x=route22_by_trip.index, y='Count', data=route22_by_trip, color='blue', saturation=0.25)\n",
    "plt.xlabel('Trip Start Time',fontsize=13)\n",
    "plt.ylabel('Count',fontsize=13)\n",
    "plt.title('Route 22 Observations by Trip Time', fontsize=15)\n",
    "plt.xticks(rotation = 90)\n",
    "sns.despine()\n",
    "plt.show()"
   ]
  },
  {
   "cell_type": "markdown",
   "metadata": {},
   "source": [
    "It appears that some trips are being collected more than others. For example, the 7:15 AM and the 7:45 AM trips both have more than 50 observations while the 4:45 PM and the 8:45 PM trips have around 10 observations. We may need to share this information with the APC vendor."
   ]
  },
  {
   "cell_type": "markdown",
   "metadata": {},
   "source": [
    "### Conclusion"
   ]
  },
  {
   "cell_type": "markdown",
   "metadata": {},
   "source": [
    "Looking back, we can see that PART Express has an overall system on-time performance of approximately 76%. Let us keep in mind that a few of the time points are adjusted to ensure that passengers arrive to the bus stop with enough time. When we consider that factor and review the data presented above, we can be confident that the on-time performance is likely higher than the 76%. It also appears that we discovered some inconsistencies and irregularities in the data. This will need to be addressed with the APC vendor."
   ]
  },
  {
   "cell_type": "code",
   "execution_count": null,
   "metadata": {},
   "outputs": [],
   "source": []
  }
 ],
 "metadata": {
  "kernelspec": {
   "display_name": "Python 3",
   "language": "python",
   "name": "python3"
  },
  "language_info": {
   "codemirror_mode": {
    "name": "ipython",
    "version": 3
   },
   "file_extension": ".py",
   "mimetype": "text/x-python",
   "name": "python",
   "nbconvert_exporter": "python",
   "pygments_lexer": "ipython3",
   "version": "3.7.9"
  }
 },
 "nbformat": 4,
 "nbformat_minor": 4
}
